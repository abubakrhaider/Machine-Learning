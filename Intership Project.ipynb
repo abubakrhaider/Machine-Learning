{
 "cells": [
  {
   "cell_type": "markdown",
   "metadata": {},
   "source": [
    "#### Internship Project\n",
    "#### abuhaider2011@gmail.com\n",
    "#### Mob: 7259902029"
   ]
  },
  {
   "cell_type": "markdown",
   "metadata": {},
   "source": [
    "#### Importing The Important Libraries"
   ]
  },
  {
   "cell_type": "code",
   "execution_count": 361,
   "metadata": {},
   "outputs": [],
   "source": [
    "import numpy as np\n",
    "import pandas as pd\n",
    "import matplotlib.pyplot as plt\n",
    "%matplotlib inline\n",
    "import seaborn as sns"
   ]
  },
  {
   "cell_type": "markdown",
   "metadata": {},
   "source": [
    "#### Reading the xlsx file"
   ]
  },
  {
   "cell_type": "code",
   "execution_count": 362,
   "metadata": {},
   "outputs": [],
   "source": [
    "file = 'DA-1.xlsx'\n",
    "# Load spreadsheet\n",
    "x = pd.ExcelFile(file)"
   ]
  },
  {
   "cell_type": "code",
   "execution_count": 363,
   "metadata": {},
   "outputs": [],
   "source": [
    "# Load a sheet into a DataFrame by name: df1\n",
    "df1 = x.parse('SampleData1')"
   ]
  },
  {
   "cell_type": "code",
   "execution_count": 364,
   "metadata": {},
   "outputs": [
    {
     "data": {
      "text/html": [
       "<div>\n",
       "<style scoped>\n",
       "    .dataframe tbody tr th:only-of-type {\n",
       "        vertical-align: middle;\n",
       "    }\n",
       "\n",
       "    .dataframe tbody tr th {\n",
       "        vertical-align: top;\n",
       "    }\n",
       "\n",
       "    .dataframe thead th {\n",
       "        text-align: right;\n",
       "    }\n",
       "</style>\n",
       "<table border=\"1\" class=\"dataframe\">\n",
       "  <thead>\n",
       "    <tr style=\"text-align: right;\">\n",
       "      <th></th>\n",
       "      <th>Id</th>\n",
       "      <th>Type</th>\n",
       "      <th>Date</th>\n",
       "      <th>CountA</th>\n",
       "      <th>CountB</th>\n",
       "      <th>CountC</th>\n",
       "      <th>FeedBack</th>\n",
       "    </tr>\n",
       "  </thead>\n",
       "  <tbody>\n",
       "    <tr>\n",
       "      <th>1</th>\n",
       "      <td>10121</td>\n",
       "      <td>Email</td>\n",
       "      <td>2016-08-04 10:16:47</td>\n",
       "      <td>0.773005</td>\n",
       "      <td>0.662162</td>\n",
       "      <td>0.622776</td>\n",
       "      <td>Others</td>\n",
       "    </tr>\n",
       "    <tr>\n",
       "      <th>2</th>\n",
       "      <td>10122</td>\n",
       "      <td>Email</td>\n",
       "      <td>2016-08-04 10:18:28</td>\n",
       "      <td>0.193826</td>\n",
       "      <td>0.870958</td>\n",
       "      <td>0.328081</td>\n",
       "      <td>Others</td>\n",
       "    </tr>\n",
       "    <tr>\n",
       "      <th>3</th>\n",
       "      <td>10123</td>\n",
       "      <td>Email</td>\n",
       "      <td>2016-08-04 10:30:24</td>\n",
       "      <td>0.772299</td>\n",
       "      <td>0.322429</td>\n",
       "      <td>0.456233</td>\n",
       "      <td>Others</td>\n",
       "    </tr>\n",
       "    <tr>\n",
       "      <th>4</th>\n",
       "      <td>10124</td>\n",
       "      <td>Email</td>\n",
       "      <td>2016-08-04 10:41:56</td>\n",
       "      <td>0.485769</td>\n",
       "      <td>0.128755</td>\n",
       "      <td>0.575060</td>\n",
       "      <td>Others</td>\n",
       "    </tr>\n",
       "    <tr>\n",
       "      <th>5</th>\n",
       "      <td>10125</td>\n",
       "      <td>Email</td>\n",
       "      <td>2016-08-04 10:59:00</td>\n",
       "      <td>0.015268</td>\n",
       "      <td>0.216612</td>\n",
       "      <td>0.098125</td>\n",
       "      <td>Others</td>\n",
       "    </tr>\n",
       "  </tbody>\n",
       "</table>\n",
       "</div>"
      ],
      "text/plain": [
       "      Id   Type                Date    CountA    CountB    CountC FeedBack\n",
       "1  10121  Email 2016-08-04 10:16:47  0.773005  0.662162  0.622776   Others\n",
       "2  10122  Email 2016-08-04 10:18:28  0.193826  0.870958  0.328081   Others\n",
       "3  10123  Email 2016-08-04 10:30:24  0.772299  0.322429  0.456233   Others\n",
       "4  10124  Email 2016-08-04 10:41:56  0.485769  0.128755  0.575060   Others\n",
       "5  10125  Email 2016-08-04 10:59:00  0.015268  0.216612  0.098125   Others"
      ]
     },
     "execution_count": 364,
     "metadata": {},
     "output_type": "execute_result"
    }
   ],
   "source": [
    "df1.head(5)"
   ]
  },
  {
   "cell_type": "code",
   "execution_count": 365,
   "metadata": {},
   "outputs": [],
   "source": [
    "df2 = x.parse('SampleData2')"
   ]
  },
  {
   "cell_type": "code",
   "execution_count": 366,
   "metadata": {},
   "outputs": [
    {
     "data": {
      "text/html": [
       "<div>\n",
       "<style scoped>\n",
       "    .dataframe tbody tr th:only-of-type {\n",
       "        vertical-align: middle;\n",
       "    }\n",
       "\n",
       "    .dataframe tbody tr th {\n",
       "        vertical-align: top;\n",
       "    }\n",
       "\n",
       "    .dataframe thead th {\n",
       "        text-align: right;\n",
       "    }\n",
       "</style>\n",
       "<table border=\"1\" class=\"dataframe\">\n",
       "  <thead>\n",
       "    <tr style=\"text-align: right;\">\n",
       "      <th></th>\n",
       "      <th>Id</th>\n",
       "      <th>User</th>\n",
       "    </tr>\n",
       "  </thead>\n",
       "  <tbody>\n",
       "    <tr>\n",
       "      <th>1</th>\n",
       "      <td>10121</td>\n",
       "      <td>A1005</td>\n",
       "    </tr>\n",
       "    <tr>\n",
       "      <th>2</th>\n",
       "      <td>10122</td>\n",
       "      <td>A1002</td>\n",
       "    </tr>\n",
       "    <tr>\n",
       "      <th>3</th>\n",
       "      <td>10123</td>\n",
       "      <td>A1002</td>\n",
       "    </tr>\n",
       "    <tr>\n",
       "      <th>4</th>\n",
       "      <td>10124</td>\n",
       "      <td>A1002</td>\n",
       "    </tr>\n",
       "    <tr>\n",
       "      <th>5</th>\n",
       "      <td>10125</td>\n",
       "      <td>A1002</td>\n",
       "    </tr>\n",
       "  </tbody>\n",
       "</table>\n",
       "</div>"
      ],
      "text/plain": [
       "      Id   User\n",
       "1  10121  A1005\n",
       "2  10122  A1002\n",
       "3  10123  A1002\n",
       "4  10124  A1002\n",
       "5  10125  A1002"
      ]
     },
     "execution_count": 366,
     "metadata": {},
     "output_type": "execute_result"
    }
   ],
   "source": [
    "df2.head(5)"
   ]
  },
  {
   "cell_type": "markdown",
   "metadata": {},
   "source": [
    "#### Merging the two dataset on key(Id)"
   ]
  },
  {
   "cell_type": "code",
   "execution_count": 367,
   "metadata": {},
   "outputs": [],
   "source": [
    "df=pd.merge(df1, df2, on='Id')"
   ]
  },
  {
   "cell_type": "code",
   "execution_count": 368,
   "metadata": {},
   "outputs": [
    {
     "data": {
      "text/html": [
       "<div>\n",
       "<style scoped>\n",
       "    .dataframe tbody tr th:only-of-type {\n",
       "        vertical-align: middle;\n",
       "    }\n",
       "\n",
       "    .dataframe tbody tr th {\n",
       "        vertical-align: top;\n",
       "    }\n",
       "\n",
       "    .dataframe thead th {\n",
       "        text-align: right;\n",
       "    }\n",
       "</style>\n",
       "<table border=\"1\" class=\"dataframe\">\n",
       "  <thead>\n",
       "    <tr style=\"text-align: right;\">\n",
       "      <th></th>\n",
       "      <th>Id</th>\n",
       "      <th>Type</th>\n",
       "      <th>Date</th>\n",
       "      <th>CountA</th>\n",
       "      <th>CountB</th>\n",
       "      <th>CountC</th>\n",
       "      <th>FeedBack</th>\n",
       "      <th>User</th>\n",
       "    </tr>\n",
       "  </thead>\n",
       "  <tbody>\n",
       "    <tr>\n",
       "      <th>0</th>\n",
       "      <td>10121</td>\n",
       "      <td>Email</td>\n",
       "      <td>2016-08-04 10:16:47</td>\n",
       "      <td>0.773005</td>\n",
       "      <td>0.662162</td>\n",
       "      <td>0.622776</td>\n",
       "      <td>Others</td>\n",
       "      <td>A1005</td>\n",
       "    </tr>\n",
       "    <tr>\n",
       "      <th>1</th>\n",
       "      <td>10122</td>\n",
       "      <td>Email</td>\n",
       "      <td>2016-08-04 10:18:28</td>\n",
       "      <td>0.193826</td>\n",
       "      <td>0.870958</td>\n",
       "      <td>0.328081</td>\n",
       "      <td>Others</td>\n",
       "      <td>A1002</td>\n",
       "    </tr>\n",
       "    <tr>\n",
       "      <th>2</th>\n",
       "      <td>10123</td>\n",
       "      <td>Email</td>\n",
       "      <td>2016-08-04 10:30:24</td>\n",
       "      <td>0.772299</td>\n",
       "      <td>0.322429</td>\n",
       "      <td>0.456233</td>\n",
       "      <td>Others</td>\n",
       "      <td>A1002</td>\n",
       "    </tr>\n",
       "    <tr>\n",
       "      <th>3</th>\n",
       "      <td>10124</td>\n",
       "      <td>Email</td>\n",
       "      <td>2016-08-04 10:41:56</td>\n",
       "      <td>0.485769</td>\n",
       "      <td>0.128755</td>\n",
       "      <td>0.575060</td>\n",
       "      <td>Others</td>\n",
       "      <td>A1002</td>\n",
       "    </tr>\n",
       "    <tr>\n",
       "      <th>4</th>\n",
       "      <td>10125</td>\n",
       "      <td>Email</td>\n",
       "      <td>2016-08-04 10:59:00</td>\n",
       "      <td>0.015268</td>\n",
       "      <td>0.216612</td>\n",
       "      <td>0.098125</td>\n",
       "      <td>Others</td>\n",
       "      <td>A1002</td>\n",
       "    </tr>\n",
       "  </tbody>\n",
       "</table>\n",
       "</div>"
      ],
      "text/plain": [
       "      Id   Type                Date    CountA    CountB    CountC FeedBack  \\\n",
       "0  10121  Email 2016-08-04 10:16:47  0.773005  0.662162  0.622776   Others   \n",
       "1  10122  Email 2016-08-04 10:18:28  0.193826  0.870958  0.328081   Others   \n",
       "2  10123  Email 2016-08-04 10:30:24  0.772299  0.322429  0.456233   Others   \n",
       "3  10124  Email 2016-08-04 10:41:56  0.485769  0.128755  0.575060   Others   \n",
       "4  10125  Email 2016-08-04 10:59:00  0.015268  0.216612  0.098125   Others   \n",
       "\n",
       "    User  \n",
       "0  A1005  \n",
       "1  A1002  \n",
       "2  A1002  \n",
       "3  A1002  \n",
       "4  A1002  "
      ]
     },
     "execution_count": 368,
     "metadata": {},
     "output_type": "execute_result"
    }
   ],
   "source": [
    "df.head(5)"
   ]
  },
  {
   "cell_type": "code",
   "execution_count": 369,
   "metadata": {},
   "outputs": [
    {
     "name": "stdout",
     "output_type": "stream",
     "text": [
      "66\n"
     ]
    }
   ],
   "source": [
    "print(len(df))"
   ]
  },
  {
   "cell_type": "markdown",
   "metadata": {},
   "source": [
    "#### Data Structure"
   ]
  },
  {
   "cell_type": "code",
   "execution_count": 370,
   "metadata": {},
   "outputs": [
    {
     "name": "stdout",
     "output_type": "stream",
     "text": [
      "<class 'pandas.core.frame.DataFrame'>\n",
      "Int64Index: 66 entries, 0 to 65\n",
      "Data columns (total 8 columns):\n",
      "Id          66 non-null int64\n",
      "Type        64 non-null object\n",
      "Date        66 non-null datetime64[ns]\n",
      "CountA      66 non-null float64\n",
      "CountB      66 non-null float64\n",
      "CountC      66 non-null float64\n",
      "FeedBack    64 non-null object\n",
      "User        66 non-null object\n",
      "dtypes: datetime64[ns](1), float64(3), int64(1), object(3)\n",
      "memory usage: 4.6+ KB\n"
     ]
    }
   ],
   "source": [
    "df.info()"
   ]
  },
  {
   "cell_type": "code",
   "execution_count": 371,
   "metadata": {},
   "outputs": [
    {
     "data": {
      "text/plain": [
       "Id          0\n",
       "Type        2\n",
       "Date        0\n",
       "CountA      0\n",
       "CountB      0\n",
       "CountC      0\n",
       "FeedBack    2\n",
       "User        0\n",
       "dtype: int64"
      ]
     },
     "execution_count": 371,
     "metadata": {},
     "output_type": "execute_result"
    }
   ],
   "source": [
    "df.isnull().sum()"
   ]
  },
  {
   "cell_type": "markdown",
   "metadata": {},
   "source": [
    "#### percentage of missing values"
   ]
  },
  {
   "cell_type": "code",
   "execution_count": 372,
   "metadata": {},
   "outputs": [],
   "source": [
    "def perc_missing(x):\n",
    "    return(x.isnull().sum()/len(x)*100)"
   ]
  },
  {
   "cell_type": "code",
   "execution_count": 373,
   "metadata": {},
   "outputs": [
    {
     "data": {
      "text/plain": [
       "Id          0.000000\n",
       "Type        3.030303\n",
       "Date        0.000000\n",
       "CountA      0.000000\n",
       "CountB      0.000000\n",
       "CountC      0.000000\n",
       "FeedBack    3.030303\n",
       "User        0.000000\n",
       "dtype: float64"
      ]
     },
     "execution_count": 373,
     "metadata": {},
     "output_type": "execute_result"
    }
   ],
   "source": [
    "perc_missing(df)"
   ]
  },
  {
   "cell_type": "markdown",
   "metadata": {},
   "source": [
    "#### Graphically Visualization of missing column"
   ]
  },
  {
   "cell_type": "code",
   "execution_count": 374,
   "metadata": {},
   "outputs": [
    {
     "data": {
      "text/plain": [
       "<matplotlib.axes._subplots.AxesSubplot at 0x1a254cccf8>"
      ]
     },
     "execution_count": 374,
     "metadata": {},
     "output_type": "execute_result"
    },
    {
     "data": {
      "image/png": "[encoded data removed]",
      "text/plain": [
       "<Figure size 432x288 with 1 Axes>"
      ]
     },
     "metadata": {},
     "output_type": "display_data"
    }
   ],
   "source": [
    "sns.heatmap(df.isnull(),yticklabels=False,cbar=False)"
   ]
  },
  {
   "cell_type": "markdown",
   "metadata": {},
   "source": [
    "#### Explanatory Data Analysis"
   ]
  },
  {
   "cell_type": "code",
   "execution_count": 375,
   "metadata": {},
   "outputs": [
    {
     "data": {
      "text/plain": [
       "Index(['Id', 'Type', 'Date', 'CountA', 'CountB', 'CountC', 'FeedBack', 'User'], dtype='object')"
      ]
     },
     "execution_count": 375,
     "metadata": {},
     "output_type": "execute_result"
    }
   ],
   "source": [
    "df.columns"
   ]
  },
  {
   "cell_type": "markdown",
   "metadata": {},
   "source": [
    "#### Data Description For Continous Variable"
   ]
  },
  {
   "cell_type": "code",
   "execution_count": 376,
   "metadata": {},
   "outputs": [
    {
     "data": {
      "text/html": [
       "<div>\n",
       "<style scoped>\n",
       "    .dataframe tbody tr th:only-of-type {\n",
       "        vertical-align: middle;\n",
       "    }\n",
       "\n",
       "    .dataframe tbody tr th {\n",
       "        vertical-align: top;\n",
       "    }\n",
       "\n",
       "    .dataframe thead th {\n",
       "        text-align: right;\n",
       "    }\n",
       "</style>\n",
       "<table border=\"1\" class=\"dataframe\">\n",
       "  <thead>\n",
       "    <tr style=\"text-align: right;\">\n",
       "      <th></th>\n",
       "      <th>count</th>\n",
       "      <th>mean</th>\n",
       "      <th>std</th>\n",
       "      <th>min</th>\n",
       "      <th>25%</th>\n",
       "      <th>50%</th>\n",
       "      <th>75%</th>\n",
       "      <th>max</th>\n",
       "    </tr>\n",
       "  </thead>\n",
       "  <tbody>\n",
       "    <tr>\n",
       "      <th>CountA</th>\n",
       "      <td>66.0</td>\n",
       "      <td>0.449231</td>\n",
       "      <td>0.288190</td>\n",
       "      <td>0.006013</td>\n",
       "      <td>0.221218</td>\n",
       "      <td>0.448362</td>\n",
       "      <td>0.721173</td>\n",
       "      <td>0.981381</td>\n",
       "    </tr>\n",
       "    <tr>\n",
       "      <th>CountB</th>\n",
       "      <td>66.0</td>\n",
       "      <td>0.487495</td>\n",
       "      <td>0.308335</td>\n",
       "      <td>0.001177</td>\n",
       "      <td>0.217050</td>\n",
       "      <td>0.544847</td>\n",
       "      <td>0.723734</td>\n",
       "      <td>0.979509</td>\n",
       "    </tr>\n",
       "    <tr>\n",
       "      <th>CountC</th>\n",
       "      <td>66.0</td>\n",
       "      <td>0.425085</td>\n",
       "      <td>0.270263</td>\n",
       "      <td>0.006691</td>\n",
       "      <td>0.209038</td>\n",
       "      <td>0.408826</td>\n",
       "      <td>0.641617</td>\n",
       "      <td>0.976614</td>\n",
       "    </tr>\n",
       "  </tbody>\n",
       "</table>\n",
       "</div>"
      ],
      "text/plain": [
       "        count      mean       std       min       25%       50%       75%  \\\n",
       "CountA   66.0  0.449231  0.288190  0.006013  0.221218  0.448362  0.721173   \n",
       "CountB   66.0  0.487495  0.308335  0.001177  0.217050  0.544847  0.723734   \n",
       "CountC   66.0  0.425085  0.270263  0.006691  0.209038  0.408826  0.641617   \n",
       "\n",
       "             max  \n",
       "CountA  0.981381  \n",
       "CountB  0.979509  \n",
       "CountC  0.976614  "
      ]
     },
     "execution_count": 376,
     "metadata": {},
     "output_type": "execute_result"
    }
   ],
   "source": [
    "df[['CountA', 'CountB', 'CountC']].describe().T"
   ]
  },
  {
   "cell_type": "markdown",
   "metadata": {},
   "source": [
    "Observation\n",
    "\n",
    "We observe from the above table & plot:\n",
    "\n",
    "For the following variables mean is almost equal to the 50% percentile or median indicating a possible normal distribution and the histogram to be symmetrical:\n",
    "\n",
    "1) CountA 2) CountC\n",
    "\n",
    "For the following variables mean is less than the 50% percentile or median indicating the distribution is skewed to the left:\n",
    "\n",
    "1) CountB\n"
   ]
  },
  {
   "cell_type": "code",
   "execution_count": 377,
   "metadata": {},
   "outputs": [
    {
     "name": "stderr",
     "output_type": "stream",
     "text": [
      "/Users/sanaam/anaconda3/lib/python3.6/site-packages/matplotlib/axes/_axes.py:6462: UserWarning: The 'normed' kwarg is deprecated, and has been replaced by the 'density' kwarg.\n",
      "  warnings.warn(\"The 'normed' kwarg is deprecated, and has been \"\n",
      "/Users/sanaam/anaconda3/lib/python3.6/site-packages/matplotlib/axes/_axes.py:6462: UserWarning: The 'normed' kwarg is deprecated, and has been replaced by the 'density' kwarg.\n",
      "  warnings.warn(\"The 'normed' kwarg is deprecated, and has been \"\n",
      "/Users/sanaam/anaconda3/lib/python3.6/site-packages/matplotlib/axes/_axes.py:6462: UserWarning: The 'normed' kwarg is deprecated, and has been replaced by the 'density' kwarg.\n",
      "  warnings.warn(\"The 'normed' kwarg is deprecated, and has been \"\n"
     ]
    },
    {
     "data": {
      "text/plain": [
       "Text(0.5,1,'boxplot for CountC')"
      ]
     },
     "execution_count": 377,
     "metadata": {},
     "output_type": "execute_result"
    },
    {
     "data": {
      "image/png": "[encoded data removed]",
      "text/plain": [
       "<Figure size 1080x720 with 6 Axes>"
      ]
     },
     "metadata": {},
     "output_type": "display_data"
    }
   ],
   "source": [
    "plt.figure(figsize = (15,10))\n",
    "plt.subplot(231)\n",
    "sns.distplot(df['CountA'],rug=True)\n",
    "plt.title(\"histogram for CountA\")\n",
    "plt.subplot(234)\n",
    "sns.boxplot(df.CountA)\n",
    "plt.title(\"boxplot for CountA\")\n",
    "\n",
    "plt.subplot(232)\n",
    "sns.distplot(df['CountB'],rug=True)\n",
    "plt.title(\"histogram for CountB\")\n",
    "plt.subplot(235)\n",
    "sns.boxplot(df.CountB)\n",
    "plt.title(\"boxplot for CountB\")\n",
    "\n",
    "\n",
    "plt.subplot(233)\n",
    "sns.distplot(df['CountC'],rug=True)\n",
    "plt.title(\"histogram for CountC'\")\n",
    "plt.subplot(236)\n",
    "sns.boxplot(df.CountC)\n",
    "plt.title(\"boxplot for CountC\")"
   ]
  },
  {
   "cell_type": "markdown",
   "metadata": {},
   "source": [
    "Observation\n",
    "\n",
    "1)The shape of the CountA histogram looks almost normal distribution with no outliers\n",
    "\n",
    "2)The shape of the CounB histogram looks slightly skewed to the left with no outliers.\n",
    "\n",
    "3)The shape of the CountC histogram looks normal distribution with no outliers.\n"
   ]
  },
  {
   "cell_type": "markdown",
   "metadata": {},
   "source": [
    "#### Data Description For Categorical Variable"
   ]
  },
  {
   "cell_type": "code",
   "execution_count": 378,
   "metadata": {},
   "outputs": [
    {
     "data": {
      "text/html": [
       "<div>\n",
       "<style scoped>\n",
       "    .dataframe tbody tr th:only-of-type {\n",
       "        vertical-align: middle;\n",
       "    }\n",
       "\n",
       "    .dataframe tbody tr th {\n",
       "        vertical-align: top;\n",
       "    }\n",
       "\n",
       "    .dataframe thead th {\n",
       "        text-align: right;\n",
       "    }\n",
       "</style>\n",
       "<table border=\"1\" class=\"dataframe\">\n",
       "  <thead>\n",
       "    <tr style=\"text-align: right;\">\n",
       "      <th></th>\n",
       "      <th>count</th>\n",
       "      <th>unique</th>\n",
       "      <th>top</th>\n",
       "      <th>freq</th>\n",
       "    </tr>\n",
       "  </thead>\n",
       "  <tbody>\n",
       "    <tr>\n",
       "      <th>Type</th>\n",
       "      <td>64</td>\n",
       "      <td>4</td>\n",
       "      <td>Update</td>\n",
       "      <td>37</td>\n",
       "    </tr>\n",
       "    <tr>\n",
       "      <th>FeedBack</th>\n",
       "      <td>64</td>\n",
       "      <td>8</td>\n",
       "      <td>Others</td>\n",
       "      <td>29</td>\n",
       "    </tr>\n",
       "    <tr>\n",
       "      <th>User</th>\n",
       "      <td>66</td>\n",
       "      <td>5</td>\n",
       "      <td>A1003</td>\n",
       "      <td>22</td>\n",
       "    </tr>\n",
       "  </tbody>\n",
       "</table>\n",
       "</div>"
      ],
      "text/plain": [
       "         count unique     top freq\n",
       "Type        64      4  Update   37\n",
       "FeedBack    64      8  Others   29\n",
       "User        66      5   A1003   22"
      ]
     },
     "execution_count": 378,
     "metadata": {},
     "output_type": "execute_result"
    }
   ],
   "source": [
    "df.describe(include = [np.object]).T"
   ]
  },
  {
   "cell_type": "code",
   "execution_count": 379,
   "metadata": {},
   "outputs": [
    {
     "data": {
      "text/plain": [
       "array(['Others', 'UNDECIDED', 'NC', nan, 'nc', 'NI', 'Undecided',\n",
       "       'undecided ', 'undecided'], dtype=object)"
      ]
     },
     "execution_count": 379,
     "metadata": {},
     "output_type": "execute_result"
    }
   ],
   "source": [
    "df.FeedBack.unique()"
   ]
  },
  {
   "cell_type": "code",
   "execution_count": 380,
   "metadata": {},
   "outputs": [],
   "source": [
    "df['FeedBack'].replace(['Undecided','undecided','undecided '],['UNDECIDED','UNDECIDED','UNDECIDED'],inplace=True)"
   ]
  },
  {
   "cell_type": "code",
   "execution_count": 381,
   "metadata": {},
   "outputs": [],
   "source": [
    "df['FeedBack'].replace('nc','NC',inplace=True)"
   ]
  },
  {
   "cell_type": "code",
   "execution_count": 382,
   "metadata": {},
   "outputs": [
    {
     "data": {
      "text/plain": [
       "array(['Others', 'UNDECIDED', 'NC', nan, 'NI'], dtype=object)"
      ]
     },
     "execution_count": 382,
     "metadata": {},
     "output_type": "execute_result"
    }
   ],
   "source": [
    "df.FeedBack.unique()"
   ]
  },
  {
   "cell_type": "code",
   "execution_count": 383,
   "metadata": {},
   "outputs": [
    {
     "data": {
      "text/plain": [
       "array(['A1005', 'A1002', 'A1001', 'A1003', 'A1004'], dtype=object)"
      ]
     },
     "execution_count": 383,
     "metadata": {},
     "output_type": "execute_result"
    }
   ],
   "source": [
    "df.User.unique()"
   ]
  },
  {
   "cell_type": "markdown",
   "metadata": {},
   "source": [
    "#### Changing User Variables into (A,B,C,D ) Users"
   ]
  },
  {
   "cell_type": "code",
   "execution_count": 384,
   "metadata": {},
   "outputs": [],
   "source": [
    "df['User'].replace(['A1005', 'A1002', 'A1001', 'A1003', 'A1004'],['UserE', 'UserB', 'UserA', 'UserC', 'UserD'],inplace=True)"
   ]
  },
  {
   "cell_type": "code",
   "execution_count": 385,
   "metadata": {},
   "outputs": [
    {
     "data": {
      "text/plain": [
       "array(['UserE', 'UserB', 'UserA', 'UserC', 'UserD'], dtype=object)"
      ]
     },
     "execution_count": 385,
     "metadata": {},
     "output_type": "execute_result"
    }
   ],
   "source": [
    "df.User.unique()"
   ]
  },
  {
   "cell_type": "code",
   "execution_count": 386,
   "metadata": {},
   "outputs": [
    {
     "data": {
      "text/html": [
       "<div>\n",
       "<style scoped>\n",
       "    .dataframe tbody tr th:only-of-type {\n",
       "        vertical-align: middle;\n",
       "    }\n",
       "\n",
       "    .dataframe tbody tr th {\n",
       "        vertical-align: top;\n",
       "    }\n",
       "\n",
       "    .dataframe thead th {\n",
       "        text-align: right;\n",
       "    }\n",
       "</style>\n",
       "<table border=\"1\" class=\"dataframe\">\n",
       "  <thead>\n",
       "    <tr style=\"text-align: right;\">\n",
       "      <th></th>\n",
       "      <th>Id</th>\n",
       "      <th>Type</th>\n",
       "      <th>Date</th>\n",
       "      <th>CountA</th>\n",
       "      <th>CountB</th>\n",
       "      <th>CountC</th>\n",
       "      <th>FeedBack</th>\n",
       "      <th>User</th>\n",
       "    </tr>\n",
       "  </thead>\n",
       "  <tbody>\n",
       "    <tr>\n",
       "      <th>0</th>\n",
       "      <td>10121</td>\n",
       "      <td>Email</td>\n",
       "      <td>2016-08-04 10:16:47</td>\n",
       "      <td>0.773005</td>\n",
       "      <td>0.662162</td>\n",
       "      <td>0.622776</td>\n",
       "      <td>Others</td>\n",
       "      <td>UserE</td>\n",
       "    </tr>\n",
       "    <tr>\n",
       "      <th>1</th>\n",
       "      <td>10122</td>\n",
       "      <td>Email</td>\n",
       "      <td>2016-08-04 10:18:28</td>\n",
       "      <td>0.193826</td>\n",
       "      <td>0.870958</td>\n",
       "      <td>0.328081</td>\n",
       "      <td>Others</td>\n",
       "      <td>UserB</td>\n",
       "    </tr>\n",
       "    <tr>\n",
       "      <th>2</th>\n",
       "      <td>10123</td>\n",
       "      <td>Email</td>\n",
       "      <td>2016-08-04 10:30:24</td>\n",
       "      <td>0.772299</td>\n",
       "      <td>0.322429</td>\n",
       "      <td>0.456233</td>\n",
       "      <td>Others</td>\n",
       "      <td>UserB</td>\n",
       "    </tr>\n",
       "    <tr>\n",
       "      <th>3</th>\n",
       "      <td>10124</td>\n",
       "      <td>Email</td>\n",
       "      <td>2016-08-04 10:41:56</td>\n",
       "      <td>0.485769</td>\n",
       "      <td>0.128755</td>\n",
       "      <td>0.575060</td>\n",
       "      <td>Others</td>\n",
       "      <td>UserB</td>\n",
       "    </tr>\n",
       "    <tr>\n",
       "      <th>4</th>\n",
       "      <td>10125</td>\n",
       "      <td>Email</td>\n",
       "      <td>2016-08-04 10:59:00</td>\n",
       "      <td>0.015268</td>\n",
       "      <td>0.216612</td>\n",
       "      <td>0.098125</td>\n",
       "      <td>Others</td>\n",
       "      <td>UserB</td>\n",
       "    </tr>\n",
       "  </tbody>\n",
       "</table>\n",
       "</div>"
      ],
      "text/plain": [
       "      Id   Type                Date    CountA    CountB    CountC FeedBack  \\\n",
       "0  10121  Email 2016-08-04 10:16:47  0.773005  0.662162  0.622776   Others   \n",
       "1  10122  Email 2016-08-04 10:18:28  0.193826  0.870958  0.328081   Others   \n",
       "2  10123  Email 2016-08-04 10:30:24  0.772299  0.322429  0.456233   Others   \n",
       "3  10124  Email 2016-08-04 10:41:56  0.485769  0.128755  0.575060   Others   \n",
       "4  10125  Email 2016-08-04 10:59:00  0.015268  0.216612  0.098125   Others   \n",
       "\n",
       "    User  \n",
       "0  UserE  \n",
       "1  UserB  \n",
       "2  UserB  \n",
       "3  UserB  \n",
       "4  UserB  "
      ]
     },
     "execution_count": 386,
     "metadata": {},
     "output_type": "execute_result"
    }
   ],
   "source": [
    "df.head()"
   ]
  },
  {
   "cell_type": "markdown",
   "metadata": {},
   "source": [
    "### Treatment Of Missing Values & Unwanted Column"
   ]
  },
  {
   "cell_type": "code",
   "execution_count": 387,
   "metadata": {},
   "outputs": [],
   "source": [
    "\n",
    "#### Replacing the missing value in Variable 'TYPE' With Its Mode.\n",
    "df['Type']=df['Type'].fillna(value=df['Type'].mode()[0])\n",
    "\n",
    "    \n",
    "\n"
   ]
  },
  {
   "cell_type": "code",
   "execution_count": 388,
   "metadata": {},
   "outputs": [],
   "source": [
    "### Dropping the missing Values From The Target Variable \"FeedBack\"\n",
    "data_no_missing = df.dropna()"
   ]
  },
  {
   "cell_type": "code",
   "execution_count": 389,
   "metadata": {},
   "outputs": [
    {
     "data": {
      "text/plain": [
       "Id          0\n",
       "Type        0\n",
       "Date        0\n",
       "CountA      0\n",
       "CountB      0\n",
       "CountC      0\n",
       "FeedBack    0\n",
       "User        0\n",
       "dtype: int64"
      ]
     },
     "execution_count": 389,
     "metadata": {},
     "output_type": "execute_result"
    }
   ],
   "source": [
    "data_no_missing.isnull().sum()"
   ]
  },
  {
   "cell_type": "code",
   "execution_count": 390,
   "metadata": {},
   "outputs": [
    {
     "data": {
      "text/html": [
       "<div>\n",
       "<style scoped>\n",
       "    .dataframe tbody tr th:only-of-type {\n",
       "        vertical-align: middle;\n",
       "    }\n",
       "\n",
       "    .dataframe tbody tr th {\n",
       "        vertical-align: top;\n",
       "    }\n",
       "\n",
       "    .dataframe thead th {\n",
       "        text-align: right;\n",
       "    }\n",
       "</style>\n",
       "<table border=\"1\" class=\"dataframe\">\n",
       "  <thead>\n",
       "    <tr style=\"text-align: right;\">\n",
       "      <th></th>\n",
       "      <th>Id</th>\n",
       "      <th>Type</th>\n",
       "      <th>Date</th>\n",
       "      <th>CountA</th>\n",
       "      <th>CountB</th>\n",
       "      <th>CountC</th>\n",
       "      <th>FeedBack</th>\n",
       "      <th>User</th>\n",
       "    </tr>\n",
       "  </thead>\n",
       "  <tbody>\n",
       "    <tr>\n",
       "      <th>0</th>\n",
       "      <td>10121</td>\n",
       "      <td>Email</td>\n",
       "      <td>2016-08-04 10:16:47</td>\n",
       "      <td>0.773005</td>\n",
       "      <td>0.662162</td>\n",
       "      <td>0.622776</td>\n",
       "      <td>Others</td>\n",
       "      <td>UserE</td>\n",
       "    </tr>\n",
       "    <tr>\n",
       "      <th>1</th>\n",
       "      <td>10122</td>\n",
       "      <td>Email</td>\n",
       "      <td>2016-08-04 10:18:28</td>\n",
       "      <td>0.193826</td>\n",
       "      <td>0.870958</td>\n",
       "      <td>0.328081</td>\n",
       "      <td>Others</td>\n",
       "      <td>UserB</td>\n",
       "    </tr>\n",
       "    <tr>\n",
       "      <th>2</th>\n",
       "      <td>10123</td>\n",
       "      <td>Email</td>\n",
       "      <td>2016-08-04 10:30:24</td>\n",
       "      <td>0.772299</td>\n",
       "      <td>0.322429</td>\n",
       "      <td>0.456233</td>\n",
       "      <td>Others</td>\n",
       "      <td>UserB</td>\n",
       "    </tr>\n",
       "    <tr>\n",
       "      <th>3</th>\n",
       "      <td>10124</td>\n",
       "      <td>Email</td>\n",
       "      <td>2016-08-04 10:41:56</td>\n",
       "      <td>0.485769</td>\n",
       "      <td>0.128755</td>\n",
       "      <td>0.575060</td>\n",
       "      <td>Others</td>\n",
       "      <td>UserB</td>\n",
       "    </tr>\n",
       "    <tr>\n",
       "      <th>4</th>\n",
       "      <td>10125</td>\n",
       "      <td>Email</td>\n",
       "      <td>2016-08-04 10:59:00</td>\n",
       "      <td>0.015268</td>\n",
       "      <td>0.216612</td>\n",
       "      <td>0.098125</td>\n",
       "      <td>Others</td>\n",
       "      <td>UserB</td>\n",
       "    </tr>\n",
       "  </tbody>\n",
       "</table>\n",
       "</div>"
      ],
      "text/plain": [
       "      Id   Type                Date    CountA    CountB    CountC FeedBack  \\\n",
       "0  10121  Email 2016-08-04 10:16:47  0.773005  0.662162  0.622776   Others   \n",
       "1  10122  Email 2016-08-04 10:18:28  0.193826  0.870958  0.328081   Others   \n",
       "2  10123  Email 2016-08-04 10:30:24  0.772299  0.322429  0.456233   Others   \n",
       "3  10124  Email 2016-08-04 10:41:56  0.485769  0.128755  0.575060   Others   \n",
       "4  10125  Email 2016-08-04 10:59:00  0.015268  0.216612  0.098125   Others   \n",
       "\n",
       "    User  \n",
       "0  UserE  \n",
       "1  UserB  \n",
       "2  UserB  \n",
       "3  UserB  \n",
       "4  UserB  "
      ]
     },
     "execution_count": 390,
     "metadata": {},
     "output_type": "execute_result"
    }
   ],
   "source": [
    "data_no_missing.head()"
   ]
  },
  {
   "cell_type": "code",
   "execution_count": 391,
   "metadata": {},
   "outputs": [],
   "source": [
    "### Remove unwanted column \"Id \",\"Date\"\n",
    "\n",
    "data_clean_1=data_no_missing.drop(['Id'], axis = 1)"
   ]
  },
  {
   "cell_type": "code",
   "execution_count": 392,
   "metadata": {},
   "outputs": [
    {
     "data": {
      "text/html": [
       "<div>\n",
       "<style scoped>\n",
       "    .dataframe tbody tr th:only-of-type {\n",
       "        vertical-align: middle;\n",
       "    }\n",
       "\n",
       "    .dataframe tbody tr th {\n",
       "        vertical-align: top;\n",
       "    }\n",
       "\n",
       "    .dataframe thead th {\n",
       "        text-align: right;\n",
       "    }\n",
       "</style>\n",
       "<table border=\"1\" class=\"dataframe\">\n",
       "  <thead>\n",
       "    <tr style=\"text-align: right;\">\n",
       "      <th></th>\n",
       "      <th>Type</th>\n",
       "      <th>Date</th>\n",
       "      <th>CountA</th>\n",
       "      <th>CountB</th>\n",
       "      <th>CountC</th>\n",
       "      <th>FeedBack</th>\n",
       "      <th>User</th>\n",
       "    </tr>\n",
       "  </thead>\n",
       "  <tbody>\n",
       "    <tr>\n",
       "      <th>0</th>\n",
       "      <td>Email</td>\n",
       "      <td>2016-08-04 10:16:47</td>\n",
       "      <td>0.773005</td>\n",
       "      <td>0.662162</td>\n",
       "      <td>0.622776</td>\n",
       "      <td>Others</td>\n",
       "      <td>UserE</td>\n",
       "    </tr>\n",
       "    <tr>\n",
       "      <th>1</th>\n",
       "      <td>Email</td>\n",
       "      <td>2016-08-04 10:18:28</td>\n",
       "      <td>0.193826</td>\n",
       "      <td>0.870958</td>\n",
       "      <td>0.328081</td>\n",
       "      <td>Others</td>\n",
       "      <td>UserB</td>\n",
       "    </tr>\n",
       "    <tr>\n",
       "      <th>2</th>\n",
       "      <td>Email</td>\n",
       "      <td>2016-08-04 10:30:24</td>\n",
       "      <td>0.772299</td>\n",
       "      <td>0.322429</td>\n",
       "      <td>0.456233</td>\n",
       "      <td>Others</td>\n",
       "      <td>UserB</td>\n",
       "    </tr>\n",
       "    <tr>\n",
       "      <th>3</th>\n",
       "      <td>Email</td>\n",
       "      <td>2016-08-04 10:41:56</td>\n",
       "      <td>0.485769</td>\n",
       "      <td>0.128755</td>\n",
       "      <td>0.575060</td>\n",
       "      <td>Others</td>\n",
       "      <td>UserB</td>\n",
       "    </tr>\n",
       "    <tr>\n",
       "      <th>4</th>\n",
       "      <td>Email</td>\n",
       "      <td>2016-08-04 10:59:00</td>\n",
       "      <td>0.015268</td>\n",
       "      <td>0.216612</td>\n",
       "      <td>0.098125</td>\n",
       "      <td>Others</td>\n",
       "      <td>UserB</td>\n",
       "    </tr>\n",
       "  </tbody>\n",
       "</table>\n",
       "</div>"
      ],
      "text/plain": [
       "    Type                Date    CountA    CountB    CountC FeedBack   User\n",
       "0  Email 2016-08-04 10:16:47  0.773005  0.662162  0.622776   Others  UserE\n",
       "1  Email 2016-08-04 10:18:28  0.193826  0.870958  0.328081   Others  UserB\n",
       "2  Email 2016-08-04 10:30:24  0.772299  0.322429  0.456233   Others  UserB\n",
       "3  Email 2016-08-04 10:41:56  0.485769  0.128755  0.575060   Others  UserB\n",
       "4  Email 2016-08-04 10:59:00  0.015268  0.216612  0.098125   Others  UserB"
      ]
     },
     "execution_count": 392,
     "metadata": {},
     "output_type": "execute_result"
    }
   ],
   "source": [
    "data_clean_1.head()"
   ]
  },
  {
   "cell_type": "code",
   "execution_count": 393,
   "metadata": {},
   "outputs": [],
   "source": [
    "data_clean      = data_clean_1.drop(['Date'], axis = 1)"
   ]
  },
  {
   "cell_type": "code",
   "execution_count": 394,
   "metadata": {},
   "outputs": [
    {
     "data": {
      "text/html": [
       "<div>\n",
       "<style scoped>\n",
       "    .dataframe tbody tr th:only-of-type {\n",
       "        vertical-align: middle;\n",
       "    }\n",
       "\n",
       "    .dataframe tbody tr th {\n",
       "        vertical-align: top;\n",
       "    }\n",
       "\n",
       "    .dataframe thead th {\n",
       "        text-align: right;\n",
       "    }\n",
       "</style>\n",
       "<table border=\"1\" class=\"dataframe\">\n",
       "  <thead>\n",
       "    <tr style=\"text-align: right;\">\n",
       "      <th></th>\n",
       "      <th>Type</th>\n",
       "      <th>CountA</th>\n",
       "      <th>CountB</th>\n",
       "      <th>CountC</th>\n",
       "      <th>FeedBack</th>\n",
       "      <th>User</th>\n",
       "    </tr>\n",
       "  </thead>\n",
       "  <tbody>\n",
       "    <tr>\n",
       "      <th>0</th>\n",
       "      <td>Email</td>\n",
       "      <td>0.773005</td>\n",
       "      <td>0.662162</td>\n",
       "      <td>0.622776</td>\n",
       "      <td>Others</td>\n",
       "      <td>UserE</td>\n",
       "    </tr>\n",
       "    <tr>\n",
       "      <th>1</th>\n",
       "      <td>Email</td>\n",
       "      <td>0.193826</td>\n",
       "      <td>0.870958</td>\n",
       "      <td>0.328081</td>\n",
       "      <td>Others</td>\n",
       "      <td>UserB</td>\n",
       "    </tr>\n",
       "    <tr>\n",
       "      <th>2</th>\n",
       "      <td>Email</td>\n",
       "      <td>0.772299</td>\n",
       "      <td>0.322429</td>\n",
       "      <td>0.456233</td>\n",
       "      <td>Others</td>\n",
       "      <td>UserB</td>\n",
       "    </tr>\n",
       "    <tr>\n",
       "      <th>3</th>\n",
       "      <td>Email</td>\n",
       "      <td>0.485769</td>\n",
       "      <td>0.128755</td>\n",
       "      <td>0.575060</td>\n",
       "      <td>Others</td>\n",
       "      <td>UserB</td>\n",
       "    </tr>\n",
       "    <tr>\n",
       "      <th>4</th>\n",
       "      <td>Email</td>\n",
       "      <td>0.015268</td>\n",
       "      <td>0.216612</td>\n",
       "      <td>0.098125</td>\n",
       "      <td>Others</td>\n",
       "      <td>UserB</td>\n",
       "    </tr>\n",
       "  </tbody>\n",
       "</table>\n",
       "</div>"
      ],
      "text/plain": [
       "    Type    CountA    CountB    CountC FeedBack   User\n",
       "0  Email  0.773005  0.662162  0.622776   Others  UserE\n",
       "1  Email  0.193826  0.870958  0.328081   Others  UserB\n",
       "2  Email  0.772299  0.322429  0.456233   Others  UserB\n",
       "3  Email  0.485769  0.128755  0.575060   Others  UserB\n",
       "4  Email  0.015268  0.216612  0.098125   Others  UserB"
      ]
     },
     "execution_count": 394,
     "metadata": {},
     "output_type": "execute_result"
    }
   ],
   "source": [
    "data_clean.head()"
   ]
  },
  {
   "cell_type": "markdown",
   "metadata": {},
   "source": [
    "we need to convert the following variables into categorical variables:\n",
    "> Type\n",
    "\n",
    "> FeedBack\n",
    "\n",
    "> User\n"
   ]
  },
  {
   "cell_type": "code",
   "execution_count": 395,
   "metadata": {},
   "outputs": [],
   "source": [
    "data_clean['Type']      = data_clean.Type.astype(\"category\")\n",
    "data_clean['FeedBack']  = data_clean.FeedBack.astype(\"category\")\n",
    "data_clean['User']      = data_clean.User.astype(\"category\")\n"
   ]
  },
  {
   "cell_type": "code",
   "execution_count": 396,
   "metadata": {},
   "outputs": [
    {
     "name": "stdout",
     "output_type": "stream",
     "text": [
      "<class 'pandas.core.frame.DataFrame'>\n",
      "Int64Index: 64 entries, 0 to 65\n",
      "Data columns (total 6 columns):\n",
      "Type        64 non-null category\n",
      "CountA      64 non-null float64\n",
      "CountB      64 non-null float64\n",
      "CountC      64 non-null float64\n",
      "FeedBack    64 non-null category\n",
      "User        64 non-null category\n",
      "dtypes: category(3), float64(3)\n",
      "memory usage: 2.8 KB\n"
     ]
    }
   ],
   "source": [
    "data_clean.info()"
   ]
  },
  {
   "cell_type": "markdown",
   "metadata": {},
   "source": [
    "Grouped Bar Chart For Categorical Variables\n",
    "\n",
    "Input:\n",
    "\n",
    "1) Data Frame\n",
    "\n",
    "2) Column name of the predictor variable selected\n",
    "\n",
    "3) Label for the predictor variable\n",
    "\n",
    "4) Title for the grouped bar chart\n",
    "\n",
    "Output:\n",
    "\n",
    "1) Cross tab with count and row percentages\n",
    "\n",
    "2) Grouped Bar chart\n"
   ]
  },
  {
   "cell_type": "code",
   "execution_count": 397,
   "metadata": {},
   "outputs": [],
   "source": [
    "def draw_barplot(df, X, xlab, title):\n",
    "    \n",
    "    x       =   df[X]\n",
    "    AHD     =   df['FeedBack']\n",
    "\n",
    "    ct = pd.crosstab(df[X], df['FeedBack'])\n",
    "    print(\"\\n Cross tab with count\\n\")\n",
    "    print(ct)\n",
    "\n",
    "    ### Cross tab with row percentages\n",
    "    print(\"\\n Cross tab with row % \\n\")\n",
    "    ct1 = pd.crosstab(df[X], df['FeedBack'], normalize='index').round(4)*100\n",
    "    print(ct1)\n",
    "\n",
    "    # now stack and reset\n",
    "    stacked = ct.stack().reset_index().rename(columns={0:'value'})\n",
    "\n",
    "    # plot grouped bar chart\n",
    "    ax = sns.barplot(x = stacked[X], y = stacked.value, hue=stacked.FeedBack)\n",
    "    ax.set_title(title)    \n",
    "    plt.show()\n"
   ]
  },
  {
   "cell_type": "markdown",
   "metadata": {},
   "source": [
    "#### Cross tab - Type Vs FeedBack"
   ]
  },
  {
   "cell_type": "code",
   "execution_count": 398,
   "metadata": {},
   "outputs": [
    {
     "name": "stdout",
     "output_type": "stream",
     "text": [
      "\n",
      " Cross tab with count\n",
      "\n",
      "FeedBack  NC  NI  Others  UNDECIDED\n",
      "Type                               \n",
      "Email      0   0      19          0\n",
      "Update    28   0       3          6\n",
      "Call       0   0       7          0\n",
      "Visit      0   1       0          0\n",
      "\n",
      " Cross tab with row % \n",
      "\n",
      "FeedBack     NC     NI  Others  UNDECIDED\n",
      "Type                                     \n",
      "Email      0.00    0.0  100.00       0.00\n",
      "Update    75.68    0.0    8.11      16.22\n",
      "Call       0.00    0.0  100.00       0.00\n",
      "Visit      0.00  100.0    0.00       0.00\n"
     ]
    },
    {
     "data": {
      "image/png": "[encoded data removed]",
      "text/plain": [
       "<Figure size 432x288 with 1 Axes>"
      ]
     },
     "metadata": {},
     "output_type": "display_data"
    }
   ],
   "source": [
    "draw_barplot(data_clean, 'Type','Type-Of-Communications', 'Type Vs FeedBack')\n"
   ]
  },
  {
   "cell_type": "markdown",
   "metadata": {},
   "source": [
    "Observation\n",
    "We observe that for the following mode of communication:\n",
    "\n",
    " 1) Call   (7)     - FeedBack (Others)\n",
    " \n",
    " 2) Email  (19)    - FeedBack (Others)\n",
    " \n",
    " 3) Update (28)    - FeedBack (NC:No contact)\n",
    " \n",
    "   Update  (1)     - FeedBack (Others)\n",
    "   \n",
    "   Update  (6)     - FeedBack (UNDECIDED)\n",
    "   \n",
    "   \n",
    "   \n",
    " 4) Visit  (1)     - FeedBack (NI :Not Interested)\n"
   ]
  },
  {
   "cell_type": "markdown",
   "metadata": {},
   "source": [
    "#### Cross tab - User Vs FeedBack"
   ]
  },
  {
   "cell_type": "code",
   "execution_count": 399,
   "metadata": {},
   "outputs": [
    {
     "name": "stdout",
     "output_type": "stream",
     "text": [
      "\n",
      " Cross tab with count\n",
      "\n",
      "FeedBack  NC  NI  Others  UNDECIDED\n",
      "User                               \n",
      "UserE      0   0       3          0\n",
      "UserB      0   0      13          1\n",
      "UserA      9   1       6          2\n",
      "UserC     16   0       3          2\n",
      "UserD      3   0       4          1\n",
      "\n",
      " Cross tab with row % \n",
      "\n",
      "FeedBack     NC    NI  Others  UNDECIDED\n",
      "User                                    \n",
      "UserE      0.00  0.00  100.00       0.00\n",
      "UserB      0.00  0.00   92.86       7.14\n",
      "UserA     50.00  5.56   33.33      11.11\n",
      "UserC     76.19  0.00   14.29       9.52\n",
      "UserD     37.50  0.00   50.00      12.50\n"
     ]
    },
    {
     "data": {
      "image/png": "[encoded data removed]",
      "text/plain": [
       "<Figure size 432x288 with 1 Axes>"
      ]
     },
     "metadata": {},
     "output_type": "display_data"
    }
   ],
   "source": [
    "draw_barplot(data_clean, 'User','Different-Users', 'Type Vs FeedBack')"
   ]
  },
  {
   "cell_type": "markdown",
   "metadata": {},
   "source": [
    "#### Observation\n",
    "From UserC highest number of FeedBack has been recorded out of which (NC: No Contact) was the heighest among all the\n",
    "Users.\n",
    "\n",
    "From UserE lowest number of FeedBack has been recorded compare to other Users and the FeedBack got is 'Others'."
   ]
  },
  {
   "cell_type": "code",
   "execution_count": 400,
   "metadata": {},
   "outputs": [],
   "source": [
    "def draw_barplot(df, X, xlab, title):\n",
    "    \n",
    "    x       =   df[X]\n",
    "    AHD     =   df['Type']\n",
    "\n",
    "    ct = pd.crosstab(df[X], df['Type'])\n",
    "    print(\"\\n Cross tab with count\\n\")\n",
    "    print(ct)\n",
    "\n",
    "    ### Cross tab with row percentages\n",
    "    print(\"\\n Cross tab with row % \\n\")\n",
    "    ct1 = pd.crosstab(df[X], df['Type'], normalize='index').round(4)*100\n",
    "    print(ct1)\n",
    "\n",
    "    # now stack and reset\n",
    "    stacked = ct.stack().reset_index().rename(columns={0:'value'})\n",
    "\n",
    "    # plot grouped bar chart\n",
    "    ax = sns.barplot(x = stacked[X], y = stacked.value, hue=stacked.Type)\n",
    "    ax.set_title(title)    \n",
    "    plt.show()\n"
   ]
  },
  {
   "cell_type": "code",
   "execution_count": 401,
   "metadata": {},
   "outputs": [
    {
     "name": "stdout",
     "output_type": "stream",
     "text": [
      "\n",
      " Cross tab with count\n",
      "\n",
      "Type   Call  Email  Update  Visit\n",
      "User                             \n",
      "UserE     0      3       0      0\n",
      "UserB     0     10       4      0\n",
      "UserA     3      3      11      1\n",
      "UserC     1      2      18      0\n",
      "UserD     3      1       4      0\n",
      "\n",
      " Cross tab with row % \n",
      "\n",
      "Type    Call   Email  Update  Visit\n",
      "User                               \n",
      "UserE   0.00  100.00    0.00   0.00\n",
      "UserB   0.00   71.43   28.57   0.00\n",
      "UserA  16.67   16.67   61.11   5.56\n",
      "UserC   4.76    9.52   85.71   0.00\n",
      "UserD  37.50   12.50   50.00   0.00\n"
     ]
    },
    {
     "data": {
      "image/png": "[encoded data removed]",
      "text/plain": [
       "<Figure size 432x288 with 1 Axes>"
      ]
     },
     "metadata": {},
     "output_type": "display_data"
    }
   ],
   "source": [
    "draw_barplot(data_clean, 'User','Different-Users', 'User Vs Type')"
   ]
  },
  {
   "cell_type": "markdown",
   "metadata": {},
   "source": [
    "Observation\n",
    "\n",
    "UserA & UserC have been communicated the most and the maximum type of communication was \"Update\".\n",
    "\n",
    "UserE has been communicated least and the type of communication was an 'Email'.\n"
   ]
  },
  {
   "cell_type": "markdown",
   "metadata": {},
   "source": [
    "### Finding the correlation betwwen the continous Variables"
   ]
  },
  {
   "cell_type": "code",
   "execution_count": 402,
   "metadata": {},
   "outputs": [
    {
     "data": {
      "image/png": "[encoded data removed]",
      "text/plain": [
       "<Figure size 1080x720 with 2 Axes>"
      ]
     },
     "metadata": {},
     "output_type": "display_data"
    }
   ],
   "source": [
    "plt.figure(figsize=(15,10));\n",
    "sns.heatmap(data_clean[['CountA', 'CountB', 'CountC']].corr(), annot=True);"
   ]
  },
  {
   "cell_type": "markdown",
   "metadata": {},
   "source": [
    "Observation\n",
    "\n",
    "From the corelation matrix it is clear that non of the continous variable corelated with each other.\n"
   ]
  },
  {
   "cell_type": "code",
   "execution_count": 403,
   "metadata": {},
   "outputs": [
    {
     "data": {
      "text/plain": [
       "[Others, UNDECIDED, NC, NI]\n",
       "Categories (4, object): [Others, UNDECIDED, NC, NI]"
      ]
     },
     "execution_count": 403,
     "metadata": {},
     "output_type": "execute_result"
    }
   ],
   "source": [
    "data_clean.FeedBack.unique()"
   ]
  },
  {
   "cell_type": "markdown",
   "metadata": {},
   "source": [
    "\n",
    "####  Converting target / dependent [Others, UNDECIDED, NC, NI] variable to be continous variable [0, 1, 2, 3]\n",
    "\n"
   ]
  },
  {
   "cell_type": "code",
   "execution_count": 404,
   "metadata": {},
   "outputs": [],
   "source": [
    "data         = data_clean\n",
    "data['FeedBack']  = data.FeedBack.replace(['Others', 'UNDECIDED','NC','NI'], [0, 1,2,3])"
   ]
  },
  {
   "cell_type": "code",
   "execution_count": 405,
   "metadata": {},
   "outputs": [
    {
     "data": {
      "text/plain": [
       "array([0, 1, 2, 3])"
      ]
     },
     "execution_count": 405,
     "metadata": {},
     "output_type": "execute_result"
    }
   ],
   "source": [
    "data.FeedBack.unique()"
   ]
  },
  {
   "cell_type": "markdown",
   "metadata": {},
   "source": [
    "#### Encoding categorical Variables"
   ]
  },
  {
   "cell_type": "code",
   "execution_count": 406,
   "metadata": {},
   "outputs": [],
   "source": [
    "x=pd.get_dummies(data[['Type','CountA', 'CountB', 'CountC', 'User']],drop_first=True)"
   ]
  },
  {
   "cell_type": "code",
   "execution_count": 407,
   "metadata": {},
   "outputs": [],
   "source": [
    "y=data[['FeedBack']]"
   ]
  },
  {
   "cell_type": "markdown",
   "metadata": {},
   "source": [
    "#### Split the dataset into Train & Test"
   ]
  },
  {
   "cell_type": "code",
   "execution_count": 408,
   "metadata": {},
   "outputs": [],
   "source": [
    "from sklearn.model_selection import train_test_split\n",
    "x_train, x_test, y_train, y_test = train_test_split( x, y, test_size = 0.3, random_state = 56 )\n",
    "\n"
   ]
  },
  {
   "cell_type": "code",
   "execution_count": 409,
   "metadata": {},
   "outputs": [
    {
     "name": "stdout",
     "output_type": "stream",
     "text": [
      "(44, 10) (44, 1)\n",
      "(20, 10) (20, 1)\n"
     ]
    }
   ],
   "source": [
    "print(x_train.shape, y_train.shape)\n",
    "print(x_test.shape, y_test.shape)"
   ]
  },
  {
   "cell_type": "code",
   "execution_count": 410,
   "metadata": {},
   "outputs": [],
   "source": [
    "## Building the Classifier\n",
    "## Importing the Classification Tree Package\n",
    "from sklearn import tree"
   ]
  },
  {
   "cell_type": "code",
   "execution_count": 411,
   "metadata": {},
   "outputs": [],
   "source": [
    "## Creating the Classifier Object\n",
    "clf = tree.DecisionTreeClassifier()"
   ]
  },
  {
   "cell_type": "code",
   "execution_count": 412,
   "metadata": {},
   "outputs": [],
   "source": [
    "## Fitting the Classification Tree on Training Dataset\n",
    "clf = clf.fit(x_train, y_train)\n"
   ]
  },
  {
   "cell_type": "code",
   "execution_count": 413,
   "metadata": {},
   "outputs": [
    {
     "data": {
      "text/html": [
       "<div>\n",
       "<style scoped>\n",
       "    .dataframe tbody tr th:only-of-type {\n",
       "        vertical-align: middle;\n",
       "    }\n",
       "\n",
       "    .dataframe tbody tr th {\n",
       "        vertical-align: top;\n",
       "    }\n",
       "\n",
       "    .dataframe thead th {\n",
       "        text-align: right;\n",
       "    }\n",
       "</style>\n",
       "<table border=\"1\" class=\"dataframe\">\n",
       "  <thead>\n",
       "    <tr style=\"text-align: right;\">\n",
       "      <th></th>\n",
       "      <th>0</th>\n",
       "      <th>1</th>\n",
       "    </tr>\n",
       "  </thead>\n",
       "  <tbody>\n",
       "    <tr>\n",
       "      <th>0</th>\n",
       "      <td>CountA</td>\n",
       "      <td>0.0804762</td>\n",
       "    </tr>\n",
       "    <tr>\n",
       "      <th>1</th>\n",
       "      <td>CountB</td>\n",
       "      <td>0.0714286</td>\n",
       "    </tr>\n",
       "    <tr>\n",
       "      <th>2</th>\n",
       "      <td>CountC</td>\n",
       "      <td>0.11</td>\n",
       "    </tr>\n",
       "    <tr>\n",
       "      <th>3</th>\n",
       "      <td>Type_Email</td>\n",
       "      <td>0</td>\n",
       "    </tr>\n",
       "    <tr>\n",
       "      <th>4</th>\n",
       "      <td>Type_Update</td>\n",
       "      <td>0.613187</td>\n",
       "    </tr>\n",
       "    <tr>\n",
       "      <th>5</th>\n",
       "      <td>Type_Visit</td>\n",
       "      <td>0</td>\n",
       "    </tr>\n",
       "    <tr>\n",
       "      <th>6</th>\n",
       "      <td>User_UserB</td>\n",
       "      <td>0.124908</td>\n",
       "    </tr>\n",
       "    <tr>\n",
       "      <th>7</th>\n",
       "      <td>User_UserC</td>\n",
       "      <td>0</td>\n",
       "    </tr>\n",
       "    <tr>\n",
       "      <th>8</th>\n",
       "      <td>User_UserD</td>\n",
       "      <td>0</td>\n",
       "    </tr>\n",
       "    <tr>\n",
       "      <th>9</th>\n",
       "      <td>User_UserE</td>\n",
       "      <td>0</td>\n",
       "    </tr>\n",
       "  </tbody>\n",
       "</table>\n",
       "</div>"
      ],
      "text/plain": [
       "             0          1\n",
       "0       CountA  0.0804762\n",
       "1       CountB  0.0714286\n",
       "2       CountC       0.11\n",
       "3   Type_Email          0\n",
       "4  Type_Update   0.613187\n",
       "5   Type_Visit          0\n",
       "6   User_UserB   0.124908\n",
       "7   User_UserC          0\n",
       "8   User_UserD          0\n",
       "9   User_UserE          0"
      ]
     },
     "execution_count": 413,
     "metadata": {},
     "output_type": "execute_result"
    }
   ],
   "source": [
    "feature_importance = pd.DataFrame([x_train.columns,\n",
    "                               clf.tree_.compute_feature_importances()])\n",
    "feature_importance.T .head(20)\n"
   ]
  },
  {
   "cell_type": "markdown",
   "metadata": {},
   "source": [
    "#### Visualize the tree"
   ]
  },
  {
   "cell_type": "code",
   "execution_count": 414,
   "metadata": {},
   "outputs": [],
   "source": [
    "import pydotplus\n",
    "import io\n",
    "from sklearn.tree import export_graphviz\n",
    "from scipy import misc\n",
    "from matplotlib import pyplot as plt\n",
    "feature_list = list(x_train.columns.values)\n",
    "f = io.StringIO()\n",
    "dot_data = export_graphviz(clf, out_file = f,\n",
    "                feature_names=feature_list)\n",
    "pydot_graph = pydotplus.graph_from_dot_data(f.getvalue())"
   ]
  },
  {
   "cell_type": "code",
   "execution_count": 415,
   "metadata": {},
   "outputs": [
    {
     "name": "stderr",
     "output_type": "stream",
     "text": [
      "/Users/sanaam/anaconda3/lib/python3.6/site-packages/ipykernel_launcher.py:2: DeprecationWarning: `imread` is deprecated!\n",
      "`imread` is deprecated in SciPy 1.0.0, and will be removed in 1.2.0.\n",
      "Use ``imageio.imread`` instead.\n",
      "  \n"
     ]
    },
    {
     "data": {
      "text/plain": [
       "<matplotlib.image.AxesImage at 0x1a25ef30b8>"
      ]
     },
     "execution_count": 415,
     "metadata": {},
     "output_type": "execute_result"
    },
    {
     "data": {
      "image/png": "[encoded data removed]",
      "text/plain": [
       "<Figure size 1440x1440 with 1 Axes>"
      ]
     },
     "metadata": {},
     "output_type": "display_data"
    }
   ],
   "source": [
    "pydot_graph.write_png(\"decision_tree.png\")\n",
    "img = misc.imread(\"decision_tree.png\")\n",
    "plt.rcParams[\"figure.figsize\"]=(20,20)\n",
    "plt.imshow(img)\n"
   ]
  },
  {
   "cell_type": "code",
   "execution_count": 416,
   "metadata": {},
   "outputs": [
    {
     "data": {
      "text/plain": [
       "Index(['Type', 'CountA', 'CountB', 'CountC', 'FeedBack', 'User'], dtype='object')"
      ]
     },
     "execution_count": 416,
     "metadata": {},
     "output_type": "execute_result"
    }
   ],
   "source": [
    "data.columns\n"
   ]
  },
  {
   "cell_type": "code",
   "execution_count": 417,
   "metadata": {},
   "outputs": [
    {
     "data": {
      "text/plain": [
       "array([0, 2, 2, 0, 2, 0, 0, 0, 0, 2, 0, 0, 2, 1, 0, 2, 0, 0, 2, 2, 1, 2,\n",
       "       2, 0, 0, 2, 1, 0, 0, 2, 2, 0, 2, 0, 2, 2, 1, 0, 2, 2, 0, 0, 2, 2])"
      ]
     },
     "execution_count": 417,
     "metadata": {},
     "output_type": "execute_result"
    }
   ],
   "source": [
    "pred_y_train = clf.predict(x_train)\n",
    "pred_y_train"
   ]
  },
  {
   "cell_type": "code",
   "execution_count": 418,
   "metadata": {},
   "outputs": [
    {
     "data": {
      "text/plain": [
       "array([0, 0, 2, 0, 0, 2, 0, 2, 2, 0, 0, 0, 2, 2, 2, 2, 2, 0, 0, 0])"
      ]
     },
     "execution_count": 418,
     "metadata": {},
     "output_type": "execute_result"
    }
   ],
   "source": [
    "## Predict based on the Classifier\n",
    "pred_y_test = clf.predict(x_test)\n",
    "pred_y_test"
   ]
  },
  {
   "cell_type": "code",
   "execution_count": 419,
   "metadata": {},
   "outputs": [
    {
     "data": {
      "text/plain": [
       "0.85"
      ]
     },
     "execution_count": 419,
     "metadata": {},
     "output_type": "execute_result"
    }
   ],
   "source": [
    "## Let us see the classification accuracy of our model\n",
    "from sklearn.metrics import accuracy_score\n",
    "score = accuracy_score(y_test, pred_y_test)\n",
    "score"
   ]
  },
  {
   "cell_type": "markdown",
   "metadata": {},
   "source": [
    "#### Accuracy of our model is 85 %"
   ]
  },
  {
   "cell_type": "code",
   "execution_count": null,
   "metadata": {},
   "outputs": [],
   "source": []
  },
  {
   "cell_type": "code",
   "execution_count": null,
   "metadata": {},
   "outputs": [],
   "source": []
  },
  {
   "cell_type": "code",
   "execution_count": null,
   "metadata": {},
   "outputs": [],
   "source": []
  },
  {
   "cell_type": "code",
   "execution_count": null,
   "metadata": {},
   "outputs": [],
   "source": []
  }
 ],
 "metadata": {
  "kernelspec": {
   "display_name": "Python 3",
   "language": "python",
   "name": "python3"
  },
  "language_info": {
   "codemirror_mode": {
    "name": "ipython",
    "version": 3
   },
   "file_extension": ".py",
   "mimetype": "text/x-python",
   "name": "python",
   "nbconvert_exporter": "python",
   "pygments_lexer": "ipython3",
   "version": "3.6.5"
  }
 },
 "nbformat": 4,
 "nbformat_minor": 2
}
