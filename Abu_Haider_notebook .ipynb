{
 "cells": [
  {
   "cell_type": "code",
   "execution_count": 736,
   "metadata": {},
   "outputs": [],
   "source": [
    "import numpy as np\n",
    "import pandas as pd\n",
    "import sqlalchemy\n",
    "import seaborn as sns\n",
    "import sqlite3\n",
    "import matplotlib.pyplot as plt\n",
    "%matplotlib inline\n",
    "\n",
    "conn = sqlite3.connect('kinara_assessment_20181008.db')\n",
    "\n",
    "loan_data = pd.read_sql_query(\"SELECT * FROM loan_information\", conn)\n",
    "scores_data = pd.read_sql_query(\"SELECT * FROM scores_information\", conn)\n",
    "disbursements_data=pd.read_sql_query(\"SELECT * FROM disbursements_information\", conn)\n",
    "ent_data=pd.read_sql_query(\"SELECT * FROM enteprise_information\", conn)"
   ]
  },
  {
   "cell_type": "code",
   "execution_count": 737,
   "metadata": {},
   "outputs": [
    {
     "data": {
      "text/html": [
       "<div>\n",
       "<style scoped>\n",
       "    .dataframe tbody tr th:only-of-type {\n",
       "        vertical-align: middle;\n",
       "    }\n",
       "\n",
       "    .dataframe tbody tr th {\n",
       "        vertical-align: top;\n",
       "    }\n",
       "\n",
       "    .dataframe thead th {\n",
       "        text-align: right;\n",
       "    }\n",
       "</style>\n",
       "<table border=\"1\" class=\"dataframe\">\n",
       "  <thead>\n",
       "    <tr style=\"text-align: right;\">\n",
       "      <th></th>\n",
       "      <th>loan_id</th>\n",
       "      <th>account_number</th>\n",
       "      <th>customer_id</th>\n",
       "      <th>enterprise_id</th>\n",
       "      <th>screening_date</th>\n",
       "      <th>product_code</th>\n",
       "      <th>hub_id</th>\n",
       "    </tr>\n",
       "  </thead>\n",
       "  <tbody>\n",
       "    <tr>\n",
       "      <th>0</th>\n",
       "      <td>5692</td>\n",
       "      <td>TLMFS0000055</td>\n",
       "      <td>17850</td>\n",
       "      <td>6278</td>\n",
       "      <td>2017-03-07</td>\n",
       "      <td>TLMFS</td>\n",
       "      <td>46</td>\n",
       "    </tr>\n",
       "    <tr>\n",
       "      <th>1</th>\n",
       "      <td>6190</td>\n",
       "      <td>TLWCU0001219</td>\n",
       "      <td>17857</td>\n",
       "      <td>6280</td>\n",
       "      <td>2017-03-07</td>\n",
       "      <td>TLWCU</td>\n",
       "      <td>32</td>\n",
       "    </tr>\n",
       "    <tr>\n",
       "      <th>2</th>\n",
       "      <td>6191</td>\n",
       "      <td>TLAPS0000292</td>\n",
       "      <td>9481</td>\n",
       "      <td>2916</td>\n",
       "      <td>2017-03-07</td>\n",
       "      <td>TLAPS</td>\n",
       "      <td>32</td>\n",
       "    </tr>\n",
       "    <tr>\n",
       "      <th>3</th>\n",
       "      <td>6192</td>\n",
       "      <td>LCRIU0000019</td>\n",
       "      <td>6597</td>\n",
       "      <td>32</td>\n",
       "      <td>2017-03-10</td>\n",
       "      <td>LCRIU</td>\n",
       "      <td>32</td>\n",
       "    </tr>\n",
       "    <tr>\n",
       "      <th>4</th>\n",
       "      <td>6193</td>\n",
       "      <td>LCRIU0000020</td>\n",
       "      <td>9732</td>\n",
       "      <td>3167</td>\n",
       "      <td>2017-03-13</td>\n",
       "      <td>LCRIU</td>\n",
       "      <td>32</td>\n",
       "    </tr>\n",
       "  </tbody>\n",
       "</table>\n",
       "</div>"
      ],
      "text/plain": [
       "   loan_id account_number  customer_id  enterprise_id screening_date  \\\n",
       "0     5692   TLMFS0000055        17850           6278     2017-03-07   \n",
       "1     6190   TLWCU0001219        17857           6280     2017-03-07   \n",
       "2     6191   TLAPS0000292         9481           2916     2017-03-07   \n",
       "3     6192   LCRIU0000019         6597             32     2017-03-10   \n",
       "4     6193   LCRIU0000020         9732           3167     2017-03-13   \n",
       "\n",
       "  product_code  hub_id  \n",
       "0        TLMFS      46  \n",
       "1        TLWCU      32  \n",
       "2        TLAPS      32  \n",
       "3        LCRIU      32  \n",
       "4        LCRIU      32  "
      ]
     },
     "execution_count": 737,
     "metadata": {},
     "output_type": "execute_result"
    }
   ],
   "source": [
    "loan_data.head()"
   ]
  },
  {
   "cell_type": "code",
   "execution_count": 738,
   "metadata": {},
   "outputs": [
    {
     "data": {
      "text/html": [
       "<div>\n",
       "<style scoped>\n",
       "    .dataframe tbody tr th:only-of-type {\n",
       "        vertical-align: middle;\n",
       "    }\n",
       "\n",
       "    .dataframe tbody tr th {\n",
       "        vertical-align: top;\n",
       "    }\n",
       "\n",
       "    .dataframe thead th {\n",
       "        text-align: right;\n",
       "    }\n",
       "</style>\n",
       "<table border=\"1\" class=\"dataframe\">\n",
       "  <thead>\n",
       "    <tr style=\"text-align: right;\">\n",
       "      <th></th>\n",
       "      <th>enterprise_id</th>\n",
       "      <th>business_type</th>\n",
       "      <th>business_activity</th>\n",
       "      <th>business_sector</th>\n",
       "    </tr>\n",
       "  </thead>\n",
       "  <tbody>\n",
       "    <tr>\n",
       "      <th>0</th>\n",
       "      <td>4</td>\n",
       "      <td>Manufacturing</td>\n",
       "      <td>Sales</td>\n",
       "      <td>Printing</td>\n",
       "    </tr>\n",
       "    <tr>\n",
       "      <th>1</th>\n",
       "      <td>7</td>\n",
       "      <td>Manufacturing</td>\n",
       "      <td>Job Work &amp; Sales</td>\n",
       "      <td>Fabrication</td>\n",
       "    </tr>\n",
       "    <tr>\n",
       "      <th>2</th>\n",
       "      <td>8</td>\n",
       "      <td>Manufacturing</td>\n",
       "      <td>Job Work &amp; Sales</td>\n",
       "      <td>Auto Components</td>\n",
       "    </tr>\n",
       "    <tr>\n",
       "      <th>3</th>\n",
       "      <td>16</td>\n",
       "      <td>Manufacturing</td>\n",
       "      <td>Job Work &amp; Sales</td>\n",
       "      <td>Fabrication</td>\n",
       "    </tr>\n",
       "    <tr>\n",
       "      <th>4</th>\n",
       "      <td>19</td>\n",
       "      <td>Manufacturing</td>\n",
       "      <td>Sales</td>\n",
       "      <td>Leather</td>\n",
       "    </tr>\n",
       "  </tbody>\n",
       "</table>\n",
       "</div>"
      ],
      "text/plain": [
       "   enterprise_id  business_type business_activity  business_sector\n",
       "0              4  Manufacturing             Sales         Printing\n",
       "1              7  Manufacturing  Job Work & Sales      Fabrication\n",
       "2              8  Manufacturing  Job Work & Sales  Auto Components\n",
       "3             16  Manufacturing  Job Work & Sales      Fabrication\n",
       "4             19  Manufacturing             Sales          Leather"
      ]
     },
     "execution_count": 738,
     "metadata": {},
     "output_type": "execute_result"
    }
   ],
   "source": [
    "ent_data.head()\n"
   ]
  },
  {
   "cell_type": "code",
   "execution_count": 739,
   "metadata": {},
   "outputs": [
    {
     "data": {
      "text/html": [
       "<div>\n",
       "<style scoped>\n",
       "    .dataframe tbody tr th:only-of-type {\n",
       "        vertical-align: middle;\n",
       "    }\n",
       "\n",
       "    .dataframe tbody tr th {\n",
       "        vertical-align: top;\n",
       "    }\n",
       "\n",
       "    .dataframe thead th {\n",
       "        text-align: right;\n",
       "    }\n",
       "</style>\n",
       "<table border=\"1\" class=\"dataframe\">\n",
       "  <thead>\n",
       "    <tr style=\"text-align: right;\">\n",
       "      <th></th>\n",
       "      <th>loan_id</th>\n",
       "      <th>ManagAgeui_APP</th>\n",
       "      <th>BusinFormalityOfTheBusinessui</th>\n",
       "      <th>ManagCBscoreui_APP</th>\n",
       "    </tr>\n",
       "  </thead>\n",
       "  <tbody>\n",
       "    <tr>\n",
       "      <th>0</th>\n",
       "      <td>5692</td>\n",
       "      <td>32</td>\n",
       "      <td>Cash &amp; Non Banked</td>\n",
       "      <td>0</td>\n",
       "    </tr>\n",
       "    <tr>\n",
       "      <th>1</th>\n",
       "      <td>6190</td>\n",
       "      <td>35</td>\n",
       "      <td>Cash &amp; Non Banked</td>\n",
       "      <td>0</td>\n",
       "    </tr>\n",
       "    <tr>\n",
       "      <th>2</th>\n",
       "      <td>6191</td>\n",
       "      <td>32</td>\n",
       "      <td>Cash &amp; Non Banked</td>\n",
       "      <td>0</td>\n",
       "    </tr>\n",
       "    <tr>\n",
       "      <th>3</th>\n",
       "      <td>6193</td>\n",
       "      <td>39</td>\n",
       "      <td>Cash &amp; Non Banked</td>\n",
       "      <td>548</td>\n",
       "    </tr>\n",
       "    <tr>\n",
       "      <th>4</th>\n",
       "      <td>8581</td>\n",
       "      <td>36</td>\n",
       "      <td>Cash &amp; Non Banked</td>\n",
       "      <td>0</td>\n",
       "    </tr>\n",
       "  </tbody>\n",
       "</table>\n",
       "</div>"
      ],
      "text/plain": [
       "   loan_id ManagAgeui_APP BusinFormalityOfTheBusinessui ManagCBscoreui_APP\n",
       "0     5692             32             Cash & Non Banked                  0\n",
       "1     6190             35             Cash & Non Banked                  0\n",
       "2     6191             32             Cash & Non Banked                  0\n",
       "3     6193             39             Cash & Non Banked                548\n",
       "4     8581             36             Cash & Non Banked                  0"
      ]
     },
     "execution_count": 739,
     "metadata": {},
     "output_type": "execute_result"
    }
   ],
   "source": [
    "scores_data.head()"
   ]
  },
  {
   "cell_type": "code",
   "execution_count": 740,
   "metadata": {},
   "outputs": [
    {
     "data": {
      "text/html": [
       "<div>\n",
       "<style scoped>\n",
       "    .dataframe tbody tr th:only-of-type {\n",
       "        vertical-align: middle;\n",
       "    }\n",
       "\n",
       "    .dataframe tbody tr th {\n",
       "        vertical-align: top;\n",
       "    }\n",
       "\n",
       "    .dataframe thead th {\n",
       "        text-align: right;\n",
       "    }\n",
       "</style>\n",
       "<table border=\"1\" class=\"dataframe\">\n",
       "  <thead>\n",
       "    <tr style=\"text-align: right;\">\n",
       "      <th></th>\n",
       "      <th>account_number</th>\n",
       "      <th>net_disbursement_magnitude</th>\n",
       "      <th>transaction_Date</th>\n",
       "    </tr>\n",
       "  </thead>\n",
       "  <tbody>\n",
       "    <tr>\n",
       "      <th>0</th>\n",
       "      <td>TLWCS0000594</td>\n",
       "      <td>276196.0</td>\n",
       "      <td>2017-02-28</td>\n",
       "    </tr>\n",
       "    <tr>\n",
       "      <th>1</th>\n",
       "      <td>TLWCS0000609</td>\n",
       "      <td>731482.0</td>\n",
       "      <td>2017-02-28</td>\n",
       "    </tr>\n",
       "    <tr>\n",
       "      <th>2</th>\n",
       "      <td>TLMFS0000046</td>\n",
       "      <td>915017.0</td>\n",
       "      <td>2017-02-28</td>\n",
       "    </tr>\n",
       "    <tr>\n",
       "      <th>3</th>\n",
       "      <td>TLWCS0000656</td>\n",
       "      <td>924979.0</td>\n",
       "      <td>2017-02-28</td>\n",
       "    </tr>\n",
       "    <tr>\n",
       "      <th>4</th>\n",
       "      <td>TLAPS0000238</td>\n",
       "      <td>1343871.0</td>\n",
       "      <td>2017-02-28</td>\n",
       "    </tr>\n",
       "  </tbody>\n",
       "</table>\n",
       "</div>"
      ],
      "text/plain": [
       "  account_number  net_disbursement_magnitude transaction_Date\n",
       "0   TLWCS0000594                    276196.0       2017-02-28\n",
       "1   TLWCS0000609                    731482.0       2017-02-28\n",
       "2   TLMFS0000046                    915017.0       2017-02-28\n",
       "3   TLWCS0000656                    924979.0       2017-02-28\n",
       "4   TLAPS0000238                   1343871.0       2017-02-28"
      ]
     },
     "execution_count": 740,
     "metadata": {},
     "output_type": "execute_result"
    }
   ],
   "source": [
    "disbursements_data.head()"
   ]
  },
  {
   "cell_type": "code",
   "execution_count": 741,
   "metadata": {},
   "outputs": [],
   "source": [
    "data1=pd.merge(loan_data,ent_data, on='enterprise_id',how='outer')"
   ]
  },
  {
   "cell_type": "code",
   "execution_count": 742,
   "metadata": {},
   "outputs": [
    {
     "data": {
      "text/html": [
       "<div>\n",
       "<style scoped>\n",
       "    .dataframe tbody tr th:only-of-type {\n",
       "        vertical-align: middle;\n",
       "    }\n",
       "\n",
       "    .dataframe tbody tr th {\n",
       "        vertical-align: top;\n",
       "    }\n",
       "\n",
       "    .dataframe thead th {\n",
       "        text-align: right;\n",
       "    }\n",
       "</style>\n",
       "<table border=\"1\" class=\"dataframe\">\n",
       "  <thead>\n",
       "    <tr style=\"text-align: right;\">\n",
       "      <th></th>\n",
       "      <th>loan_id</th>\n",
       "      <th>account_number</th>\n",
       "      <th>customer_id</th>\n",
       "      <th>enterprise_id</th>\n",
       "      <th>screening_date</th>\n",
       "      <th>product_code</th>\n",
       "      <th>hub_id</th>\n",
       "      <th>business_type</th>\n",
       "      <th>business_activity</th>\n",
       "      <th>business_sector</th>\n",
       "    </tr>\n",
       "  </thead>\n",
       "  <tbody>\n",
       "    <tr>\n",
       "      <th>0</th>\n",
       "      <td>5692</td>\n",
       "      <td>TLMFS0000055</td>\n",
       "      <td>17850</td>\n",
       "      <td>6278</td>\n",
       "      <td>2017-03-07</td>\n",
       "      <td>TLMFS</td>\n",
       "      <td>46</td>\n",
       "      <td>Manufacturing</td>\n",
       "      <td>Job Work</td>\n",
       "      <td>Auto Components</td>\n",
       "    </tr>\n",
       "    <tr>\n",
       "      <th>1</th>\n",
       "      <td>6190</td>\n",
       "      <td>TLWCU0001219</td>\n",
       "      <td>17857</td>\n",
       "      <td>6280</td>\n",
       "      <td>2017-03-07</td>\n",
       "      <td>TLWCU</td>\n",
       "      <td>32</td>\n",
       "      <td>Trading</td>\n",
       "      <td>Retail</td>\n",
       "      <td>Book Stores</td>\n",
       "    </tr>\n",
       "    <tr>\n",
       "      <th>2</th>\n",
       "      <td>6191</td>\n",
       "      <td>TLAPS0000292</td>\n",
       "      <td>9481</td>\n",
       "      <td>2916</td>\n",
       "      <td>2017-03-07</td>\n",
       "      <td>TLAPS</td>\n",
       "      <td>32</td>\n",
       "      <td>Manufacturing</td>\n",
       "      <td>Sales</td>\n",
       "      <td>Electricals</td>\n",
       "    </tr>\n",
       "    <tr>\n",
       "      <th>3</th>\n",
       "      <td>6192</td>\n",
       "      <td>LCRIU0000019</td>\n",
       "      <td>6597</td>\n",
       "      <td>32</td>\n",
       "      <td>2017-03-10</td>\n",
       "      <td>LCRIU</td>\n",
       "      <td>32</td>\n",
       "      <td>Manufacturing</td>\n",
       "      <td>Job Work &amp; Sales</td>\n",
       "      <td>Auto Components</td>\n",
       "    </tr>\n",
       "    <tr>\n",
       "      <th>4</th>\n",
       "      <td>9912</td>\n",
       "      <td>LCRIU0000028</td>\n",
       "      <td>6597</td>\n",
       "      <td>32</td>\n",
       "      <td>2017-04-01</td>\n",
       "      <td>LCRIU</td>\n",
       "      <td>18</td>\n",
       "      <td>Manufacturing</td>\n",
       "      <td>Job Work &amp; Sales</td>\n",
       "      <td>Auto Components</td>\n",
       "    </tr>\n",
       "  </tbody>\n",
       "</table>\n",
       "</div>"
      ],
      "text/plain": [
       "   loan_id account_number  customer_id  enterprise_id screening_date  \\\n",
       "0     5692   TLMFS0000055        17850           6278     2017-03-07   \n",
       "1     6190   TLWCU0001219        17857           6280     2017-03-07   \n",
       "2     6191   TLAPS0000292         9481           2916     2017-03-07   \n",
       "3     6192   LCRIU0000019         6597             32     2017-03-10   \n",
       "4     9912   LCRIU0000028         6597             32     2017-04-01   \n",
       "\n",
       "  product_code  hub_id  business_type business_activity  business_sector  \n",
       "0        TLMFS      46  Manufacturing          Job Work  Auto Components  \n",
       "1        TLWCU      32        Trading            Retail      Book Stores  \n",
       "2        TLAPS      32  Manufacturing             Sales      Electricals  \n",
       "3        LCRIU      32  Manufacturing  Job Work & Sales  Auto Components  \n",
       "4        LCRIU      18  Manufacturing  Job Work & Sales  Auto Components  "
      ]
     },
     "execution_count": 742,
     "metadata": {},
     "output_type": "execute_result"
    }
   ],
   "source": [
    "data1.head()"
   ]
  },
  {
   "cell_type": "code",
   "execution_count": 743,
   "metadata": {},
   "outputs": [],
   "source": [
    "def perc_missing(x):\n",
    "    return(x.isnull().sum()/len(x)*100)"
   ]
  },
  {
   "cell_type": "code",
   "execution_count": 744,
   "metadata": {},
   "outputs": [
    {
     "data": {
      "text/plain": [
       "loan_id               0.000000\n",
       "account_number       41.885800\n",
       "customer_id           0.000000\n",
       "enterprise_id         0.000000\n",
       "screening_date        0.000000\n",
       "product_code         39.669421\n",
       "hub_id                0.000000\n",
       "business_type         0.000000\n",
       "business_activity     0.000000\n",
       "business_sector       0.075131\n",
       "dtype: float64"
      ]
     },
     "execution_count": 744,
     "metadata": {},
     "output_type": "execute_result"
    }
   ],
   "source": [
    "perc_missing(data1)"
   ]
  },
  {
   "cell_type": "code",
   "execution_count": 745,
   "metadata": {},
   "outputs": [],
   "source": [
    "cols = ['account_number']\n",
    "data1[cols] = data1[cols].replace(np.nan,0)"
   ]
  },
  {
   "cell_type": "code",
   "execution_count": 746,
   "metadata": {},
   "outputs": [
    {
     "data": {
      "text/plain": [
       "loan_id               0.000000\n",
       "account_number        0.000000\n",
       "customer_id           0.000000\n",
       "enterprise_id         0.000000\n",
       "screening_date        0.000000\n",
       "product_code         39.669421\n",
       "hub_id                0.000000\n",
       "business_type         0.000000\n",
       "business_activity     0.000000\n",
       "business_sector       0.075131\n",
       "dtype: float64"
      ]
     },
     "execution_count": 746,
     "metadata": {},
     "output_type": "execute_result"
    }
   ],
   "source": [
    "perc_missing(data1)"
   ]
  },
  {
   "cell_type": "code",
   "execution_count": 747,
   "metadata": {},
   "outputs": [
    {
     "data": {
      "text/html": [
       "<div>\n",
       "<style scoped>\n",
       "    .dataframe tbody tr th:only-of-type {\n",
       "        vertical-align: middle;\n",
       "    }\n",
       "\n",
       "    .dataframe tbody tr th {\n",
       "        vertical-align: top;\n",
       "    }\n",
       "\n",
       "    .dataframe thead th {\n",
       "        text-align: right;\n",
       "    }\n",
       "</style>\n",
       "<table border=\"1\" class=\"dataframe\">\n",
       "  <thead>\n",
       "    <tr style=\"text-align: right;\">\n",
       "      <th></th>\n",
       "      <th>loan_id</th>\n",
       "      <th>account_number</th>\n",
       "      <th>customer_id</th>\n",
       "      <th>enterprise_id</th>\n",
       "      <th>screening_date</th>\n",
       "      <th>product_code</th>\n",
       "      <th>hub_id</th>\n",
       "      <th>business_type</th>\n",
       "      <th>business_activity</th>\n",
       "      <th>business_sector</th>\n",
       "    </tr>\n",
       "  </thead>\n",
       "  <tbody>\n",
       "    <tr>\n",
       "      <th>0</th>\n",
       "      <td>5692</td>\n",
       "      <td>TLMFS0000055</td>\n",
       "      <td>17850</td>\n",
       "      <td>6278</td>\n",
       "      <td>2017-03-07</td>\n",
       "      <td>TLMFS</td>\n",
       "      <td>46</td>\n",
       "      <td>Manufacturing</td>\n",
       "      <td>Job Work</td>\n",
       "      <td>Auto Components</td>\n",
       "    </tr>\n",
       "    <tr>\n",
       "      <th>1</th>\n",
       "      <td>6190</td>\n",
       "      <td>TLWCU0001219</td>\n",
       "      <td>17857</td>\n",
       "      <td>6280</td>\n",
       "      <td>2017-03-07</td>\n",
       "      <td>TLWCU</td>\n",
       "      <td>32</td>\n",
       "      <td>Trading</td>\n",
       "      <td>Retail</td>\n",
       "      <td>Book Stores</td>\n",
       "    </tr>\n",
       "    <tr>\n",
       "      <th>2</th>\n",
       "      <td>6191</td>\n",
       "      <td>TLAPS0000292</td>\n",
       "      <td>9481</td>\n",
       "      <td>2916</td>\n",
       "      <td>2017-03-07</td>\n",
       "      <td>TLAPS</td>\n",
       "      <td>32</td>\n",
       "      <td>Manufacturing</td>\n",
       "      <td>Sales</td>\n",
       "      <td>Electricals</td>\n",
       "    </tr>\n",
       "    <tr>\n",
       "      <th>3</th>\n",
       "      <td>6192</td>\n",
       "      <td>LCRIU0000019</td>\n",
       "      <td>6597</td>\n",
       "      <td>32</td>\n",
       "      <td>2017-03-10</td>\n",
       "      <td>LCRIU</td>\n",
       "      <td>32</td>\n",
       "      <td>Manufacturing</td>\n",
       "      <td>Job Work &amp; Sales</td>\n",
       "      <td>Auto Components</td>\n",
       "    </tr>\n",
       "    <tr>\n",
       "      <th>4</th>\n",
       "      <td>9912</td>\n",
       "      <td>LCRIU0000028</td>\n",
       "      <td>6597</td>\n",
       "      <td>32</td>\n",
       "      <td>2017-04-01</td>\n",
       "      <td>LCRIU</td>\n",
       "      <td>18</td>\n",
       "      <td>Manufacturing</td>\n",
       "      <td>Job Work &amp; Sales</td>\n",
       "      <td>Auto Components</td>\n",
       "    </tr>\n",
       "  </tbody>\n",
       "</table>\n",
       "</div>"
      ],
      "text/plain": [
       "   loan_id account_number  customer_id  enterprise_id screening_date  \\\n",
       "0     5692   TLMFS0000055        17850           6278     2017-03-07   \n",
       "1     6190   TLWCU0001219        17857           6280     2017-03-07   \n",
       "2     6191   TLAPS0000292         9481           2916     2017-03-07   \n",
       "3     6192   LCRIU0000019         6597             32     2017-03-10   \n",
       "4     9912   LCRIU0000028         6597             32     2017-04-01   \n",
       "\n",
       "  product_code  hub_id  business_type business_activity  business_sector  \n",
       "0        TLMFS      46  Manufacturing          Job Work  Auto Components  \n",
       "1        TLWCU      32        Trading            Retail      Book Stores  \n",
       "2        TLAPS      32  Manufacturing             Sales      Electricals  \n",
       "3        LCRIU      32  Manufacturing  Job Work & Sales  Auto Components  \n",
       "4        LCRIU      18  Manufacturing  Job Work & Sales  Auto Components  "
      ]
     },
     "execution_count": 747,
     "metadata": {},
     "output_type": "execute_result"
    }
   ],
   "source": [
    "data1.head()"
   ]
  },
  {
   "cell_type": "code",
   "execution_count": 748,
   "metadata": {},
   "outputs": [],
   "source": [
    "data1['loan_status']=np.where(data1['account_number']==0,data1['account_number'],1)"
   ]
  },
  {
   "cell_type": "code",
   "execution_count": 749,
   "metadata": {},
   "outputs": [
    {
     "data": {
      "text/html": [
       "<div>\n",
       "<style scoped>\n",
       "    .dataframe tbody tr th:only-of-type {\n",
       "        vertical-align: middle;\n",
       "    }\n",
       "\n",
       "    .dataframe tbody tr th {\n",
       "        vertical-align: top;\n",
       "    }\n",
       "\n",
       "    .dataframe thead th {\n",
       "        text-align: right;\n",
       "    }\n",
       "</style>\n",
       "<table border=\"1\" class=\"dataframe\">\n",
       "  <thead>\n",
       "    <tr style=\"text-align: right;\">\n",
       "      <th></th>\n",
       "      <th>loan_id</th>\n",
       "      <th>account_number</th>\n",
       "      <th>customer_id</th>\n",
       "      <th>enterprise_id</th>\n",
       "      <th>screening_date</th>\n",
       "      <th>product_code</th>\n",
       "      <th>hub_id</th>\n",
       "      <th>business_type</th>\n",
       "      <th>business_activity</th>\n",
       "      <th>business_sector</th>\n",
       "      <th>loan_status</th>\n",
       "    </tr>\n",
       "  </thead>\n",
       "  <tbody>\n",
       "    <tr>\n",
       "      <th>0</th>\n",
       "      <td>5692</td>\n",
       "      <td>TLMFS0000055</td>\n",
       "      <td>17850</td>\n",
       "      <td>6278</td>\n",
       "      <td>2017-03-07</td>\n",
       "      <td>TLMFS</td>\n",
       "      <td>46</td>\n",
       "      <td>Manufacturing</td>\n",
       "      <td>Job Work</td>\n",
       "      <td>Auto Components</td>\n",
       "      <td>1</td>\n",
       "    </tr>\n",
       "    <tr>\n",
       "      <th>1</th>\n",
       "      <td>6190</td>\n",
       "      <td>TLWCU0001219</td>\n",
       "      <td>17857</td>\n",
       "      <td>6280</td>\n",
       "      <td>2017-03-07</td>\n",
       "      <td>TLWCU</td>\n",
       "      <td>32</td>\n",
       "      <td>Trading</td>\n",
       "      <td>Retail</td>\n",
       "      <td>Book Stores</td>\n",
       "      <td>1</td>\n",
       "    </tr>\n",
       "    <tr>\n",
       "      <th>2</th>\n",
       "      <td>6191</td>\n",
       "      <td>TLAPS0000292</td>\n",
       "      <td>9481</td>\n",
       "      <td>2916</td>\n",
       "      <td>2017-03-07</td>\n",
       "      <td>TLAPS</td>\n",
       "      <td>32</td>\n",
       "      <td>Manufacturing</td>\n",
       "      <td>Sales</td>\n",
       "      <td>Electricals</td>\n",
       "      <td>1</td>\n",
       "    </tr>\n",
       "    <tr>\n",
       "      <th>3</th>\n",
       "      <td>6192</td>\n",
       "      <td>LCRIU0000019</td>\n",
       "      <td>6597</td>\n",
       "      <td>32</td>\n",
       "      <td>2017-03-10</td>\n",
       "      <td>LCRIU</td>\n",
       "      <td>32</td>\n",
       "      <td>Manufacturing</td>\n",
       "      <td>Job Work &amp; Sales</td>\n",
       "      <td>Auto Components</td>\n",
       "      <td>1</td>\n",
       "    </tr>\n",
       "    <tr>\n",
       "      <th>4</th>\n",
       "      <td>9912</td>\n",
       "      <td>LCRIU0000028</td>\n",
       "      <td>6597</td>\n",
       "      <td>32</td>\n",
       "      <td>2017-04-01</td>\n",
       "      <td>LCRIU</td>\n",
       "      <td>18</td>\n",
       "      <td>Manufacturing</td>\n",
       "      <td>Job Work &amp; Sales</td>\n",
       "      <td>Auto Components</td>\n",
       "      <td>1</td>\n",
       "    </tr>\n",
       "  </tbody>\n",
       "</table>\n",
       "</div>"
      ],
      "text/plain": [
       "   loan_id account_number  customer_id  enterprise_id screening_date  \\\n",
       "0     5692   TLMFS0000055        17850           6278     2017-03-07   \n",
       "1     6190   TLWCU0001219        17857           6280     2017-03-07   \n",
       "2     6191   TLAPS0000292         9481           2916     2017-03-07   \n",
       "3     6192   LCRIU0000019         6597             32     2017-03-10   \n",
       "4     9912   LCRIU0000028         6597             32     2017-04-01   \n",
       "\n",
       "  product_code  hub_id  business_type business_activity  business_sector  \\\n",
       "0        TLMFS      46  Manufacturing          Job Work  Auto Components   \n",
       "1        TLWCU      32        Trading            Retail      Book Stores   \n",
       "2        TLAPS      32  Manufacturing             Sales      Electricals   \n",
       "3        LCRIU      32  Manufacturing  Job Work & Sales  Auto Components   \n",
       "4        LCRIU      18  Manufacturing  Job Work & Sales  Auto Components   \n",
       "\n",
       "  loan_status  \n",
       "0           1  \n",
       "1           1  \n",
       "2           1  \n",
       "3           1  \n",
       "4           1  "
      ]
     },
     "execution_count": 749,
     "metadata": {},
     "output_type": "execute_result"
    }
   ],
   "source": [
    "data1.head()"
   ]
  },
  {
   "cell_type": "code",
   "execution_count": null,
   "metadata": {},
   "outputs": [],
   "source": []
  },
  {
   "cell_type": "code",
   "execution_count": null,
   "metadata": {},
   "outputs": [],
   "source": []
  },
  {
   "cell_type": "code",
   "execution_count": 750,
   "metadata": {},
   "outputs": [],
   "source": [
    "data2=pd.merge(data1,scores_data, on='loan_id',how='inner')"
   ]
  },
  {
   "cell_type": "code",
   "execution_count": 751,
   "metadata": {},
   "outputs": [],
   "source": [
    "col = ['ManagCBscoreui_APP','ManagAgeui_APP','product_code','BusinFormalityOfTheBusinessui']\n",
    "data2[col] = data2[col].replace(np.nan,0)"
   ]
  },
  {
   "cell_type": "code",
   "execution_count": 752,
   "metadata": {},
   "outputs": [
    {
     "data": {
      "text/html": [
       "<div>\n",
       "<style scoped>\n",
       "    .dataframe tbody tr th:only-of-type {\n",
       "        vertical-align: middle;\n",
       "    }\n",
       "\n",
       "    .dataframe tbody tr th {\n",
       "        vertical-align: top;\n",
       "    }\n",
       "\n",
       "    .dataframe thead th {\n",
       "        text-align: right;\n",
       "    }\n",
       "</style>\n",
       "<table border=\"1\" class=\"dataframe\">\n",
       "  <thead>\n",
       "    <tr style=\"text-align: right;\">\n",
       "      <th></th>\n",
       "      <th>loan_id</th>\n",
       "      <th>account_number</th>\n",
       "      <th>customer_id</th>\n",
       "      <th>enterprise_id</th>\n",
       "      <th>screening_date</th>\n",
       "      <th>product_code</th>\n",
       "      <th>hub_id</th>\n",
       "      <th>business_type</th>\n",
       "      <th>business_activity</th>\n",
       "      <th>business_sector</th>\n",
       "      <th>loan_status</th>\n",
       "      <th>ManagAgeui_APP</th>\n",
       "      <th>BusinFormalityOfTheBusinessui</th>\n",
       "      <th>ManagCBscoreui_APP</th>\n",
       "    </tr>\n",
       "  </thead>\n",
       "  <tbody>\n",
       "    <tr>\n",
       "      <th>0</th>\n",
       "      <td>5692</td>\n",
       "      <td>TLMFS0000055</td>\n",
       "      <td>17850</td>\n",
       "      <td>6278</td>\n",
       "      <td>2017-03-07</td>\n",
       "      <td>TLMFS</td>\n",
       "      <td>46</td>\n",
       "      <td>Manufacturing</td>\n",
       "      <td>Job Work</td>\n",
       "      <td>Auto Components</td>\n",
       "      <td>1</td>\n",
       "      <td>32</td>\n",
       "      <td>Cash &amp; Non Banked</td>\n",
       "      <td>0</td>\n",
       "    </tr>\n",
       "    <tr>\n",
       "      <th>1</th>\n",
       "      <td>6190</td>\n",
       "      <td>TLWCU0001219</td>\n",
       "      <td>17857</td>\n",
       "      <td>6280</td>\n",
       "      <td>2017-03-07</td>\n",
       "      <td>TLWCU</td>\n",
       "      <td>32</td>\n",
       "      <td>Trading</td>\n",
       "      <td>Retail</td>\n",
       "      <td>Book Stores</td>\n",
       "      <td>1</td>\n",
       "      <td>35</td>\n",
       "      <td>Cash &amp; Non Banked</td>\n",
       "      <td>0</td>\n",
       "    </tr>\n",
       "    <tr>\n",
       "      <th>2</th>\n",
       "      <td>6191</td>\n",
       "      <td>TLAPS0000292</td>\n",
       "      <td>9481</td>\n",
       "      <td>2916</td>\n",
       "      <td>2017-03-07</td>\n",
       "      <td>TLAPS</td>\n",
       "      <td>32</td>\n",
       "      <td>Manufacturing</td>\n",
       "      <td>Sales</td>\n",
       "      <td>Electricals</td>\n",
       "      <td>1</td>\n",
       "      <td>32</td>\n",
       "      <td>Cash &amp; Non Banked</td>\n",
       "      <td>0</td>\n",
       "    </tr>\n",
       "    <tr>\n",
       "      <th>3</th>\n",
       "      <td>9912</td>\n",
       "      <td>LCRIU0000028</td>\n",
       "      <td>6597</td>\n",
       "      <td>32</td>\n",
       "      <td>2017-04-01</td>\n",
       "      <td>LCRIU</td>\n",
       "      <td>18</td>\n",
       "      <td>Manufacturing</td>\n",
       "      <td>Job Work &amp; Sales</td>\n",
       "      <td>Auto Components</td>\n",
       "      <td>1</td>\n",
       "      <td>37</td>\n",
       "      <td>Cash &amp; Non Banked</td>\n",
       "      <td>826</td>\n",
       "    </tr>\n",
       "    <tr>\n",
       "      <th>4</th>\n",
       "      <td>10500</td>\n",
       "      <td>LCRIU0000032</td>\n",
       "      <td>6597</td>\n",
       "      <td>32</td>\n",
       "      <td>2017-04-27</td>\n",
       "      <td>LCRIU</td>\n",
       "      <td>18</td>\n",
       "      <td>Manufacturing</td>\n",
       "      <td>Job Work &amp; Sales</td>\n",
       "      <td>Auto Components</td>\n",
       "      <td>1</td>\n",
       "      <td>37</td>\n",
       "      <td>Cash &amp; Non Banked</td>\n",
       "      <td>826</td>\n",
       "    </tr>\n",
       "  </tbody>\n",
       "</table>\n",
       "</div>"
      ],
      "text/plain": [
       "   loan_id account_number  customer_id  enterprise_id screening_date  \\\n",
       "0     5692   TLMFS0000055        17850           6278     2017-03-07   \n",
       "1     6190   TLWCU0001219        17857           6280     2017-03-07   \n",
       "2     6191   TLAPS0000292         9481           2916     2017-03-07   \n",
       "3     9912   LCRIU0000028         6597             32     2017-04-01   \n",
       "4    10500   LCRIU0000032         6597             32     2017-04-27   \n",
       "\n",
       "  product_code  hub_id  business_type business_activity  business_sector  \\\n",
       "0        TLMFS      46  Manufacturing          Job Work  Auto Components   \n",
       "1        TLWCU      32        Trading            Retail      Book Stores   \n",
       "2        TLAPS      32  Manufacturing             Sales      Electricals   \n",
       "3        LCRIU      18  Manufacturing  Job Work & Sales  Auto Components   \n",
       "4        LCRIU      18  Manufacturing  Job Work & Sales  Auto Components   \n",
       "\n",
       "  loan_status ManagAgeui_APP BusinFormalityOfTheBusinessui ManagCBscoreui_APP  \n",
       "0           1             32             Cash & Non Banked                  0  \n",
       "1           1             35             Cash & Non Banked                  0  \n",
       "2           1             32             Cash & Non Banked                  0  \n",
       "3           1             37             Cash & Non Banked                826  \n",
       "4           1             37             Cash & Non Banked                826  "
      ]
     },
     "execution_count": 752,
     "metadata": {},
     "output_type": "execute_result"
    }
   ],
   "source": [
    "data2.head()"
   ]
  },
  {
   "cell_type": "code",
   "execution_count": 753,
   "metadata": {},
   "outputs": [
    {
     "data": {
      "text/plain": [
       "(2033, 14)"
      ]
     },
     "execution_count": 753,
     "metadata": {},
     "output_type": "execute_result"
    }
   ],
   "source": [
    "data2.shape"
   ]
  },
  {
   "cell_type": "code",
   "execution_count": 754,
   "metadata": {},
   "outputs": [],
   "source": [
    "data2['product_code']  = data2.product_code.replace(['TLMFS', 'TLWCU', 'TLAPS', 'LCRIU', 'TLWCS', 'LCRDS', 'ICWCS',\n",
    "       'None', 'LCRDU', 'ICAPS', 'ICMFS', 'TLBDU', 'ICBDS', 'TLBDS'], ['secured_product', 'unsecured_product','secured_product','unsecured_product','secured_product','secured_product','secured_product','None','unsecured_product','secured_product','secured_product','unsecured_product','secured_product','secured_product'])"
   ]
  },
  {
   "cell_type": "code",
   "execution_count": 755,
   "metadata": {},
   "outputs": [],
   "source": [
    "data2['loan_status']  = data2.loan_status.replace([1,0], ['Loan_Accepted', 'Loan_Rejected'])"
   ]
  },
  {
   "cell_type": "code",
   "execution_count": 756,
   "metadata": {},
   "outputs": [
    {
     "data": {
      "text/html": [
       "<div>\n",
       "<style scoped>\n",
       "    .dataframe tbody tr th:only-of-type {\n",
       "        vertical-align: middle;\n",
       "    }\n",
       "\n",
       "    .dataframe tbody tr th {\n",
       "        vertical-align: top;\n",
       "    }\n",
       "\n",
       "    .dataframe thead th {\n",
       "        text-align: right;\n",
       "    }\n",
       "</style>\n",
       "<table border=\"1\" class=\"dataframe\">\n",
       "  <thead>\n",
       "    <tr style=\"text-align: right;\">\n",
       "      <th></th>\n",
       "      <th>loan_id</th>\n",
       "      <th>account_number</th>\n",
       "      <th>customer_id</th>\n",
       "      <th>enterprise_id</th>\n",
       "      <th>screening_date</th>\n",
       "      <th>product_code</th>\n",
       "      <th>hub_id</th>\n",
       "      <th>business_type</th>\n",
       "      <th>business_activity</th>\n",
       "      <th>business_sector</th>\n",
       "      <th>loan_status</th>\n",
       "      <th>ManagAgeui_APP</th>\n",
       "      <th>BusinFormalityOfTheBusinessui</th>\n",
       "      <th>ManagCBscoreui_APP</th>\n",
       "    </tr>\n",
       "  </thead>\n",
       "  <tbody>\n",
       "    <tr>\n",
       "      <th>0</th>\n",
       "      <td>5692</td>\n",
       "      <td>TLMFS0000055</td>\n",
       "      <td>17850</td>\n",
       "      <td>6278</td>\n",
       "      <td>2017-03-07</td>\n",
       "      <td>secured_product</td>\n",
       "      <td>46</td>\n",
       "      <td>Manufacturing</td>\n",
       "      <td>Job Work</td>\n",
       "      <td>Auto Components</td>\n",
       "      <td>Loan_Accepted</td>\n",
       "      <td>32</td>\n",
       "      <td>Cash &amp; Non Banked</td>\n",
       "      <td>0</td>\n",
       "    </tr>\n",
       "    <tr>\n",
       "      <th>1</th>\n",
       "      <td>6190</td>\n",
       "      <td>TLWCU0001219</td>\n",
       "      <td>17857</td>\n",
       "      <td>6280</td>\n",
       "      <td>2017-03-07</td>\n",
       "      <td>unsecured_product</td>\n",
       "      <td>32</td>\n",
       "      <td>Trading</td>\n",
       "      <td>Retail</td>\n",
       "      <td>Book Stores</td>\n",
       "      <td>Loan_Accepted</td>\n",
       "      <td>35</td>\n",
       "      <td>Cash &amp; Non Banked</td>\n",
       "      <td>0</td>\n",
       "    </tr>\n",
       "    <tr>\n",
       "      <th>2</th>\n",
       "      <td>6191</td>\n",
       "      <td>TLAPS0000292</td>\n",
       "      <td>9481</td>\n",
       "      <td>2916</td>\n",
       "      <td>2017-03-07</td>\n",
       "      <td>secured_product</td>\n",
       "      <td>32</td>\n",
       "      <td>Manufacturing</td>\n",
       "      <td>Sales</td>\n",
       "      <td>Electricals</td>\n",
       "      <td>Loan_Accepted</td>\n",
       "      <td>32</td>\n",
       "      <td>Cash &amp; Non Banked</td>\n",
       "      <td>0</td>\n",
       "    </tr>\n",
       "    <tr>\n",
       "      <th>3</th>\n",
       "      <td>9912</td>\n",
       "      <td>LCRIU0000028</td>\n",
       "      <td>6597</td>\n",
       "      <td>32</td>\n",
       "      <td>2017-04-01</td>\n",
       "      <td>unsecured_product</td>\n",
       "      <td>18</td>\n",
       "      <td>Manufacturing</td>\n",
       "      <td>Job Work &amp; Sales</td>\n",
       "      <td>Auto Components</td>\n",
       "      <td>Loan_Accepted</td>\n",
       "      <td>37</td>\n",
       "      <td>Cash &amp; Non Banked</td>\n",
       "      <td>826</td>\n",
       "    </tr>\n",
       "    <tr>\n",
       "      <th>4</th>\n",
       "      <td>10500</td>\n",
       "      <td>LCRIU0000032</td>\n",
       "      <td>6597</td>\n",
       "      <td>32</td>\n",
       "      <td>2017-04-27</td>\n",
       "      <td>unsecured_product</td>\n",
       "      <td>18</td>\n",
       "      <td>Manufacturing</td>\n",
       "      <td>Job Work &amp; Sales</td>\n",
       "      <td>Auto Components</td>\n",
       "      <td>Loan_Accepted</td>\n",
       "      <td>37</td>\n",
       "      <td>Cash &amp; Non Banked</td>\n",
       "      <td>826</td>\n",
       "    </tr>\n",
       "    <tr>\n",
       "      <th>5</th>\n",
       "      <td>6193</td>\n",
       "      <td>LCRIU0000020</td>\n",
       "      <td>9732</td>\n",
       "      <td>3167</td>\n",
       "      <td>2017-03-13</td>\n",
       "      <td>unsecured_product</td>\n",
       "      <td>32</td>\n",
       "      <td>Manufacturing</td>\n",
       "      <td>Job Work</td>\n",
       "      <td>Auto Components</td>\n",
       "      <td>Loan_Accepted</td>\n",
       "      <td>39</td>\n",
       "      <td>Cash &amp; Non Banked</td>\n",
       "      <td>548</td>\n",
       "    </tr>\n",
       "    <tr>\n",
       "      <th>6</th>\n",
       "      <td>9919</td>\n",
       "      <td>LCRIU0000031</td>\n",
       "      <td>9732</td>\n",
       "      <td>3167</td>\n",
       "      <td>2017-04-04</td>\n",
       "      <td>unsecured_product</td>\n",
       "      <td>18</td>\n",
       "      <td>Manufacturing</td>\n",
       "      <td>Job Work</td>\n",
       "      <td>Auto Components</td>\n",
       "      <td>Loan_Accepted</td>\n",
       "      <td>39</td>\n",
       "      <td>Cash &amp; Non Banked</td>\n",
       "      <td>548</td>\n",
       "    </tr>\n",
       "    <tr>\n",
       "      <th>7</th>\n",
       "      <td>8581</td>\n",
       "      <td>TLAPS0000238</td>\n",
       "      <td>17643</td>\n",
       "      <td>6209</td>\n",
       "      <td>2017-03-02</td>\n",
       "      <td>secured_product</td>\n",
       "      <td>26</td>\n",
       "      <td>Manufacturing</td>\n",
       "      <td>Job Work</td>\n",
       "      <td>Machine  Components</td>\n",
       "      <td>Loan_Accepted</td>\n",
       "      <td>36</td>\n",
       "      <td>Cash &amp; Non Banked</td>\n",
       "      <td>0</td>\n",
       "    </tr>\n",
       "    <tr>\n",
       "      <th>8</th>\n",
       "      <td>8582</td>\n",
       "      <td>TLMFS0000046</td>\n",
       "      <td>7010</td>\n",
       "      <td>445</td>\n",
       "      <td>2017-03-02</td>\n",
       "      <td>secured_product</td>\n",
       "      <td>84</td>\n",
       "      <td>Manufacturing</td>\n",
       "      <td>Sales</td>\n",
       "      <td>Auto Components</td>\n",
       "      <td>Loan_Accepted</td>\n",
       "      <td>48</td>\n",
       "      <td>Cash &amp; Non Banked</td>\n",
       "      <td>0</td>\n",
       "    </tr>\n",
       "    <tr>\n",
       "      <th>9</th>\n",
       "      <td>8584</td>\n",
       "      <td>TLAPS0000270</td>\n",
       "      <td>17639</td>\n",
       "      <td>6208</td>\n",
       "      <td>2017-03-02</td>\n",
       "      <td>secured_product</td>\n",
       "      <td>32</td>\n",
       "      <td>Manufacturing</td>\n",
       "      <td>Job Work</td>\n",
       "      <td>Auto Components</td>\n",
       "      <td>Loan_Accepted</td>\n",
       "      <td>35</td>\n",
       "      <td>Invoice &amp; Banked</td>\n",
       "      <td>584</td>\n",
       "    </tr>\n",
       "  </tbody>\n",
       "</table>\n",
       "</div>"
      ],
      "text/plain": [
       "   loan_id account_number  customer_id  enterprise_id screening_date  \\\n",
       "0     5692   TLMFS0000055        17850           6278     2017-03-07   \n",
       "1     6190   TLWCU0001219        17857           6280     2017-03-07   \n",
       "2     6191   TLAPS0000292         9481           2916     2017-03-07   \n",
       "3     9912   LCRIU0000028         6597             32     2017-04-01   \n",
       "4    10500   LCRIU0000032         6597             32     2017-04-27   \n",
       "5     6193   LCRIU0000020         9732           3167     2017-03-13   \n",
       "6     9919   LCRIU0000031         9732           3167     2017-04-04   \n",
       "7     8581   TLAPS0000238        17643           6209     2017-03-02   \n",
       "8     8582   TLMFS0000046         7010            445     2017-03-02   \n",
       "9     8584   TLAPS0000270        17639           6208     2017-03-02   \n",
       "\n",
       "        product_code  hub_id  business_type business_activity  \\\n",
       "0    secured_product      46  Manufacturing          Job Work   \n",
       "1  unsecured_product      32        Trading            Retail   \n",
       "2    secured_product      32  Manufacturing             Sales   \n",
       "3  unsecured_product      18  Manufacturing  Job Work & Sales   \n",
       "4  unsecured_product      18  Manufacturing  Job Work & Sales   \n",
       "5  unsecured_product      32  Manufacturing          Job Work   \n",
       "6  unsecured_product      18  Manufacturing          Job Work   \n",
       "7    secured_product      26  Manufacturing          Job Work   \n",
       "8    secured_product      84  Manufacturing             Sales   \n",
       "9    secured_product      32  Manufacturing          Job Work   \n",
       "\n",
       "       business_sector    loan_status ManagAgeui_APP  \\\n",
       "0      Auto Components  Loan_Accepted             32   \n",
       "1          Book Stores  Loan_Accepted             35   \n",
       "2          Electricals  Loan_Accepted             32   \n",
       "3      Auto Components  Loan_Accepted             37   \n",
       "4      Auto Components  Loan_Accepted             37   \n",
       "5      Auto Components  Loan_Accepted             39   \n",
       "6      Auto Components  Loan_Accepted             39   \n",
       "7  Machine  Components  Loan_Accepted             36   \n",
       "8      Auto Components  Loan_Accepted             48   \n",
       "9      Auto Components  Loan_Accepted             35   \n",
       "\n",
       "  BusinFormalityOfTheBusinessui ManagCBscoreui_APP  \n",
       "0             Cash & Non Banked                  0  \n",
       "1             Cash & Non Banked                  0  \n",
       "2             Cash & Non Banked                  0  \n",
       "3             Cash & Non Banked                826  \n",
       "4             Cash & Non Banked                826  \n",
       "5             Cash & Non Banked                548  \n",
       "6             Cash & Non Banked                548  \n",
       "7             Cash & Non Banked                  0  \n",
       "8             Cash & Non Banked                  0  \n",
       "9              Invoice & Banked                584  "
      ]
     },
     "execution_count": 756,
     "metadata": {},
     "output_type": "execute_result"
    }
   ],
   "source": [
    "data2.head(10)"
   ]
  },
  {
   "cell_type": "code",
   "execution_count": 757,
   "metadata": {},
   "outputs": [],
   "source": [
    "data2['ManagCBscoreui_APP']=data2.ManagCBscoreui_APP.astype(int)\n",
    "data2['ManagAgeui_APP']=data2.ManagAgeui_APP.astype(int)\n"
   ]
  },
  {
   "cell_type": "code",
   "execution_count": 758,
   "metadata": {},
   "outputs": [],
   "source": [
    "data2['ManagCBscoreui_APP']=np.where(data2['ManagCBscoreui_APP'].between(1,630),1,data2['ManagCBscoreui_APP'])\n",
    "data2['ManagCBscoreui_APP']=np.where(data2['ManagCBscoreui_APP'].between(630,689),2,data2['ManagCBscoreui_APP'])\n",
    "\n",
    "data2['ManagCBscoreui_APP']=np.where(data2['ManagCBscoreui_APP'].between(689,719),3,data2['ManagCBscoreui_APP'])\n",
    "data2['ManagCBscoreui_APP']=np.where(data2['ManagCBscoreui_APP']>719,4,data2['ManagCBscoreui_APP'])\n"
   ]
  },
  {
   "cell_type": "code",
   "execution_count": 759,
   "metadata": {},
   "outputs": [],
   "source": [
    "data2['ManagCBscoreui_APP']  = data2.ManagCBscoreui_APP.replace([1,2,3,4], ['Bad credit',' Fair credit','Good credit','Excellent credit'])"
   ]
  },
  {
   "cell_type": "code",
   "execution_count": 760,
   "metadata": {},
   "outputs": [
    {
     "data": {
      "text/plain": [
       "array([0, 'Excellent credit', 'Bad credit', 'Good credit', ' Fair credit'],\n",
       "      dtype=object)"
      ]
     },
     "execution_count": 760,
     "metadata": {},
     "output_type": "execute_result"
    }
   ],
   "source": [
    "data2.ManagCBscoreui_APP.unique()"
   ]
  },
  {
   "cell_type": "code",
   "execution_count": 761,
   "metadata": {},
   "outputs": [],
   "source": [
    "data2['ManagAgeui_APP']=np.where(data2['ManagAgeui_APP'].between(1,20),1,data2['ManagAgeui_APP'])\n",
    "data2['ManagAgeui_APP']=np.where(data2['ManagAgeui_APP'].between(21,35),2,data2['ManagAgeui_APP'])\n",
    "\n",
    "data2['ManagAgeui_APP']=np.where(data2['ManagAgeui_APP'].between(36,50),3,data2['ManagAgeui_APP'])\n",
    "data2['ManagAgeui_APP']=np.where(data2['ManagAgeui_APP'].between(51,70),4,data2['ManagAgeui_APP'])\n",
    "data2['ManagAgeui_APP']=np.where(data2['ManagAgeui_APP'].between(71,98),5,data2['ManagAgeui_APP'])\n"
   ]
  },
  {
   "cell_type": "code",
   "execution_count": 762,
   "metadata": {},
   "outputs": [],
   "source": [
    "data2['ManagAgeui_APP']  = data2.ManagAgeui_APP.replace([1,2,3,4,5], ['20 & Below','21-35','36-50','51-70','70 & Above'])"
   ]
  },
  {
   "cell_type": "code",
   "execution_count": 763,
   "metadata": {},
   "outputs": [
    {
     "data": {
      "text/plain": [
       "array(['21-35', '36-50', '51-70', 0, '20 & Below'], dtype=object)"
      ]
     },
     "execution_count": 763,
     "metadata": {},
     "output_type": "execute_result"
    }
   ],
   "source": [
    "data2.ManagAgeui_APP.unique()"
   ]
  },
  {
   "cell_type": "code",
   "execution_count": 764,
   "metadata": {},
   "outputs": [
    {
     "data": {
      "text/html": [
       "<div>\n",
       "<style scoped>\n",
       "    .dataframe tbody tr th:only-of-type {\n",
       "        vertical-align: middle;\n",
       "    }\n",
       "\n",
       "    .dataframe tbody tr th {\n",
       "        vertical-align: top;\n",
       "    }\n",
       "\n",
       "    .dataframe thead th {\n",
       "        text-align: right;\n",
       "    }\n",
       "</style>\n",
       "<table border=\"1\" class=\"dataframe\">\n",
       "  <thead>\n",
       "    <tr style=\"text-align: right;\">\n",
       "      <th></th>\n",
       "      <th>loan_id</th>\n",
       "      <th>account_number</th>\n",
       "      <th>customer_id</th>\n",
       "      <th>enterprise_id</th>\n",
       "      <th>screening_date</th>\n",
       "      <th>product_code</th>\n",
       "      <th>hub_id</th>\n",
       "      <th>business_type</th>\n",
       "      <th>business_activity</th>\n",
       "      <th>business_sector</th>\n",
       "      <th>loan_status</th>\n",
       "      <th>ManagAgeui_APP</th>\n",
       "      <th>BusinFormalityOfTheBusinessui</th>\n",
       "      <th>ManagCBscoreui_APP</th>\n",
       "    </tr>\n",
       "  </thead>\n",
       "  <tbody>\n",
       "    <tr>\n",
       "      <th>0</th>\n",
       "      <td>5692</td>\n",
       "      <td>TLMFS0000055</td>\n",
       "      <td>17850</td>\n",
       "      <td>6278</td>\n",
       "      <td>2017-03-07</td>\n",
       "      <td>secured_product</td>\n",
       "      <td>46</td>\n",
       "      <td>Manufacturing</td>\n",
       "      <td>Job Work</td>\n",
       "      <td>Auto Components</td>\n",
       "      <td>Loan_Accepted</td>\n",
       "      <td>21-35</td>\n",
       "      <td>Cash &amp; Non Banked</td>\n",
       "      <td>0</td>\n",
       "    </tr>\n",
       "    <tr>\n",
       "      <th>1</th>\n",
       "      <td>6190</td>\n",
       "      <td>TLWCU0001219</td>\n",
       "      <td>17857</td>\n",
       "      <td>6280</td>\n",
       "      <td>2017-03-07</td>\n",
       "      <td>unsecured_product</td>\n",
       "      <td>32</td>\n",
       "      <td>Trading</td>\n",
       "      <td>Retail</td>\n",
       "      <td>Book Stores</td>\n",
       "      <td>Loan_Accepted</td>\n",
       "      <td>21-35</td>\n",
       "      <td>Cash &amp; Non Banked</td>\n",
       "      <td>0</td>\n",
       "    </tr>\n",
       "    <tr>\n",
       "      <th>2</th>\n",
       "      <td>6191</td>\n",
       "      <td>TLAPS0000292</td>\n",
       "      <td>9481</td>\n",
       "      <td>2916</td>\n",
       "      <td>2017-03-07</td>\n",
       "      <td>secured_product</td>\n",
       "      <td>32</td>\n",
       "      <td>Manufacturing</td>\n",
       "      <td>Sales</td>\n",
       "      <td>Electricals</td>\n",
       "      <td>Loan_Accepted</td>\n",
       "      <td>21-35</td>\n",
       "      <td>Cash &amp; Non Banked</td>\n",
       "      <td>0</td>\n",
       "    </tr>\n",
       "    <tr>\n",
       "      <th>3</th>\n",
       "      <td>9912</td>\n",
       "      <td>LCRIU0000028</td>\n",
       "      <td>6597</td>\n",
       "      <td>32</td>\n",
       "      <td>2017-04-01</td>\n",
       "      <td>unsecured_product</td>\n",
       "      <td>18</td>\n",
       "      <td>Manufacturing</td>\n",
       "      <td>Job Work &amp; Sales</td>\n",
       "      <td>Auto Components</td>\n",
       "      <td>Loan_Accepted</td>\n",
       "      <td>36-50</td>\n",
       "      <td>Cash &amp; Non Banked</td>\n",
       "      <td>Excellent credit</td>\n",
       "    </tr>\n",
       "    <tr>\n",
       "      <th>4</th>\n",
       "      <td>10500</td>\n",
       "      <td>LCRIU0000032</td>\n",
       "      <td>6597</td>\n",
       "      <td>32</td>\n",
       "      <td>2017-04-27</td>\n",
       "      <td>unsecured_product</td>\n",
       "      <td>18</td>\n",
       "      <td>Manufacturing</td>\n",
       "      <td>Job Work &amp; Sales</td>\n",
       "      <td>Auto Components</td>\n",
       "      <td>Loan_Accepted</td>\n",
       "      <td>36-50</td>\n",
       "      <td>Cash &amp; Non Banked</td>\n",
       "      <td>Excellent credit</td>\n",
       "    </tr>\n",
       "  </tbody>\n",
       "</table>\n",
       "</div>"
      ],
      "text/plain": [
       "   loan_id account_number  customer_id  enterprise_id screening_date  \\\n",
       "0     5692   TLMFS0000055        17850           6278     2017-03-07   \n",
       "1     6190   TLWCU0001219        17857           6280     2017-03-07   \n",
       "2     6191   TLAPS0000292         9481           2916     2017-03-07   \n",
       "3     9912   LCRIU0000028         6597             32     2017-04-01   \n",
       "4    10500   LCRIU0000032         6597             32     2017-04-27   \n",
       "\n",
       "        product_code  hub_id  business_type business_activity  \\\n",
       "0    secured_product      46  Manufacturing          Job Work   \n",
       "1  unsecured_product      32        Trading            Retail   \n",
       "2    secured_product      32  Manufacturing             Sales   \n",
       "3  unsecured_product      18  Manufacturing  Job Work & Sales   \n",
       "4  unsecured_product      18  Manufacturing  Job Work & Sales   \n",
       "\n",
       "   business_sector    loan_status ManagAgeui_APP  \\\n",
       "0  Auto Components  Loan_Accepted          21-35   \n",
       "1      Book Stores  Loan_Accepted          21-35   \n",
       "2      Electricals  Loan_Accepted          21-35   \n",
       "3  Auto Components  Loan_Accepted          36-50   \n",
       "4  Auto Components  Loan_Accepted          36-50   \n",
       "\n",
       "  BusinFormalityOfTheBusinessui ManagCBscoreui_APP  \n",
       "0             Cash & Non Banked                  0  \n",
       "1             Cash & Non Banked                  0  \n",
       "2             Cash & Non Banked                  0  \n",
       "3             Cash & Non Banked   Excellent credit  \n",
       "4             Cash & Non Banked   Excellent credit  "
      ]
     },
     "execution_count": 764,
     "metadata": {},
     "output_type": "execute_result"
    }
   ],
   "source": [
    "data2.head(5)"
   ]
  },
  {
   "cell_type": "code",
   "execution_count": 765,
   "metadata": {},
   "outputs": [
    {
     "data": {
      "text/plain": [
       "(2033, 14)"
      ]
     },
     "execution_count": 765,
     "metadata": {},
     "output_type": "execute_result"
    }
   ],
   "source": [
    "data2.shape"
   ]
  },
  {
   "cell_type": "markdown",
   "metadata": {},
   "source": [
    "#### Data Structure "
   ]
  },
  {
   "cell_type": "code",
   "execution_count": 766,
   "metadata": {},
   "outputs": [
    {
     "name": "stdout",
     "output_type": "stream",
     "text": [
      "<class 'pandas.core.frame.DataFrame'>\n",
      "Int64Index: 2033 entries, 0 to 2032\n",
      "Data columns (total 14 columns):\n",
      "loan_id                          2033 non-null int64\n",
      "account_number                   2033 non-null object\n",
      "customer_id                      2033 non-null int64\n",
      "enterprise_id                    2033 non-null int64\n",
      "screening_date                   2033 non-null object\n",
      "product_code                     2033 non-null object\n",
      "hub_id                           2033 non-null int64\n",
      "business_type                    2033 non-null object\n",
      "business_activity                2033 non-null object\n",
      "business_sector                  2033 non-null object\n",
      "loan_status                      2033 non-null object\n",
      "ManagAgeui_APP                   2033 non-null object\n",
      "BusinFormalityOfTheBusinessui    2033 non-null object\n",
      "ManagCBscoreui_APP               2033 non-null object\n",
      "dtypes: int64(4), object(10)\n",
      "memory usage: 238.2+ KB\n"
     ]
    }
   ],
   "source": [
    "data2.info()"
   ]
  },
  {
   "cell_type": "code",
   "execution_count": 767,
   "metadata": {},
   "outputs": [
    {
     "data": {
      "text/plain": [
       "loan_id                          0.0\n",
       "account_number                   0.0\n",
       "customer_id                      0.0\n",
       "enterprise_id                    0.0\n",
       "screening_date                   0.0\n",
       "product_code                     0.0\n",
       "hub_id                           0.0\n",
       "business_type                    0.0\n",
       "business_activity                0.0\n",
       "business_sector                  0.0\n",
       "loan_status                      0.0\n",
       "ManagAgeui_APP                   0.0\n",
       "BusinFormalityOfTheBusinessui    0.0\n",
       "ManagCBscoreui_APP               0.0\n",
       "dtype: float64"
      ]
     },
     "execution_count": 767,
     "metadata": {},
     "output_type": "execute_result"
    }
   ],
   "source": [
    "perc_missing(data2)"
   ]
  },
  {
   "cell_type": "markdown",
   "metadata": {},
   "source": [
    "#### Data Description For Continous Variable"
   ]
  },
  {
   "cell_type": "code",
   "execution_count": 768,
   "metadata": {},
   "outputs": [
    {
     "data": {
      "text/html": [
       "<div>\n",
       "<style scoped>\n",
       "    .dataframe tbody tr th:only-of-type {\n",
       "        vertical-align: middle;\n",
       "    }\n",
       "\n",
       "    .dataframe tbody tr th {\n",
       "        vertical-align: top;\n",
       "    }\n",
       "\n",
       "    .dataframe thead th {\n",
       "        text-align: right;\n",
       "    }\n",
       "</style>\n",
       "<table border=\"1\" class=\"dataframe\">\n",
       "  <thead>\n",
       "    <tr style=\"text-align: right;\">\n",
       "      <th></th>\n",
       "      <th>count</th>\n",
       "      <th>mean</th>\n",
       "      <th>std</th>\n",
       "      <th>min</th>\n",
       "      <th>25%</th>\n",
       "      <th>50%</th>\n",
       "      <th>75%</th>\n",
       "      <th>max</th>\n",
       "    </tr>\n",
       "  </thead>\n",
       "  <tbody>\n",
       "    <tr>\n",
       "      <th>loan_id</th>\n",
       "      <td>2033.0</td>\n",
       "      <td>9937.072307</td>\n",
       "      <td>872.658216</td>\n",
       "      <td>5692.0</td>\n",
       "      <td>9260.0</td>\n",
       "      <td>9899.0</td>\n",
       "      <td>10600.0</td>\n",
       "      <td>22041.0</td>\n",
       "    </tr>\n",
       "    <tr>\n",
       "      <th>hub_id</th>\n",
       "      <td>2033.0</td>\n",
       "      <td>28.124939</td>\n",
       "      <td>17.057283</td>\n",
       "      <td>3.0</td>\n",
       "      <td>17.0</td>\n",
       "      <td>26.0</td>\n",
       "      <td>34.0</td>\n",
       "      <td>97.0</td>\n",
       "    </tr>\n",
       "    <tr>\n",
       "      <th>customer_id</th>\n",
       "      <td>2033.0</td>\n",
       "      <td>18986.352189</td>\n",
       "      <td>5423.784366</td>\n",
       "      <td>6569.0</td>\n",
       "      <td>18287.0</td>\n",
       "      <td>20482.0</td>\n",
       "      <td>22707.0</td>\n",
       "      <td>54913.0</td>\n",
       "    </tr>\n",
       "    <tr>\n",
       "      <th>enterprise_id</th>\n",
       "      <td>2033.0</td>\n",
       "      <td>6446.708805</td>\n",
       "      <td>2340.011957</td>\n",
       "      <td>4.0</td>\n",
       "      <td>6426.0</td>\n",
       "      <td>7201.0</td>\n",
       "      <td>7949.0</td>\n",
       "      <td>18870.0</td>\n",
       "    </tr>\n",
       "  </tbody>\n",
       "</table>\n",
       "</div>"
      ],
      "text/plain": [
       "                count          mean          std     min      25%      50%  \\\n",
       "loan_id        2033.0   9937.072307   872.658216  5692.0   9260.0   9899.0   \n",
       "hub_id         2033.0     28.124939    17.057283     3.0     17.0     26.0   \n",
       "customer_id    2033.0  18986.352189  5423.784366  6569.0  18287.0  20482.0   \n",
       "enterprise_id  2033.0   6446.708805  2340.011957     4.0   6426.0   7201.0   \n",
       "\n",
       "                   75%      max  \n",
       "loan_id        10600.0  22041.0  \n",
       "hub_id            34.0     97.0  \n",
       "customer_id    22707.0  54913.0  \n",
       "enterprise_id   7949.0  18870.0  "
      ]
     },
     "execution_count": 768,
     "metadata": {},
     "output_type": "execute_result"
    }
   ],
   "source": [
    "data2[['loan_id', 'hub_id', 'customer_id','enterprise_id']].describe().T"
   ]
  },
  {
   "cell_type": "markdown",
   "metadata": {},
   "source": [
    "Observation\n",
    "\n",
    "We observe from the above table :\n",
    "\n",
    "For the following variables mean is more than 50% percentile or median indicating the indicating the distribution is skewed to the right:\n",
    "\n",
    "1) loan_id 2) hub_id\n",
    "\n",
    "For the following variables mean is less than the 50% percentile or median indicating the distribution is skewed to the left:\n",
    "\n",
    "1) cutomer_id \n",
    "\n",
    "For the following variables mean is almost equal to 50% percentile or median indicating the distribution is almost normal distribution:\n",
    "1) 2) enterprise_id "
   ]
  },
  {
   "cell_type": "code",
   "execution_count": 769,
   "metadata": {},
   "outputs": [],
   "source": [
    "data=pd.merge(data2,disbursements_data, on='account_number',how='inner')"
   ]
  },
  {
   "cell_type": "code",
   "execution_count": 770,
   "metadata": {},
   "outputs": [
    {
     "name": "stderr",
     "output_type": "stream",
     "text": [
      "/Users/sanaam/anaconda3/lib/python3.6/site-packages/matplotlib/axes/_axes.py:6462: UserWarning: The 'normed' kwarg is deprecated, and has been replaced by the 'density' kwarg.\n",
      "  warnings.warn(\"The 'normed' kwarg is deprecated, and has been \"\n",
      "/Users/sanaam/anaconda3/lib/python3.6/site-packages/matplotlib/axes/_axes.py:6462: UserWarning: The 'normed' kwarg is deprecated, and has been replaced by the 'density' kwarg.\n",
      "  warnings.warn(\"The 'normed' kwarg is deprecated, and has been \"\n",
      "/Users/sanaam/anaconda3/lib/python3.6/site-packages/matplotlib/axes/_axes.py:6462: UserWarning: The 'normed' kwarg is deprecated, and has been replaced by the 'density' kwarg.\n",
      "  warnings.warn(\"The 'normed' kwarg is deprecated, and has been \"\n"
     ]
    },
    {
     "data": {
      "text/plain": [
       "Text(0.5,1,'boxplot for customer_id')"
      ]
     },
     "execution_count": 770,
     "metadata": {},
     "output_type": "execute_result"
    },
    {
     "data": {
      "image/png": "[encoded data removed]",
      "text/plain": [
       "<Figure size 1080x720 with 6 Axes>"
      ]
     },
     "metadata": {},
     "output_type": "display_data"
    }
   ],
   "source": [
    "plt.figure(figsize = (15,10))\n",
    "plt.subplot(231)\n",
    "sns.distplot(data['loan_id'],rug=True)\n",
    "plt.title(\"histogram for loan_id\")\n",
    "plt.subplot(234)\n",
    "sns.boxplot(data.loan_id)\n",
    "plt.title(\"boxplot for loan_id\")\n",
    "\n",
    "plt.subplot(232)\n",
    "sns.distplot(data['hub_id'],rug=True)\n",
    "plt.title(\"histogram for hub_id\")\n",
    "plt.subplot(235)\n",
    "sns.boxplot(data.hub_id)\n",
    "plt.title(\"boxplot for hub_id\")\n",
    "\n",
    "\n",
    "plt.subplot(233)\n",
    "sns.distplot(data['customer_id'],rug=True)\n",
    "plt.title(\"histogram for customer_id'\")\n",
    "plt.subplot(236)\n",
    "sns.boxplot(data.customer_id)\n",
    "plt.title(\"boxplot for customer_id\")\n",
    "\n"
   ]
  },
  {
   "cell_type": "markdown",
   "metadata": {},
   "source": [
    "Observation\n",
    "\n",
    "1)The shape of the loan_id histogram looks almost normal distribution with few outliers\n",
    "\n",
    "2)The shape of the hub_id histogram looks slightly skewed to the right with many outliers.\n",
    "\n",
    "3)The shape of the Customer_id histogram looks skewed to the left with many outliers.\n"
   ]
  },
  {
   "cell_type": "code",
   "execution_count": 771,
   "metadata": {},
   "outputs": [
    {
     "name": "stderr",
     "output_type": "stream",
     "text": [
      "/Users/sanaam/anaconda3/lib/python3.6/site-packages/matplotlib/axes/_axes.py:6462: UserWarning: The 'normed' kwarg is deprecated, and has been replaced by the 'density' kwarg.\n",
      "  warnings.warn(\"The 'normed' kwarg is deprecated, and has been \"\n"
     ]
    },
    {
     "data": {
      "text/plain": [
       "Text(0.5,1,'boxplot for enterprise_id')"
      ]
     },
     "execution_count": 771,
     "metadata": {},
     "output_type": "execute_result"
    },
    {
     "data": {
      "image/png": "[encoded data removed]",
      "text/plain": [
       "<Figure size 1080x720 with 2 Axes>"
      ]
     },
     "metadata": {},
     "output_type": "display_data"
    }
   ],
   "source": [
    "plt.figure(figsize = (15,10))\n",
    "plt.subplot(231)\n",
    "sns.distplot(data['enterprise_id'],rug=True)\n",
    "plt.title(\"histogram for enterprise_id\")\n",
    "plt.subplot(234)\n",
    "sns.boxplot(data.enterprise_id)\n",
    "plt.title(\"boxplot for enterprise_id\")"
   ]
  },
  {
   "cell_type": "markdown",
   "metadata": {},
   "source": [
    "Observation\n",
    "\n",
    "1)The shape of the enterprise_id histogram looks almost normal distribution with many outliers"
   ]
  },
  {
   "cell_type": "markdown",
   "metadata": {},
   "source": [
    "#### Data Description For Categorical Variable"
   ]
  },
  {
   "cell_type": "code",
   "execution_count": 772,
   "metadata": {},
   "outputs": [
    {
     "data": {
      "text/html": [
       "<div>\n",
       "<style scoped>\n",
       "    .dataframe tbody tr th:only-of-type {\n",
       "        vertical-align: middle;\n",
       "    }\n",
       "\n",
       "    .dataframe tbody tr th {\n",
       "        vertical-align: top;\n",
       "    }\n",
       "\n",
       "    .dataframe thead th {\n",
       "        text-align: right;\n",
       "    }\n",
       "</style>\n",
       "<table border=\"1\" class=\"dataframe\">\n",
       "  <thead>\n",
       "    <tr style=\"text-align: right;\">\n",
       "      <th></th>\n",
       "      <th>count</th>\n",
       "      <th>unique</th>\n",
       "      <th>top</th>\n",
       "      <th>freq</th>\n",
       "    </tr>\n",
       "  </thead>\n",
       "  <tbody>\n",
       "    <tr>\n",
       "      <th>account_number</th>\n",
       "      <td>1571</td>\n",
       "      <td>1541</td>\n",
       "      <td>TLAPS0000321</td>\n",
       "      <td>2</td>\n",
       "    </tr>\n",
       "    <tr>\n",
       "      <th>screening_date</th>\n",
       "      <td>1571</td>\n",
       "      <td>87</td>\n",
       "      <td>2017-03-20</td>\n",
       "      <td>53</td>\n",
       "    </tr>\n",
       "    <tr>\n",
       "      <th>product_code</th>\n",
       "      <td>1571</td>\n",
       "      <td>2</td>\n",
       "      <td>unsecured_product</td>\n",
       "      <td>893</td>\n",
       "    </tr>\n",
       "    <tr>\n",
       "      <th>business_type</th>\n",
       "      <td>1571</td>\n",
       "      <td>3</td>\n",
       "      <td>Manufacturing</td>\n",
       "      <td>1052</td>\n",
       "    </tr>\n",
       "    <tr>\n",
       "      <th>business_activity</th>\n",
       "      <td>1571</td>\n",
       "      <td>7</td>\n",
       "      <td>Job Work &amp; Sales</td>\n",
       "      <td>477</td>\n",
       "    </tr>\n",
       "    <tr>\n",
       "      <th>business_sector</th>\n",
       "      <td>1571</td>\n",
       "      <td>34</td>\n",
       "      <td>Auto Components</td>\n",
       "      <td>229</td>\n",
       "    </tr>\n",
       "    <tr>\n",
       "      <th>loan_status</th>\n",
       "      <td>1571</td>\n",
       "      <td>1</td>\n",
       "      <td>Loan_Accepted</td>\n",
       "      <td>1571</td>\n",
       "    </tr>\n",
       "    <tr>\n",
       "      <th>ManagAgeui_APP</th>\n",
       "      <td>1571</td>\n",
       "      <td>5</td>\n",
       "      <td>36-50</td>\n",
       "      <td>750</td>\n",
       "    </tr>\n",
       "    <tr>\n",
       "      <th>BusinFormalityOfTheBusinessui</th>\n",
       "      <td>1571</td>\n",
       "      <td>4</td>\n",
       "      <td>Cash &amp; Non Banked</td>\n",
       "      <td>1019</td>\n",
       "    </tr>\n",
       "    <tr>\n",
       "      <th>ManagCBscoreui_APP</th>\n",
       "      <td>1571</td>\n",
       "      <td>5</td>\n",
       "      <td>Excellent credit</td>\n",
       "      <td>971</td>\n",
       "    </tr>\n",
       "    <tr>\n",
       "      <th>transaction_Date</th>\n",
       "      <td>1571</td>\n",
       "      <td>75</td>\n",
       "      <td>2017-03-31</td>\n",
       "      <td>637</td>\n",
       "    </tr>\n",
       "  </tbody>\n",
       "</table>\n",
       "</div>"
      ],
      "text/plain": [
       "                              count unique                top  freq\n",
       "account_number                 1571   1541       TLAPS0000321     2\n",
       "screening_date                 1571     87         2017-03-20    53\n",
       "product_code                   1571      2  unsecured_product   893\n",
       "business_type                  1571      3      Manufacturing  1052\n",
       "business_activity              1571      7   Job Work & Sales   477\n",
       "business_sector                1571     34    Auto Components   229\n",
       "loan_status                    1571      1      Loan_Accepted  1571\n",
       "ManagAgeui_APP                 1571      5              36-50   750\n",
       "BusinFormalityOfTheBusinessui  1571      4  Cash & Non Banked  1019\n",
       "ManagCBscoreui_APP             1571      5   Excellent credit   971\n",
       "transaction_Date               1571     75         2017-03-31   637"
      ]
     },
     "execution_count": 772,
     "metadata": {},
     "output_type": "execute_result"
    }
   ],
   "source": [
    "data.describe(include = [np.object]).T"
   ]
  },
  {
   "cell_type": "code",
   "execution_count": 773,
   "metadata": {},
   "outputs": [
    {
     "data": {
      "text/plain": [
       "array([0, 'Excellent credit', 'Bad credit', 'Good credit', ' Fair credit'],\n",
       "      dtype=object)"
      ]
     },
     "execution_count": 773,
     "metadata": {},
     "output_type": "execute_result"
    }
   ],
   "source": [
    "data2.ManagCBscoreui_APP.unique()"
   ]
  },
  {
   "cell_type": "markdown",
   "metadata": {},
   "source": [
    "#### Absence of multicollinearity\n",
    "#### Let us find the correlation among numerical variables"
   ]
  },
  {
   "cell_type": "code",
   "execution_count": 774,
   "metadata": {},
   "outputs": [
    {
     "data": {
      "image/png": "[encoded data removed]",
      "text/plain": [
       "<Figure size 1080x720 with 2 Axes>"
      ]
     },
     "metadata": {},
     "output_type": "display_data"
    }
   ],
   "source": [
    "plt.figure(figsize=(15,10));\n",
    "sns.heatmap(data[['loan_id', 'hub_id', 'customer_id','enterprise_id']].corr(), annot=True);"
   ]
  },
  {
   "cell_type": "code",
   "execution_count": null,
   "metadata": {},
   "outputs": [],
   "source": []
  },
  {
   "cell_type": "markdown",
   "metadata": {},
   "source": [
    "\n",
    "\n",
    "Observation\n",
    "\n",
    "The correlation between pair of predictor variables (customer_id & enterprise_id) is highest correlation among them is 0.99 .\n"
   ]
  },
  {
   "cell_type": "markdown",
   "metadata": {},
   "source": [
    "\n",
    "\n",
    "Grouped Bar Chart For Categorical Variables\n",
    "\n",
    "Input:\n",
    "\n",
    "1) Data Frame\n",
    "\n",
    "2) Column name of the predictor variable selected\n",
    "\n",
    "3) Label for the predictor variable\n",
    "\n",
    "4) Title for the grouped bar chart\n",
    "\n",
    "Output:\n",
    "\n",
    "1) Cross tab with count and row percentages\n",
    "\n",
    "2) Grouped Bar chart\n"
   ]
  },
  {
   "cell_type": "code",
   "execution_count": 775,
   "metadata": {},
   "outputs": [],
   "source": [
    "def draw_barplot(df, X, xlab, title):\n",
    "    \n",
    "    x       =   df[X]\n",
    "    loan_statu     =   df['loan_status']\n",
    "\n",
    "    ct = pd.crosstab(df[X], df['loan_status'])\n",
    "    print(\"\\n Cross tab with count\\n\")\n",
    "    print(ct)\n",
    "\n",
    "    ### Cross tab with row percentages\n",
    "    print(\"\\n Cross tab with row % \\n\")\n",
    "    ct1 = pd.crosstab(df[X], df['loan_status'], normalize='index').round(4)*100\n",
    "    print(ct1)\n",
    "\n",
    "    # now stack and reset\n",
    "    stacked = ct.stack().reset_index().rename(columns={0:'value'})\n",
    "\n",
    "    # plot grouped bar chart\n",
    "    ax = sns.barplot(x = stacked[X], y = stacked.value, hue=stacked.loan_status)\n",
    "    ax.set_title(title)    \n",
    "    plt.show()\n",
    "    \n",
    "                     \n",
    "                    \n"
   ]
  },
  {
   "cell_type": "markdown",
   "metadata": {},
   "source": [
    "#### Cross tab - Type Vs FeedBack"
   ]
  },
  {
   "cell_type": "code",
   "execution_count": 776,
   "metadata": {},
   "outputs": [
    {
     "name": "stdout",
     "output_type": "stream",
     "text": [
      "\n",
      " Cross tab with count\n",
      "\n",
      "loan_status        Loan_Accepted  Loan_Rejected\n",
      "product_code                                   \n",
      "0                              0            432\n",
      "secured_product              650             21\n",
      "unsecured_product            893             37\n",
      "\n",
      " Cross tab with row % \n",
      "\n",
      "loan_status        Loan_Accepted  Loan_Rejected\n",
      "product_code                                   \n",
      "0                           0.00         100.00\n",
      "secured_product            96.87           3.13\n",
      "unsecured_product          96.02           3.98\n"
     ]
    },
    {
     "data": {
      "image/png": "[encoded data removed]",
      "text/plain": [
       "<Figure size 432x288 with 1 Axes>"
      ]
     },
     "metadata": {},
     "output_type": "display_data"
    }
   ],
   "source": [
    "draw_barplot(data2, 'product_code','Type of Product', 'Product Vs loan_status')\n"
   ]
  },
  {
   "cell_type": "markdown",
   "metadata": {},
   "source": [
    "\n",
    "\n",
    "Observation\n",
    "\n",
    "> For the unsecured_product the proportion of loan Accepted is higher as compare to secured_product\n",
    "\n",
    "> one who does have any product their loan has been rejected.\n",
    "\n"
   ]
  },
  {
   "cell_type": "code",
   "execution_count": 777,
   "metadata": {},
   "outputs": [
    {
     "name": "stdout",
     "output_type": "stream",
     "text": [
      "\n",
      " Cross tab with count\n",
      "\n",
      "loan_status    Loan_Accepted  Loan_Rejected\n",
      "business_type                              \n",
      "Manufacturing           1025            304\n",
      "Services                   3              4\n",
      "Trading                  515            182\n",
      "\n",
      " Cross tab with row % \n",
      "\n",
      "loan_status    Loan_Accepted  Loan_Rejected\n",
      "business_type                              \n",
      "Manufacturing          77.13          22.87\n",
      "Services               42.86          57.14\n",
      "Trading                73.89          26.11\n"
     ]
    },
    {
     "data": {
      "image/png": "[encoded data removed]",
      "text/plain": [
       "<Figure size 432x288 with 1 Axes>"
      ]
     },
     "metadata": {},
     "output_type": "display_data"
    }
   ],
   "source": [
    "draw_barplot(data2, 'business_type','Type of Business', 'type of business Vs loan_status')\n"
   ]
  },
  {
   "cell_type": "markdown",
   "metadata": {},
   "source": [
    "Observation\n",
    "\n",
    "For people who are in the manufacturing sector their proportion of loan being Accepted is most higher followed by   trading\n",
    "\n",
    "    People who works in  manufacturing sector apply more for loan as compare to other sector.\n",
    "    \n",
    "People who works in  Service  sector has least application for loan and their proportion of loan being rejected is   heigher.\n",
    "    \n",
    "\n"
   ]
  },
  {
   "cell_type": "code",
   "execution_count": 778,
   "metadata": {},
   "outputs": [
    {
     "name": "stdout",
     "output_type": "stream",
     "text": [
      "\n",
      " Cross tab with count\n",
      "\n",
      "loan_status                    Loan_Accepted  Loan_Rejected\n",
      "business_activity                                          \n",
      "Job Work                                 186             62\n",
      "Job Work & Sales                         464            144\n",
      "Retail                                   299            111\n",
      "Retail (Business to Business)              2              0\n",
      "Retail (Business to Customer)              1              4\n",
      "Sales                                    375             98\n",
      "Whole Sale                               216             71\n",
      "\n",
      " Cross tab with row % \n",
      "\n",
      "loan_status                    Loan_Accepted  Loan_Rejected\n",
      "business_activity                                          \n",
      "Job Work                               75.00          25.00\n",
      "Job Work & Sales                       76.32          23.68\n",
      "Retail                                 72.93          27.07\n",
      "Retail (Business to Business)         100.00           0.00\n",
      "Retail (Business to Customer)          20.00          80.00\n",
      "Sales                                  79.28          20.72\n",
      "Whole Sale                             75.26          24.74\n"
     ]
    },
    {
     "data": {
      "image/png": "[encoded data removed]",
      "text/plain": [
       "<Figure size 432x288 with 1 Axes>"
      ]
     },
     "metadata": {},
     "output_type": "display_data"
    }
   ],
   "source": [
    "draw_barplot(data2, 'business_activity','Type of Business Activity', 'type of business Activity  Vs loan_status')"
   ]
  },
  {
   "cell_type": "markdown",
   "metadata": {},
   "source": [
    "Observation\n",
    "\n",
    "For people who are in the Retail (Business to Business) sector their proportion of loan being Accepted is 100 percent.\n",
    "\n",
    "\n",
    "For people who are in the Retail (Business to Customer)  sector their proportion of loan being Rejected is heighest."
   ]
  },
  {
   "cell_type": "code",
   "execution_count": 779,
   "metadata": {},
   "outputs": [
    {
     "data": {
      "text/html": [
       "<div>\n",
       "<style scoped>\n",
       "    .dataframe tbody tr th:only-of-type {\n",
       "        vertical-align: middle;\n",
       "    }\n",
       "\n",
       "    .dataframe tbody tr th {\n",
       "        vertical-align: top;\n",
       "    }\n",
       "\n",
       "    .dataframe thead th {\n",
       "        text-align: right;\n",
       "    }\n",
       "</style>\n",
       "<table border=\"1\" class=\"dataframe\">\n",
       "  <thead>\n",
       "    <tr style=\"text-align: right;\">\n",
       "      <th>loan_status</th>\n",
       "      <th>Loan_Accepted</th>\n",
       "      <th>Loan_Rejected</th>\n",
       "    </tr>\n",
       "    <tr>\n",
       "      <th>business_sector</th>\n",
       "      <th></th>\n",
       "      <th></th>\n",
       "    </tr>\n",
       "  </thead>\n",
       "  <tbody>\n",
       "    <tr>\n",
       "      <th>Agriculture</th>\n",
       "      <td>64.71</td>\n",
       "      <td>35.29</td>\n",
       "    </tr>\n",
       "    <tr>\n",
       "      <th>Apparel</th>\n",
       "      <td>86.36</td>\n",
       "      <td>13.64</td>\n",
       "    </tr>\n",
       "    <tr>\n",
       "      <th>Auto Components</th>\n",
       "      <td>70.42</td>\n",
       "      <td>29.58</td>\n",
       "    </tr>\n",
       "    <tr>\n",
       "      <th>Automobiles</th>\n",
       "      <td>71.43</td>\n",
       "      <td>28.57</td>\n",
       "    </tr>\n",
       "    <tr>\n",
       "      <th>Bedding</th>\n",
       "      <td>100.00</td>\n",
       "      <td>0.00</td>\n",
       "    </tr>\n",
       "    <tr>\n",
       "      <th>Book Stores</th>\n",
       "      <td>80.00</td>\n",
       "      <td>20.00</td>\n",
       "    </tr>\n",
       "    <tr>\n",
       "      <th>Chemicals</th>\n",
       "      <td>70.00</td>\n",
       "      <td>30.00</td>\n",
       "    </tr>\n",
       "    <tr>\n",
       "      <th>Construction</th>\n",
       "      <td>78.05</td>\n",
       "      <td>21.95</td>\n",
       "    </tr>\n",
       "    <tr>\n",
       "      <th>Construction Material</th>\n",
       "      <td>72.73</td>\n",
       "      <td>27.27</td>\n",
       "    </tr>\n",
       "    <tr>\n",
       "      <th>Education</th>\n",
       "      <td>0.00</td>\n",
       "      <td>100.00</td>\n",
       "    </tr>\n",
       "    <tr>\n",
       "      <th>Electrical</th>\n",
       "      <td>81.82</td>\n",
       "      <td>18.18</td>\n",
       "    </tr>\n",
       "    <tr>\n",
       "      <th>Electricals</th>\n",
       "      <td>80.00</td>\n",
       "      <td>20.00</td>\n",
       "    </tr>\n",
       "    <tr>\n",
       "      <th>Electronics</th>\n",
       "      <td>59.26</td>\n",
       "      <td>40.74</td>\n",
       "    </tr>\n",
       "    <tr>\n",
       "      <th>Fabrication</th>\n",
       "      <td>82.53</td>\n",
       "      <td>17.47</td>\n",
       "    </tr>\n",
       "    <tr>\n",
       "      <th>Fashion</th>\n",
       "      <td>77.51</td>\n",
       "      <td>22.49</td>\n",
       "    </tr>\n",
       "    <tr>\n",
       "      <th>Food &amp; Beverage</th>\n",
       "      <td>79.02</td>\n",
       "      <td>20.98</td>\n",
       "    </tr>\n",
       "    <tr>\n",
       "      <th>Food Products</th>\n",
       "      <td>72.83</td>\n",
       "      <td>27.17</td>\n",
       "    </tr>\n",
       "    <tr>\n",
       "      <th>Furniture</th>\n",
       "      <td>79.17</td>\n",
       "      <td>20.83</td>\n",
       "    </tr>\n",
       "    <tr>\n",
       "      <th>General</th>\n",
       "      <td>48.39</td>\n",
       "      <td>51.61</td>\n",
       "    </tr>\n",
       "    <tr>\n",
       "      <th>Handicrafts</th>\n",
       "      <td>76.00</td>\n",
       "      <td>24.00</td>\n",
       "    </tr>\n",
       "    <tr>\n",
       "      <th>Health &amp; Beauty</th>\n",
       "      <td>55.00</td>\n",
       "      <td>45.00</td>\n",
       "    </tr>\n",
       "    <tr>\n",
       "      <th>Home Furnishings</th>\n",
       "      <td>100.00</td>\n",
       "      <td>0.00</td>\n",
       "    </tr>\n",
       "    <tr>\n",
       "      <th>Houseware</th>\n",
       "      <td>68.42</td>\n",
       "      <td>31.58</td>\n",
       "    </tr>\n",
       "    <tr>\n",
       "      <th>Industrial</th>\n",
       "      <td>71.88</td>\n",
       "      <td>28.12</td>\n",
       "    </tr>\n",
       "    <tr>\n",
       "      <th>Leather</th>\n",
       "      <td>53.85</td>\n",
       "      <td>46.15</td>\n",
       "    </tr>\n",
       "    <tr>\n",
       "      <th>Machine  Components</th>\n",
       "      <td>80.66</td>\n",
       "      <td>19.34</td>\n",
       "    </tr>\n",
       "    <tr>\n",
       "      <th>Medical Equipment</th>\n",
       "      <td>25.00</td>\n",
       "      <td>75.00</td>\n",
       "    </tr>\n",
       "    <tr>\n",
       "      <th>Metal works</th>\n",
       "      <td>100.00</td>\n",
       "      <td>0.00</td>\n",
       "    </tr>\n",
       "    <tr>\n",
       "      <th>Paper</th>\n",
       "      <td>82.26</td>\n",
       "      <td>17.74</td>\n",
       "    </tr>\n",
       "    <tr>\n",
       "      <th>Pharmaceuticals</th>\n",
       "      <td>100.00</td>\n",
       "      <td>0.00</td>\n",
       "    </tr>\n",
       "    <tr>\n",
       "      <th>Plastics</th>\n",
       "      <td>83.17</td>\n",
       "      <td>16.83</td>\n",
       "    </tr>\n",
       "    <tr>\n",
       "      <th>Printing</th>\n",
       "      <td>77.50</td>\n",
       "      <td>22.50</td>\n",
       "    </tr>\n",
       "    <tr>\n",
       "      <th>Rubber</th>\n",
       "      <td>87.50</td>\n",
       "      <td>12.50</td>\n",
       "    </tr>\n",
       "    <tr>\n",
       "      <th>Software &amp; Tech</th>\n",
       "      <td>0.00</td>\n",
       "      <td>100.00</td>\n",
       "    </tr>\n",
       "    <tr>\n",
       "      <th>Textiles</th>\n",
       "      <td>65.56</td>\n",
       "      <td>34.44</td>\n",
       "    </tr>\n",
       "    <tr>\n",
       "      <th>Wood</th>\n",
       "      <td>86.44</td>\n",
       "      <td>13.56</td>\n",
       "    </tr>\n",
       "  </tbody>\n",
       "</table>\n",
       "</div>"
      ],
      "text/plain": [
       "loan_status            Loan_Accepted  Loan_Rejected\n",
       "business_sector                                    \n",
       "Agriculture                    64.71          35.29\n",
       "Apparel                        86.36          13.64\n",
       "Auto Components                70.42          29.58\n",
       "Automobiles                    71.43          28.57\n",
       "Bedding                       100.00           0.00\n",
       "Book Stores                    80.00          20.00\n",
       "Chemicals                      70.00          30.00\n",
       "Construction                   78.05          21.95\n",
       "Construction Material          72.73          27.27\n",
       "Education                       0.00         100.00\n",
       "Electrical                     81.82          18.18\n",
       "Electricals                    80.00          20.00\n",
       "Electronics                    59.26          40.74\n",
       "Fabrication                    82.53          17.47\n",
       "Fashion                        77.51          22.49\n",
       "Food & Beverage                79.02          20.98\n",
       "Food Products                  72.83          27.17\n",
       "Furniture                      79.17          20.83\n",
       "General                        48.39          51.61\n",
       "Handicrafts                    76.00          24.00\n",
       "Health & Beauty                55.00          45.00\n",
       "Home Furnishings              100.00           0.00\n",
       "Houseware                      68.42          31.58\n",
       "Industrial                     71.88          28.12\n",
       "Leather                        53.85          46.15\n",
       "Machine  Components            80.66          19.34\n",
       "Medical Equipment              25.00          75.00\n",
       "Metal works                   100.00           0.00\n",
       "Paper                          82.26          17.74\n",
       "Pharmaceuticals               100.00           0.00\n",
       "Plastics                       83.17          16.83\n",
       "Printing                       77.50          22.50\n",
       "Rubber                         87.50          12.50\n",
       "Software & Tech                 0.00         100.00\n",
       "Textiles                       65.56          34.44\n",
       "Wood                           86.44          13.56"
      ]
     },
     "execution_count": 779,
     "metadata": {},
     "output_type": "execute_result"
    }
   ],
   "source": [
    "pd.crosstab(data2['business_sector'], data2['loan_status'], normalize='index').round(4)*100"
   ]
  },
  {
   "cell_type": "markdown",
   "metadata": {},
   "source": [
    "Observation\n",
    "\n",
    "For people who are in the (Education & Software & Tech ) sector their proportion of loan being Rejected is 100 percent.\n",
    "\n",
    "For people who are in the (Bedding ,Home Furnishings & Metal works) sector their proportion of loan being Accepted is 100 percent.\n"
   ]
  },
  {
   "cell_type": "code",
   "execution_count": 780,
   "metadata": {},
   "outputs": [
    {
     "name": "stdout",
     "output_type": "stream",
     "text": [
      "\n",
      " Cross tab with count\n",
      "\n",
      "loan_status     Loan_Accepted  Loan_Rejected\n",
      "ManagAgeui_APP                              \n",
      "0                          64             10\n",
      "20 & Below                  1              0\n",
      "21-35                     628            210\n",
      "36-50                     735            222\n",
      "51-70                     115             48\n",
      "\n",
      " Cross tab with row % \n",
      "\n",
      "loan_status     Loan_Accepted  Loan_Rejected\n",
      "ManagAgeui_APP                              \n",
      "0                       86.49          13.51\n",
      "20 & Below             100.00           0.00\n",
      "21-35                   74.94          25.06\n",
      "36-50                   76.80          23.20\n",
      "51-70                   70.55          29.45\n"
     ]
    },
    {
     "data": {
      "image/png": "[encoded data removed]",
      "text/plain": [
       "<Figure size 432x288 with 1 Axes>"
      ]
     },
     "metadata": {},
     "output_type": "display_data"
    }
   ],
   "source": [
    "draw_barplot(data2, 'ManagAgeui_APP','Different Age Group', ' Different Age Group Vs loan_status')"
   ]
  },
  {
   "cell_type": "markdown",
   "metadata": {},
   "source": [
    "Observation\n",
    "\n",
    "    For the people who are in the age group of (20 & Below) their proportion of loan being Accepted is 100 percent.\n",
    "\n",
    "    The proportion of loan being rejected is heigher for the age group of (51-70) \n"
   ]
  },
  {
   "cell_type": "code",
   "execution_count": 781,
   "metadata": {},
   "outputs": [
    {
     "data": {
      "text/html": [
       "<div>\n",
       "<style scoped>\n",
       "    .dataframe tbody tr th:only-of-type {\n",
       "        vertical-align: middle;\n",
       "    }\n",
       "\n",
       "    .dataframe tbody tr th {\n",
       "        vertical-align: top;\n",
       "    }\n",
       "\n",
       "    .dataframe thead th {\n",
       "        text-align: right;\n",
       "    }\n",
       "</style>\n",
       "<table border=\"1\" class=\"dataframe\">\n",
       "  <thead>\n",
       "    <tr style=\"text-align: right;\">\n",
       "      <th>loan_status</th>\n",
       "      <th>Loan_Accepted</th>\n",
       "      <th>Loan_Rejected</th>\n",
       "    </tr>\n",
       "    <tr>\n",
       "      <th>BusinFormalityOfTheBusinessui</th>\n",
       "      <th></th>\n",
       "      <th></th>\n",
       "    </tr>\n",
       "  </thead>\n",
       "  <tbody>\n",
       "    <tr>\n",
       "      <th>0</th>\n",
       "      <td>0.00</td>\n",
       "      <td>100.00</td>\n",
       "    </tr>\n",
       "    <tr>\n",
       "      <th>Cash &amp; Banked</th>\n",
       "      <td>71.08</td>\n",
       "      <td>28.92</td>\n",
       "    </tr>\n",
       "    <tr>\n",
       "      <th>Cash &amp; Non Banked</th>\n",
       "      <td>75.00</td>\n",
       "      <td>25.00</td>\n",
       "    </tr>\n",
       "    <tr>\n",
       "      <th>Invoice &amp; Banked</th>\n",
       "      <td>80.16</td>\n",
       "      <td>19.84</td>\n",
       "    </tr>\n",
       "    <tr>\n",
       "      <th>Invoice &amp; Non Banked</th>\n",
       "      <td>76.69</td>\n",
       "      <td>23.31</td>\n",
       "    </tr>\n",
       "  </tbody>\n",
       "</table>\n",
       "</div>"
      ],
      "text/plain": [
       "loan_status                    Loan_Accepted  Loan_Rejected\n",
       "BusinFormalityOfTheBusinessui                              \n",
       "0                                       0.00         100.00\n",
       "Cash & Banked                          71.08          28.92\n",
       "Cash & Non Banked                      75.00          25.00\n",
       "Invoice & Banked                       80.16          19.84\n",
       "Invoice & Non Banked                   76.69          23.31"
      ]
     },
     "execution_count": 781,
     "metadata": {},
     "output_type": "execute_result"
    }
   ],
   "source": [
    "pd.crosstab(data2['BusinFormalityOfTheBusinessui'], data2['loan_status'], normalize='index').round(4)*100"
   ]
  },
  {
   "cell_type": "markdown",
   "metadata": {},
   "source": [
    " Observation\n",
    "\n",
    "For the people who does not have  either (bank account and cash) the proportion of loan rejected is 100 percent.\n",
    "\n",
    "For the people who has (Invoice & Banked) the proportion of loan Accepted is heighest."
   ]
  },
  {
   "cell_type": "markdown",
   "metadata": {},
   "source": [
    "#### Analysis Of Credit Score Based On Different Factor"
   ]
  },
  {
   "cell_type": "code",
   "execution_count": 782,
   "metadata": {},
   "outputs": [],
   "source": [
    "def draw_barplot(df, X, xlab, title):\n",
    "    \n",
    "    x       =   df[X]\n",
    "    loan_statu     =   df['ManagCBscoreui_APP']\n",
    "\n",
    "    ct = pd.crosstab(df[X], df['ManagCBscoreui_APP'])\n",
    "    print(\"\\n Cross tab with count\\n\")\n",
    "    print(ct)\n",
    "\n",
    "    ### Cross tab with row percentages\n",
    "    print(\"\\n Cross tab with row % \\n\")\n",
    "    ct1 = pd.crosstab(df[X], df['ManagCBscoreui_APP'], normalize='index').round(4)*100\n",
    "    print(ct1)\n",
    "\n",
    "    # now stack and reset\n",
    "    stacked = ct.stack().reset_index().rename(columns={0:'value'})\n",
    "\n",
    "    # plot grouped bar chart\n",
    "    ax = sns.barplot(x = stacked[X], y = stacked.value, hue=stacked.ManagCBscoreui_APP)\n",
    "    ax.set_title(title)    \n",
    "    plt.show()\n",
    "    \n",
    "                     "
   ]
  },
  {
   "cell_type": "code",
   "execution_count": 783,
   "metadata": {},
   "outputs": [
    {
     "name": "stdout",
     "output_type": "stream",
     "text": [
      "\n",
      " Cross tab with count\n",
      "\n",
      "ManagCBscoreui_APP    0   Fair credit  Bad credit  Excellent credit  \\\n",
      "product_code                                                          \n",
      "secured_product     136            45          45               414   \n",
      "unsecured_product   160            61          63               557   \n",
      "\n",
      "ManagCBscoreui_APP  Good credit  \n",
      "product_code                     \n",
      "secured_product              38  \n",
      "unsecured_product            52  \n",
      "\n",
      " Cross tab with row % \n",
      "\n",
      "ManagCBscoreui_APP      0   Fair credit  Bad credit  Excellent credit  \\\n",
      "product_code                                                            \n",
      "secured_product     20.06          6.64        6.64             61.06   \n",
      "unsecured_product   17.92          6.83        7.05             62.37   \n",
      "\n",
      "ManagCBscoreui_APP  Good credit  \n",
      "product_code                     \n",
      "secured_product            5.60  \n",
      "unsecured_product          5.82  \n"
     ]
    },
    {
     "data": {
      "image/png": "[encoded data removed]",
      "text/plain": [
       "<Figure size 432x288 with 1 Axes>"
      ]
     },
     "metadata": {},
     "output_type": "display_data"
    }
   ],
   "source": [
    "draw_barplot(data, 'product_code','Different product ', ' product Vs Credit Score')"
   ]
  },
  {
   "cell_type": "markdown",
   "metadata": {},
   "source": [
    " Observation\n",
    "\n",
    "The proportion of exellent credit score is heighest for unsecured product as compare to secured product\n"
   ]
  },
  {
   "cell_type": "code",
   "execution_count": 784,
   "metadata": {},
   "outputs": [
    {
     "name": "stdout",
     "output_type": "stream",
     "text": [
      "\n",
      " Cross tab with count\n",
      "\n",
      "ManagCBscoreui_APP    0   Fair credit  Bad credit  Excellent credit  \\\n",
      "business_type                                                         \n",
      "Manufacturing       205            67          69               661   \n",
      "Services              2             0           0                 1   \n",
      "Trading              89            39          39               309   \n",
      "\n",
      "ManagCBscoreui_APP  Good credit  \n",
      "business_type                    \n",
      "Manufacturing                50  \n",
      "Services                      0  \n",
      "Trading                      40  \n",
      "\n",
      " Cross tab with row % \n",
      "\n",
      "ManagCBscoreui_APP      0   Fair credit  Bad credit  Excellent credit  \\\n",
      "business_type                                                           \n",
      "Manufacturing       19.49          6.37        6.56             62.83   \n",
      "Services            66.67          0.00        0.00             33.33   \n",
      "Trading             17.25          7.56        7.56             59.88   \n",
      "\n",
      "ManagCBscoreui_APP  Good credit  \n",
      "business_type                    \n",
      "Manufacturing              4.75  \n",
      "Services                   0.00  \n",
      "Trading                    7.75  \n"
     ]
    },
    {
     "data": {
      "image/png": "[encoded data removed]",
      "text/plain": [
       "<Figure size 432x288 with 1 Axes>"
      ]
     },
     "metadata": {},
     "output_type": "display_data"
    }
   ],
   "source": [
    "draw_barplot(data, 'business_type','Different Business ', ' Business Type Vs Credit Score')"
   ]
  },
  {
   "cell_type": "markdown",
   "metadata": {},
   "source": [
    " Observation\n",
    "\n",
    "The Credit Score is heighest for manufacturing sector and lowest for service sector\n"
   ]
  },
  {
   "cell_type": "code",
   "execution_count": 785,
   "metadata": {},
   "outputs": [
    {
     "name": "stdout",
     "output_type": "stream",
     "text": [
      "\n",
      " Cross tab with count\n",
      "\n",
      "ManagCBscoreui_APP    0   Fair credit  Bad credit  Excellent credit  \\\n",
      "loan_status                                                           \n",
      "Loan_Accepted       288           105         107               954   \n",
      "Loan_Rejected        96            49          74               252   \n",
      "\n",
      "ManagCBscoreui_APP  Good credit  \n",
      "loan_status                      \n",
      "Loan_Accepted                89  \n",
      "Loan_Rejected                19  \n",
      "\n",
      " Cross tab with row % \n",
      "\n",
      "ManagCBscoreui_APP      0   Fair credit  Bad credit  Excellent credit  \\\n",
      "loan_status                                                             \n",
      "Loan_Accepted       18.66           6.8        6.93             61.83   \n",
      "Loan_Rejected       19.59          10.0       15.10             51.43   \n",
      "\n",
      "ManagCBscoreui_APP  Good credit  \n",
      "loan_status                      \n",
      "Loan_Accepted              5.77  \n",
      "Loan_Rejected              3.88  \n"
     ]
    },
    {
     "data": {
      "image/png": "[encoded data removed]",
      "text/plain": [
       "<Figure size 432x288 with 1 Axes>"
      ]
     },
     "metadata": {},
     "output_type": "display_data"
    }
   ],
   "source": [
    "draw_barplot(data2, 'loan_status','Loan Status ', ' Loan Status Vs Credit Score')"
   ]
  },
  {
   "cell_type": "markdown",
   "metadata": {},
   "source": [
    " Observation\n",
    "\n",
    "The Credit Score is heighest for the loan_accepted as compare to loan rejected.\n"
   ]
  },
  {
   "cell_type": "code",
   "execution_count": 786,
   "metadata": {},
   "outputs": [],
   "source": [
    "features = data.columns\n",
    "categorical_var = []\n",
    "\n",
    "for feature in features : \n",
    "    if data[feature].dtype == 'O' : \n",
    "        data[feature] = data[feature].astype('category')\n",
    "        categorical_var.append(feature)\n",
    "                \n",
    "    else :\n",
    "        continue"
   ]
  },
  {
   "cell_type": "code",
   "execution_count": 787,
   "metadata": {},
   "outputs": [
    {
     "name": "stdout",
     "output_type": "stream",
     "text": [
      "<class 'pandas.core.frame.DataFrame'>\n",
      "Int64Index: 1571 entries, 0 to 1570\n",
      "Data columns (total 16 columns):\n",
      "loan_id                          1571 non-null int64\n",
      "account_number                   1571 non-null category\n",
      "customer_id                      1571 non-null int64\n",
      "enterprise_id                    1571 non-null int64\n",
      "screening_date                   1571 non-null category\n",
      "product_code                     1571 non-null category\n",
      "hub_id                           1571 non-null int64\n",
      "business_type                    1571 non-null category\n",
      "business_activity                1571 non-null category\n",
      "business_sector                  1571 non-null category\n",
      "loan_status                      1571 non-null category\n",
      "ManagAgeui_APP                   1571 non-null category\n",
      "BusinFormalityOfTheBusinessui    1571 non-null category\n",
      "ManagCBscoreui_APP               1571 non-null category\n",
      "net_disbursement_magnitude       1571 non-null float64\n",
      "transaction_Date                 1571 non-null category\n",
      "dtypes: category(11), float64(1), int64(4)\n",
      "memory usage: 153.1 KB\n"
     ]
    }
   ],
   "source": [
    "data.info()"
   ]
  },
  {
   "cell_type": "markdown",
   "metadata": {},
   "source": [
    "### Dropping the 'Column' "
   ]
  },
  {
   "cell_type": "code",
   "execution_count": 788,
   "metadata": {},
   "outputs": [
    {
     "data": {
      "text/html": [
       "<div>\n",
       "<style scoped>\n",
       "    .dataframe tbody tr th:only-of-type {\n",
       "        vertical-align: middle;\n",
       "    }\n",
       "\n",
       "    .dataframe tbody tr th {\n",
       "        vertical-align: top;\n",
       "    }\n",
       "\n",
       "    .dataframe thead th {\n",
       "        text-align: right;\n",
       "    }\n",
       "</style>\n",
       "<table border=\"1\" class=\"dataframe\">\n",
       "  <thead>\n",
       "    <tr style=\"text-align: right;\">\n",
       "      <th></th>\n",
       "      <th>loan_id</th>\n",
       "      <th>account_number</th>\n",
       "      <th>customer_id</th>\n",
       "      <th>enterprise_id</th>\n",
       "      <th>screening_date</th>\n",
       "      <th>product_code</th>\n",
       "      <th>hub_id</th>\n",
       "      <th>business_type</th>\n",
       "      <th>business_activity</th>\n",
       "      <th>business_sector</th>\n",
       "      <th>loan_status</th>\n",
       "      <th>ManagAgeui_APP</th>\n",
       "      <th>BusinFormalityOfTheBusinessui</th>\n",
       "      <th>ManagCBscoreui_APP</th>\n",
       "    </tr>\n",
       "  </thead>\n",
       "  <tbody>\n",
       "    <tr>\n",
       "      <th>0</th>\n",
       "      <td>5692</td>\n",
       "      <td>TLMFS0000055</td>\n",
       "      <td>17850</td>\n",
       "      <td>6278</td>\n",
       "      <td>2017-03-07</td>\n",
       "      <td>secured_product</td>\n",
       "      <td>46</td>\n",
       "      <td>Manufacturing</td>\n",
       "      <td>Job Work</td>\n",
       "      <td>Auto Components</td>\n",
       "      <td>Loan_Accepted</td>\n",
       "      <td>21-35</td>\n",
       "      <td>Cash &amp; Non Banked</td>\n",
       "      <td>0</td>\n",
       "    </tr>\n",
       "    <tr>\n",
       "      <th>1</th>\n",
       "      <td>6190</td>\n",
       "      <td>TLWCU0001219</td>\n",
       "      <td>17857</td>\n",
       "      <td>6280</td>\n",
       "      <td>2017-03-07</td>\n",
       "      <td>unsecured_product</td>\n",
       "      <td>32</td>\n",
       "      <td>Trading</td>\n",
       "      <td>Retail</td>\n",
       "      <td>Book Stores</td>\n",
       "      <td>Loan_Accepted</td>\n",
       "      <td>21-35</td>\n",
       "      <td>Cash &amp; Non Banked</td>\n",
       "      <td>0</td>\n",
       "    </tr>\n",
       "    <tr>\n",
       "      <th>2</th>\n",
       "      <td>6191</td>\n",
       "      <td>TLAPS0000292</td>\n",
       "      <td>9481</td>\n",
       "      <td>2916</td>\n",
       "      <td>2017-03-07</td>\n",
       "      <td>secured_product</td>\n",
       "      <td>32</td>\n",
       "      <td>Manufacturing</td>\n",
       "      <td>Sales</td>\n",
       "      <td>Electricals</td>\n",
       "      <td>Loan_Accepted</td>\n",
       "      <td>21-35</td>\n",
       "      <td>Cash &amp; Non Banked</td>\n",
       "      <td>0</td>\n",
       "    </tr>\n",
       "    <tr>\n",
       "      <th>3</th>\n",
       "      <td>9912</td>\n",
       "      <td>LCRIU0000028</td>\n",
       "      <td>6597</td>\n",
       "      <td>32</td>\n",
       "      <td>2017-04-01</td>\n",
       "      <td>unsecured_product</td>\n",
       "      <td>18</td>\n",
       "      <td>Manufacturing</td>\n",
       "      <td>Job Work &amp; Sales</td>\n",
       "      <td>Auto Components</td>\n",
       "      <td>Loan_Accepted</td>\n",
       "      <td>36-50</td>\n",
       "      <td>Cash &amp; Non Banked</td>\n",
       "      <td>Excellent credit</td>\n",
       "    </tr>\n",
       "    <tr>\n",
       "      <th>4</th>\n",
       "      <td>10500</td>\n",
       "      <td>LCRIU0000032</td>\n",
       "      <td>6597</td>\n",
       "      <td>32</td>\n",
       "      <td>2017-04-27</td>\n",
       "      <td>unsecured_product</td>\n",
       "      <td>18</td>\n",
       "      <td>Manufacturing</td>\n",
       "      <td>Job Work &amp; Sales</td>\n",
       "      <td>Auto Components</td>\n",
       "      <td>Loan_Accepted</td>\n",
       "      <td>36-50</td>\n",
       "      <td>Cash &amp; Non Banked</td>\n",
       "      <td>Excellent credit</td>\n",
       "    </tr>\n",
       "  </tbody>\n",
       "</table>\n",
       "</div>"
      ],
      "text/plain": [
       "   loan_id account_number  customer_id  enterprise_id screening_date  \\\n",
       "0     5692   TLMFS0000055        17850           6278     2017-03-07   \n",
       "1     6190   TLWCU0001219        17857           6280     2017-03-07   \n",
       "2     6191   TLAPS0000292         9481           2916     2017-03-07   \n",
       "3     9912   LCRIU0000028         6597             32     2017-04-01   \n",
       "4    10500   LCRIU0000032         6597             32     2017-04-27   \n",
       "\n",
       "        product_code  hub_id  business_type business_activity  \\\n",
       "0    secured_product      46  Manufacturing          Job Work   \n",
       "1  unsecured_product      32        Trading            Retail   \n",
       "2    secured_product      32  Manufacturing             Sales   \n",
       "3  unsecured_product      18  Manufacturing  Job Work & Sales   \n",
       "4  unsecured_product      18  Manufacturing  Job Work & Sales   \n",
       "\n",
       "   business_sector    loan_status ManagAgeui_APP  \\\n",
       "0  Auto Components  Loan_Accepted          21-35   \n",
       "1      Book Stores  Loan_Accepted          21-35   \n",
       "2      Electricals  Loan_Accepted          21-35   \n",
       "3  Auto Components  Loan_Accepted          36-50   \n",
       "4  Auto Components  Loan_Accepted          36-50   \n",
       "\n",
       "  BusinFormalityOfTheBusinessui ManagCBscoreui_APP  \n",
       "0             Cash & Non Banked                  0  \n",
       "1             Cash & Non Banked                  0  \n",
       "2             Cash & Non Banked                  0  \n",
       "3             Cash & Non Banked   Excellent credit  \n",
       "4             Cash & Non Banked   Excellent credit  "
      ]
     },
     "execution_count": 788,
     "metadata": {},
     "output_type": "execute_result"
    }
   ],
   "source": [
    "data2.head()"
   ]
  },
  {
   "cell_type": "code",
   "execution_count": 789,
   "metadata": {},
   "outputs": [],
   "source": [
    "data_clean=data2"
   ]
  },
  {
   "cell_type": "code",
   "execution_count": 790,
   "metadata": {},
   "outputs": [],
   "source": [
    "data_clean.drop('account_number',axis = 1, inplace = True)"
   ]
  },
  {
   "cell_type": "code",
   "execution_count": 791,
   "metadata": {},
   "outputs": [],
   "source": [
    "data_clean.drop('screening_date',axis = 1, inplace = True)"
   ]
  },
  {
   "cell_type": "code",
   "execution_count": 792,
   "metadata": {},
   "outputs": [],
   "source": [
    "data_clean['loan_status']  = data_clean.loan_status.replace(['Loan_Accepted', 'Loan_Rejected'], [1, 0])"
   ]
  },
  {
   "cell_type": "code",
   "execution_count": 793,
   "metadata": {},
   "outputs": [],
   "source": [
    "data_clean['loan_status'] = data_clean['loan_status'].replace(np.nan,0)"
   ]
  },
  {
   "cell_type": "code",
   "execution_count": 794,
   "metadata": {},
   "outputs": [
    {
     "data": {
      "text/plain": [
       "array([1, 0])"
      ]
     },
     "execution_count": 794,
     "metadata": {},
     "output_type": "execute_result"
    }
   ],
   "source": [
    "data_clean.loan_status.unique()"
   ]
  },
  {
   "cell_type": "code",
   "execution_count": 798,
   "metadata": {},
   "outputs": [
    {
     "data": {
      "text/html": [
       "<div>\n",
       "<style scoped>\n",
       "    .dataframe tbody tr th:only-of-type {\n",
       "        vertical-align: middle;\n",
       "    }\n",
       "\n",
       "    .dataframe tbody tr th {\n",
       "        vertical-align: top;\n",
       "    }\n",
       "\n",
       "    .dataframe thead th {\n",
       "        text-align: right;\n",
       "    }\n",
       "</style>\n",
       "<table border=\"1\" class=\"dataframe\">\n",
       "  <thead>\n",
       "    <tr style=\"text-align: right;\">\n",
       "      <th></th>\n",
       "      <th>loan_id</th>\n",
       "      <th>customer_id</th>\n",
       "      <th>enterprise_id</th>\n",
       "      <th>product_code</th>\n",
       "      <th>hub_id</th>\n",
       "      <th>business_type</th>\n",
       "      <th>business_activity</th>\n",
       "      <th>business_sector</th>\n",
       "      <th>loan_status</th>\n",
       "      <th>ManagAgeui_APP</th>\n",
       "      <th>BusinFormalityOfTheBusinessui</th>\n",
       "      <th>ManagCBscoreui_APP</th>\n",
       "    </tr>\n",
       "  </thead>\n",
       "  <tbody>\n",
       "    <tr>\n",
       "      <th>0</th>\n",
       "      <td>5692</td>\n",
       "      <td>17850</td>\n",
       "      <td>6278</td>\n",
       "      <td>secured_product</td>\n",
       "      <td>46</td>\n",
       "      <td>Manufacturing</td>\n",
       "      <td>Job Work</td>\n",
       "      <td>Auto Components</td>\n",
       "      <td>1</td>\n",
       "      <td>21-35</td>\n",
       "      <td>Cash &amp; Non Banked</td>\n",
       "      <td>0</td>\n",
       "    </tr>\n",
       "    <tr>\n",
       "      <th>1</th>\n",
       "      <td>6190</td>\n",
       "      <td>17857</td>\n",
       "      <td>6280</td>\n",
       "      <td>unsecured_product</td>\n",
       "      <td>32</td>\n",
       "      <td>Trading</td>\n",
       "      <td>Retail</td>\n",
       "      <td>Book Stores</td>\n",
       "      <td>1</td>\n",
       "      <td>21-35</td>\n",
       "      <td>Cash &amp; Non Banked</td>\n",
       "      <td>0</td>\n",
       "    </tr>\n",
       "    <tr>\n",
       "      <th>2</th>\n",
       "      <td>6191</td>\n",
       "      <td>9481</td>\n",
       "      <td>2916</td>\n",
       "      <td>secured_product</td>\n",
       "      <td>32</td>\n",
       "      <td>Manufacturing</td>\n",
       "      <td>Sales</td>\n",
       "      <td>Electricals</td>\n",
       "      <td>1</td>\n",
       "      <td>21-35</td>\n",
       "      <td>Cash &amp; Non Banked</td>\n",
       "      <td>0</td>\n",
       "    </tr>\n",
       "    <tr>\n",
       "      <th>3</th>\n",
       "      <td>9912</td>\n",
       "      <td>6597</td>\n",
       "      <td>32</td>\n",
       "      <td>unsecured_product</td>\n",
       "      <td>18</td>\n",
       "      <td>Manufacturing</td>\n",
       "      <td>Job Work &amp; Sales</td>\n",
       "      <td>Auto Components</td>\n",
       "      <td>1</td>\n",
       "      <td>36-50</td>\n",
       "      <td>Cash &amp; Non Banked</td>\n",
       "      <td>Excellent credit</td>\n",
       "    </tr>\n",
       "    <tr>\n",
       "      <th>4</th>\n",
       "      <td>10500</td>\n",
       "      <td>6597</td>\n",
       "      <td>32</td>\n",
       "      <td>unsecured_product</td>\n",
       "      <td>18</td>\n",
       "      <td>Manufacturing</td>\n",
       "      <td>Job Work &amp; Sales</td>\n",
       "      <td>Auto Components</td>\n",
       "      <td>1</td>\n",
       "      <td>36-50</td>\n",
       "      <td>Cash &amp; Non Banked</td>\n",
       "      <td>Excellent credit</td>\n",
       "    </tr>\n",
       "  </tbody>\n",
       "</table>\n",
       "</div>"
      ],
      "text/plain": [
       "   loan_id  customer_id  enterprise_id       product_code  hub_id  \\\n",
       "0     5692        17850           6278    secured_product      46   \n",
       "1     6190        17857           6280  unsecured_product      32   \n",
       "2     6191         9481           2916    secured_product      32   \n",
       "3     9912         6597             32  unsecured_product      18   \n",
       "4    10500         6597             32  unsecured_product      18   \n",
       "\n",
       "   business_type business_activity  business_sector  loan_status  \\\n",
       "0  Manufacturing          Job Work  Auto Components            1   \n",
       "1        Trading            Retail      Book Stores            1   \n",
       "2  Manufacturing             Sales      Electricals            1   \n",
       "3  Manufacturing  Job Work & Sales  Auto Components            1   \n",
       "4  Manufacturing  Job Work & Sales  Auto Components            1   \n",
       "\n",
       "  ManagAgeui_APP BusinFormalityOfTheBusinessui ManagCBscoreui_APP  \n",
       "0          21-35             Cash & Non Banked                  0  \n",
       "1          21-35             Cash & Non Banked                  0  \n",
       "2          21-35             Cash & Non Banked                  0  \n",
       "3          36-50             Cash & Non Banked   Excellent credit  \n",
       "4          36-50             Cash & Non Banked   Excellent credit  "
      ]
     },
     "execution_count": 798,
     "metadata": {},
     "output_type": "execute_result"
    }
   ],
   "source": [
    "data_clean.head()"
   ]
  },
  {
   "cell_type": "markdown",
   "metadata": {},
   "source": [
    "#### Model building"
   ]
  },
  {
   "cell_type": "code",
   "execution_count": 799,
   "metadata": {},
   "outputs": [],
   "source": [
    "X = data_clean[data_clean.columns.difference(['loan_status','account_number'])]\n"
   ]
  },
  {
   "cell_type": "code",
   "execution_count": 801,
   "metadata": {},
   "outputs": [],
   "source": [
    "x=pd.get_dummies(X,drop_first=True)"
   ]
  },
  {
   "cell_type": "code",
   "execution_count": 812,
   "metadata": {},
   "outputs": [
    {
     "data": {
      "text/html": [
       "<div>\n",
       "<style scoped>\n",
       "    .dataframe tbody tr th:only-of-type {\n",
       "        vertical-align: middle;\n",
       "    }\n",
       "\n",
       "    .dataframe tbody tr th {\n",
       "        vertical-align: top;\n",
       "    }\n",
       "\n",
       "    .dataframe thead th {\n",
       "        text-align: right;\n",
       "    }\n",
       "</style>\n",
       "<table border=\"1\" class=\"dataframe\">\n",
       "  <thead>\n",
       "    <tr style=\"text-align: right;\">\n",
       "      <th></th>\n",
       "      <th>customer_id</th>\n",
       "      <th>enterprise_id</th>\n",
       "      <th>hub_id</th>\n",
       "      <th>loan_id</th>\n",
       "      <th>BusinFormalityOfTheBusinessui_Cash &amp; Banked</th>\n",
       "      <th>BusinFormalityOfTheBusinessui_Cash &amp; Non Banked</th>\n",
       "      <th>BusinFormalityOfTheBusinessui_Invoice &amp; Banked</th>\n",
       "      <th>BusinFormalityOfTheBusinessui_Invoice &amp; Non Banked</th>\n",
       "      <th>ManagAgeui_APP_20 &amp; Below</th>\n",
       "      <th>ManagAgeui_APP_21-35</th>\n",
       "      <th>...</th>\n",
       "      <th>business_sector_Plastics</th>\n",
       "      <th>business_sector_Printing</th>\n",
       "      <th>business_sector_Rubber</th>\n",
       "      <th>business_sector_Software &amp; Tech</th>\n",
       "      <th>business_sector_Textiles</th>\n",
       "      <th>business_sector_Wood</th>\n",
       "      <th>business_type_Services</th>\n",
       "      <th>business_type_Trading</th>\n",
       "      <th>product_code_secured_product</th>\n",
       "      <th>product_code_unsecured_product</th>\n",
       "    </tr>\n",
       "  </thead>\n",
       "  <tbody>\n",
       "    <tr>\n",
       "      <th>0</th>\n",
       "      <td>17850</td>\n",
       "      <td>6278</td>\n",
       "      <td>46</td>\n",
       "      <td>5692</td>\n",
       "      <td>0</td>\n",
       "      <td>1</td>\n",
       "      <td>0</td>\n",
       "      <td>0</td>\n",
       "      <td>0</td>\n",
       "      <td>1</td>\n",
       "      <td>...</td>\n",
       "      <td>0</td>\n",
       "      <td>0</td>\n",
       "      <td>0</td>\n",
       "      <td>0</td>\n",
       "      <td>0</td>\n",
       "      <td>0</td>\n",
       "      <td>0</td>\n",
       "      <td>0</td>\n",
       "      <td>1</td>\n",
       "      <td>0</td>\n",
       "    </tr>\n",
       "    <tr>\n",
       "      <th>1</th>\n",
       "      <td>17857</td>\n",
       "      <td>6280</td>\n",
       "      <td>32</td>\n",
       "      <td>6190</td>\n",
       "      <td>0</td>\n",
       "      <td>1</td>\n",
       "      <td>0</td>\n",
       "      <td>0</td>\n",
       "      <td>0</td>\n",
       "      <td>1</td>\n",
       "      <td>...</td>\n",
       "      <td>0</td>\n",
       "      <td>0</td>\n",
       "      <td>0</td>\n",
       "      <td>0</td>\n",
       "      <td>0</td>\n",
       "      <td>0</td>\n",
       "      <td>0</td>\n",
       "      <td>1</td>\n",
       "      <td>0</td>\n",
       "      <td>1</td>\n",
       "    </tr>\n",
       "    <tr>\n",
       "      <th>2</th>\n",
       "      <td>9481</td>\n",
       "      <td>2916</td>\n",
       "      <td>32</td>\n",
       "      <td>6191</td>\n",
       "      <td>0</td>\n",
       "      <td>1</td>\n",
       "      <td>0</td>\n",
       "      <td>0</td>\n",
       "      <td>0</td>\n",
       "      <td>1</td>\n",
       "      <td>...</td>\n",
       "      <td>0</td>\n",
       "      <td>0</td>\n",
       "      <td>0</td>\n",
       "      <td>0</td>\n",
       "      <td>0</td>\n",
       "      <td>0</td>\n",
       "      <td>0</td>\n",
       "      <td>0</td>\n",
       "      <td>1</td>\n",
       "      <td>0</td>\n",
       "    </tr>\n",
       "    <tr>\n",
       "      <th>3</th>\n",
       "      <td>6597</td>\n",
       "      <td>32</td>\n",
       "      <td>18</td>\n",
       "      <td>9912</td>\n",
       "      <td>0</td>\n",
       "      <td>1</td>\n",
       "      <td>0</td>\n",
       "      <td>0</td>\n",
       "      <td>0</td>\n",
       "      <td>0</td>\n",
       "      <td>...</td>\n",
       "      <td>0</td>\n",
       "      <td>0</td>\n",
       "      <td>0</td>\n",
       "      <td>0</td>\n",
       "      <td>0</td>\n",
       "      <td>0</td>\n",
       "      <td>0</td>\n",
       "      <td>0</td>\n",
       "      <td>0</td>\n",
       "      <td>1</td>\n",
       "    </tr>\n",
       "    <tr>\n",
       "      <th>4</th>\n",
       "      <td>6597</td>\n",
       "      <td>32</td>\n",
       "      <td>18</td>\n",
       "      <td>10500</td>\n",
       "      <td>0</td>\n",
       "      <td>1</td>\n",
       "      <td>0</td>\n",
       "      <td>0</td>\n",
       "      <td>0</td>\n",
       "      <td>0</td>\n",
       "      <td>...</td>\n",
       "      <td>0</td>\n",
       "      <td>0</td>\n",
       "      <td>0</td>\n",
       "      <td>0</td>\n",
       "      <td>0</td>\n",
       "      <td>0</td>\n",
       "      <td>0</td>\n",
       "      <td>0</td>\n",
       "      <td>0</td>\n",
       "      <td>1</td>\n",
       "    </tr>\n",
       "  </tbody>\n",
       "</table>\n",
       "<p>5 rows × 61 columns</p>\n",
       "</div>"
      ],
      "text/plain": [
       "   customer_id  enterprise_id  hub_id  loan_id  \\\n",
       "0        17850           6278      46     5692   \n",
       "1        17857           6280      32     6190   \n",
       "2         9481           2916      32     6191   \n",
       "3         6597             32      18     9912   \n",
       "4         6597             32      18    10500   \n",
       "\n",
       "   BusinFormalityOfTheBusinessui_Cash & Banked  \\\n",
       "0                                            0   \n",
       "1                                            0   \n",
       "2                                            0   \n",
       "3                                            0   \n",
       "4                                            0   \n",
       "\n",
       "   BusinFormalityOfTheBusinessui_Cash & Non Banked  \\\n",
       "0                                                1   \n",
       "1                                                1   \n",
       "2                                                1   \n",
       "3                                                1   \n",
       "4                                                1   \n",
       "\n",
       "   BusinFormalityOfTheBusinessui_Invoice & Banked  \\\n",
       "0                                               0   \n",
       "1                                               0   \n",
       "2                                               0   \n",
       "3                                               0   \n",
       "4                                               0   \n",
       "\n",
       "   BusinFormalityOfTheBusinessui_Invoice & Non Banked  \\\n",
       "0                                                  0    \n",
       "1                                                  0    \n",
       "2                                                  0    \n",
       "3                                                  0    \n",
       "4                                                  0    \n",
       "\n",
       "   ManagAgeui_APP_20 & Below  ManagAgeui_APP_21-35  \\\n",
       "0                          0                     1   \n",
       "1                          0                     1   \n",
       "2                          0                     1   \n",
       "3                          0                     0   \n",
       "4                          0                     0   \n",
       "\n",
       "                ...                business_sector_Plastics  \\\n",
       "0               ...                                       0   \n",
       "1               ...                                       0   \n",
       "2               ...                                       0   \n",
       "3               ...                                       0   \n",
       "4               ...                                       0   \n",
       "\n",
       "   business_sector_Printing  business_sector_Rubber  \\\n",
       "0                         0                       0   \n",
       "1                         0                       0   \n",
       "2                         0                       0   \n",
       "3                         0                       0   \n",
       "4                         0                       0   \n",
       "\n",
       "   business_sector_Software & Tech  business_sector_Textiles  \\\n",
       "0                                0                         0   \n",
       "1                                0                         0   \n",
       "2                                0                         0   \n",
       "3                                0                         0   \n",
       "4                                0                         0   \n",
       "\n",
       "   business_sector_Wood  business_type_Services  business_type_Trading  \\\n",
       "0                     0                       0                      0   \n",
       "1                     0                       0                      1   \n",
       "2                     0                       0                      0   \n",
       "3                     0                       0                      0   \n",
       "4                     0                       0                      0   \n",
       "\n",
       "   product_code_secured_product  product_code_unsecured_product  \n",
       "0                             1                               0  \n",
       "1                             0                               1  \n",
       "2                             1                               0  \n",
       "3                             0                               1  \n",
       "4                             0                               1  \n",
       "\n",
       "[5 rows x 61 columns]"
      ]
     },
     "execution_count": 812,
     "metadata": {},
     "output_type": "execute_result"
    }
   ],
   "source": [
    "x.head()"
   ]
  },
  {
   "cell_type": "code",
   "execution_count": 796,
   "metadata": {},
   "outputs": [],
   "source": [
    "y = data_clean['loan_status']"
   ]
  },
  {
   "cell_type": "markdown",
   "metadata": {},
   "source": [
    "#### Split dataset into test and train datasets"
   ]
  },
  {
   "cell_type": "code",
   "execution_count": 804,
   "metadata": {},
   "outputs": [],
   "source": [
    "from sklearn.model_selection import train_test_split\n",
    "x_train, x_test, y_train, y_test = train_test_split( x, y, test_size = 0.3, random_state = 56 )\n"
   ]
  },
  {
   "cell_type": "code",
   "execution_count": 808,
   "metadata": {},
   "outputs": [],
   "source": [
    "from sklearn.tree import DecisionTreeClassifier\n",
    "from sklearn import metrics\n"
   ]
  },
  {
   "cell_type": "code",
   "execution_count": 814,
   "metadata": {},
   "outputs": [
    {
     "name": "stdout",
     "output_type": "stream",
     "text": [
      "(1423, 61) (1423,)\n",
      "(610, 61) (610,)\n"
     ]
    }
   ],
   "source": [
    "print(x_train.shape, y_train.shape)\n",
    "print(x_test.shape, y_test.shape)"
   ]
  },
  {
   "cell_type": "code",
   "execution_count": null,
   "metadata": {},
   "outputs": [],
   "source": []
  },
  {
   "cell_type": "code",
   "execution_count": 819,
   "metadata": {},
   "outputs": [],
   "source": [
    "## Building the Classifier\n",
    "## Importing the Classification Tree Package\n",
    "from sklearn import tree\n",
    "\n",
    "## Creating the Classifier Object\n",
    "clf = tree.DecisionTreeClassifier()\n",
    "\n",
    "## Fitting the Classification Tree on Training Dataset\n",
    "clf = clf.fit(x_train, y_train)\n",
    "\n"
   ]
  },
  {
   "cell_type": "code",
   "execution_count": 820,
   "metadata": {},
   "outputs": [
    {
     "data": {
      "text/html": [
       "<div>\n",
       "<style scoped>\n",
       "    .dataframe tbody tr th:only-of-type {\n",
       "        vertical-align: middle;\n",
       "    }\n",
       "\n",
       "    .dataframe tbody tr th {\n",
       "        vertical-align: top;\n",
       "    }\n",
       "\n",
       "    .dataframe thead th {\n",
       "        text-align: right;\n",
       "    }\n",
       "</style>\n",
       "<table border=\"1\" class=\"dataframe\">\n",
       "  <thead>\n",
       "    <tr style=\"text-align: right;\">\n",
       "      <th></th>\n",
       "      <th>0</th>\n",
       "      <th>1</th>\n",
       "    </tr>\n",
       "  </thead>\n",
       "  <tbody>\n",
       "    <tr>\n",
       "      <th>0</th>\n",
       "      <td>customer_id</td>\n",
       "      <td>0.019095</td>\n",
       "    </tr>\n",
       "    <tr>\n",
       "      <th>1</th>\n",
       "      <td>enterprise_id</td>\n",
       "      <td>0.0234549</td>\n",
       "    </tr>\n",
       "    <tr>\n",
       "      <th>2</th>\n",
       "      <td>hub_id</td>\n",
       "      <td>0.0330005</td>\n",
       "    </tr>\n",
       "    <tr>\n",
       "      <th>3</th>\n",
       "      <td>loan_id</td>\n",
       "      <td>0.0230576</td>\n",
       "    </tr>\n",
       "    <tr>\n",
       "      <th>4</th>\n",
       "      <td>BusinFormalityOfTheBusinessui_Cash &amp; Banked</td>\n",
       "      <td>0.000622778</td>\n",
       "    </tr>\n",
       "    <tr>\n",
       "      <th>5</th>\n",
       "      <td>BusinFormalityOfTheBusinessui_Cash &amp; Non Banked</td>\n",
       "      <td>0.0118427</td>\n",
       "    </tr>\n",
       "    <tr>\n",
       "      <th>6</th>\n",
       "      <td>BusinFormalityOfTheBusinessui_Invoice &amp; Banked</td>\n",
       "      <td>0</td>\n",
       "    </tr>\n",
       "    <tr>\n",
       "      <th>7</th>\n",
       "      <td>BusinFormalityOfTheBusinessui_Invoice &amp; Non Ba...</td>\n",
       "      <td>0.000507038</td>\n",
       "    </tr>\n",
       "    <tr>\n",
       "      <th>8</th>\n",
       "      <td>ManagAgeui_APP_20 &amp; Below</td>\n",
       "      <td>0</td>\n",
       "    </tr>\n",
       "    <tr>\n",
       "      <th>9</th>\n",
       "      <td>ManagAgeui_APP_21-35</td>\n",
       "      <td>0.00855204</td>\n",
       "    </tr>\n",
       "    <tr>\n",
       "      <th>10</th>\n",
       "      <td>ManagAgeui_APP_36-50</td>\n",
       "      <td>0.00520559</td>\n",
       "    </tr>\n",
       "    <tr>\n",
       "      <th>11</th>\n",
       "      <td>ManagAgeui_APP_51-70</td>\n",
       "      <td>0.00278871</td>\n",
       "    </tr>\n",
       "    <tr>\n",
       "      <th>12</th>\n",
       "      <td>ManagCBscoreui_APP_ Fair credit</td>\n",
       "      <td>0.00414327</td>\n",
       "    </tr>\n",
       "    <tr>\n",
       "      <th>13</th>\n",
       "      <td>ManagCBscoreui_APP_Bad credit</td>\n",
       "      <td>0</td>\n",
       "    </tr>\n",
       "    <tr>\n",
       "      <th>14</th>\n",
       "      <td>ManagCBscoreui_APP_Excellent credit</td>\n",
       "      <td>0</td>\n",
       "    </tr>\n",
       "    <tr>\n",
       "      <th>15</th>\n",
       "      <td>ManagCBscoreui_APP_Good credit</td>\n",
       "      <td>0.00686191</td>\n",
       "    </tr>\n",
       "    <tr>\n",
       "      <th>16</th>\n",
       "      <td>business_activity_Job Work &amp; Sales</td>\n",
       "      <td>0.0019521</td>\n",
       "    </tr>\n",
       "    <tr>\n",
       "      <th>17</th>\n",
       "      <td>business_activity_Retail</td>\n",
       "      <td>0.0019521</td>\n",
       "    </tr>\n",
       "    <tr>\n",
       "      <th>18</th>\n",
       "      <td>business_activity_Retail (Business to Business)</td>\n",
       "      <td>0</td>\n",
       "    </tr>\n",
       "    <tr>\n",
       "      <th>19</th>\n",
       "      <td>business_activity_Retail (Business to Customer)</td>\n",
       "      <td>0</td>\n",
       "    </tr>\n",
       "  </tbody>\n",
       "</table>\n",
       "</div>"
      ],
      "text/plain": [
       "                                                    0            1\n",
       "0                                         customer_id     0.019095\n",
       "1                                       enterprise_id    0.0234549\n",
       "2                                              hub_id    0.0330005\n",
       "3                                             loan_id    0.0230576\n",
       "4         BusinFormalityOfTheBusinessui_Cash & Banked  0.000622778\n",
       "5     BusinFormalityOfTheBusinessui_Cash & Non Banked    0.0118427\n",
       "6      BusinFormalityOfTheBusinessui_Invoice & Banked            0\n",
       "7   BusinFormalityOfTheBusinessui_Invoice & Non Ba...  0.000507038\n",
       "8                           ManagAgeui_APP_20 & Below            0\n",
       "9                                ManagAgeui_APP_21-35   0.00855204\n",
       "10                               ManagAgeui_APP_36-50   0.00520559\n",
       "11                               ManagAgeui_APP_51-70   0.00278871\n",
       "12                    ManagCBscoreui_APP_ Fair credit   0.00414327\n",
       "13                      ManagCBscoreui_APP_Bad credit            0\n",
       "14                ManagCBscoreui_APP_Excellent credit            0\n",
       "15                     ManagCBscoreui_APP_Good credit   0.00686191\n",
       "16                 business_activity_Job Work & Sales    0.0019521\n",
       "17                           business_activity_Retail    0.0019521\n",
       "18    business_activity_Retail (Business to Business)            0\n",
       "19    business_activity_Retail (Business to Customer)            0"
      ]
     },
     "execution_count": 820,
     "metadata": {},
     "output_type": "execute_result"
    }
   ],
   "source": [
    "feature_importance = pd.DataFrame([x_train.columns,\n",
    "                               clf.tree_.compute_feature_importances()])\n",
    "feature_importance.T .head(20)"
   ]
  },
  {
   "cell_type": "code",
   "execution_count": 821,
   "metadata": {},
   "outputs": [
    {
     "data": {
      "text/plain": [
       "array([1, 1, 1, ..., 1, 1, 1])"
      ]
     },
     "execution_count": 821,
     "metadata": {},
     "output_type": "execute_result"
    }
   ],
   "source": [
    "pred_y_train = clf.predict(x_train)\n",
    "pred_y_train\n"
   ]
  },
  {
   "cell_type": "code",
   "execution_count": 822,
   "metadata": {},
   "outputs": [
    {
     "data": {
      "text/plain": [
       "array([1, 1, 1, 1, 1, 0, 1, 1, 0, 1, 1, 1, 1, 1, 0, 0, 1, 1, 1, 0, 1, 1,\n",
       "       1, 1, 0, 1, 1, 1, 1, 1, 1, 0, 0, 0, 1, 1, 0, 0, 1, 0, 1, 1, 1, 1,\n",
       "       1, 0, 1, 1, 0, 1, 1, 1, 0, 0, 1, 1, 1, 1, 1, 1, 1, 0, 1, 1, 1, 0,\n",
       "       1, 1, 0, 0, 1, 0, 0, 1, 1, 1, 1, 1, 1, 1, 1, 0, 1, 1, 1, 1, 1, 1,\n",
       "       1, 0, 1, 1, 1, 1, 1, 1, 1, 1, 1, 1, 1, 1, 1, 1, 0, 0, 1, 0, 0, 0,\n",
       "       1, 1, 1, 1, 0, 1, 0, 1, 1, 1, 1, 1, 1, 1, 1, 1, 1, 1, 1, 0, 0, 1,\n",
       "       1, 1, 1, 1, 1, 0, 1, 1, 0, 0, 1, 1, 0, 1, 1, 1, 1, 0, 1, 1, 1, 1,\n",
       "       0, 1, 0, 1, 1, 1, 1, 1, 1, 1, 1, 1, 0, 1, 0, 1, 1, 1, 1, 1, 1, 1,\n",
       "       1, 1, 1, 1, 1, 1, 1, 1, 0, 1, 1, 1, 0, 0, 0, 1, 1, 1, 0, 1, 1, 1,\n",
       "       1, 0, 1, 1, 1, 0, 1, 0, 0, 1, 1, 0, 1, 1, 1, 1, 0, 1, 0, 1, 1, 0,\n",
       "       1, 1, 0, 1, 0, 1, 1, 1, 1, 1, 0, 0, 0, 1, 1, 1, 0, 0, 1, 0, 1, 1,\n",
       "       1, 1, 1, 1, 1, 1, 0, 1, 1, 0, 1, 1, 0, 1, 0, 1, 0, 0, 0, 0, 1, 0,\n",
       "       1, 1, 1, 0, 1, 1, 1, 1, 1, 1, 0, 1, 1, 1, 1, 1, 1, 1, 1, 0, 1, 1,\n",
       "       1, 1, 0, 1, 1, 1, 1, 0, 1, 1, 1, 1, 1, 1, 1, 1, 0, 0, 1, 1, 0, 1,\n",
       "       1, 1, 1, 1, 1, 1, 0, 1, 0, 0, 0, 1, 1, 0, 0, 1, 1, 1, 1, 1, 1, 1,\n",
       "       1, 1, 1, 1, 0, 0, 1, 0, 1, 1, 1, 1, 1, 1, 1, 1, 1, 0, 0, 1, 1, 0,\n",
       "       1, 1, 1, 1, 0, 1, 1, 1, 1, 1, 0, 1, 1, 1, 1, 0, 1, 1, 1, 1, 0, 1,\n",
       "       1, 1, 1, 1, 1, 0, 0, 1, 0, 1, 1, 0, 1, 1, 1, 1, 1, 1, 1, 1, 1, 1,\n",
       "       1, 1, 0, 1, 1, 1, 1, 1, 1, 1, 1, 0, 1, 1, 1, 1, 1, 0, 0, 1, 1, 1,\n",
       "       1, 0, 0, 1, 1, 1, 1, 0, 1, 0, 0, 0, 1, 1, 1, 1, 0, 0, 1, 1, 1, 1,\n",
       "       0, 1, 1, 0, 1, 1, 1, 1, 1, 1, 0, 1, 1, 1, 1, 1, 1, 1, 1, 0, 0, 1,\n",
       "       1, 1, 1, 1, 1, 1, 1, 0, 1, 1, 0, 0, 1, 1, 0, 1, 1, 1, 0, 1, 1, 0,\n",
       "       0, 1, 0, 1, 1, 1, 0, 1, 1, 1, 0, 0, 1, 0, 1, 1, 1, 0, 1, 1, 1, 1,\n",
       "       1, 1, 1, 1, 1, 1, 1, 1, 0, 1, 0, 1, 1, 0, 0, 0, 0, 0, 1, 0, 1, 0,\n",
       "       0, 1, 1, 1, 1, 1, 0, 0, 0, 1, 1, 0, 0, 0, 1, 0, 1, 1, 0, 0, 1, 1,\n",
       "       1, 0, 1, 1, 0, 1, 0, 1, 1, 1, 1, 1, 1, 1, 1, 1, 1, 1, 1, 0, 1, 1,\n",
       "       1, 1, 1, 0, 1, 1, 0, 0, 1, 0, 1, 0, 1, 1, 0, 1, 1, 0, 1, 0, 1, 1,\n",
       "       1, 1, 1, 0, 1, 1, 0, 1, 1, 0, 1, 0, 1, 1, 1, 1])"
      ]
     },
     "execution_count": 822,
     "metadata": {},
     "output_type": "execute_result"
    }
   ],
   "source": [
    "## Predict based on the Classifier\n",
    "pred_y_test = clf.predict(x_test)\n",
    "pred_y_test\n"
   ]
  },
  {
   "cell_type": "code",
   "execution_count": 823,
   "metadata": {},
   "outputs": [
    {
     "data": {
      "text/plain": [
       "0.940983606557377"
      ]
     },
     "execution_count": 823,
     "metadata": {},
     "output_type": "execute_result"
    }
   ],
   "source": [
    "## Let us see the classification accuracy of our model\n",
    "from sklearn.metrics import accuracy_score\n",
    "score = accuracy_score(y_test, pred_y_test)\n",
    "score\n"
   ]
  },
  {
   "cell_type": "markdown",
   "metadata": {},
   "source": [
    "Accuracy of our Model on Test Data is (94 %)"
   ]
  },
  {
   "cell_type": "code",
   "execution_count": 829,
   "metadata": {},
   "outputs": [
    {
     "data": {
      "text/plain": [
       "0.9360588089943167"
      ]
     },
     "execution_count": 829,
     "metadata": {},
     "output_type": "execute_result"
    }
   ],
   "source": [
    "from sklearn.model_selection import cross_val_score\n",
    "np.mean(cross_val_score(clf,x_train,y_train,cv=5))"
   ]
  },
  {
   "cell_type": "code",
   "execution_count": 830,
   "metadata": {},
   "outputs": [
    {
     "data": {
      "text/plain": [
       "0.9524590163934425"
      ]
     },
     "execution_count": 830,
     "metadata": {},
     "output_type": "execute_result"
    }
   ],
   "source": [
    "from sklearn.model_selection import cross_val_score\n",
    "np.mean(cross_val_score(clf,x_test,y_test,cv=5))"
   ]
  },
  {
   "cell_type": "markdown",
   "metadata": {},
   "source": [
    "##### Visualize the tree"
   ]
  },
  {
   "cell_type": "code",
   "execution_count": 824,
   "metadata": {},
   "outputs": [],
   "source": [
    "import pydotplus\n",
    "import io\n",
    "from sklearn.tree import export_graphviz\n",
    "from scipy import misc\n",
    "from matplotlib import pyplot as plt\n",
    "feature_list = list(x_train.columns.values)\n",
    "f = io.StringIO()\n",
    "dot_data = export_graphviz(clf, out_file = f,\n",
    "                feature_names=feature_list)\n",
    "pydot_graph = pydotplus.graph_from_dot_data(f.getvalue())"
   ]
  },
  {
   "cell_type": "code",
   "execution_count": 825,
   "metadata": {},
   "outputs": [
    {
     "name": "stderr",
     "output_type": "stream",
     "text": [
      "/Users/sanaam/anaconda3/lib/python3.6/site-packages/ipykernel_launcher.py:2: DeprecationWarning: `imread` is deprecated!\n",
      "`imread` is deprecated in SciPy 1.0.0, and will be removed in 1.2.0.\n",
      "Use ``imageio.imread`` instead.\n",
      "  \n"
     ]
    },
    {
     "data": {
      "text/plain": [
       "<matplotlib.image.AxesImage at 0x1c443d4208>"
      ]
     },
     "execution_count": 825,
     "metadata": {},
     "output_type": "execute_result"
    },
    {
     "data": {
      "image/png": "[encoded data removed]",
      "text/plain": [
       "<Figure size 1440x1440 with 1 Axes>"
      ]
     },
     "metadata": {},
     "output_type": "display_data"
    }
   ],
   "source": [
    "pydot_graph.write_png(\"decision_tree.png\")\n",
    "img = misc.imread(\"decision_tree.png\")\n",
    "plt.rcParams[\"figure.figsize\"]=(20,20)\n",
    "plt.imshow(img)"
   ]
  },
  {
   "cell_type": "code",
   "execution_count": null,
   "metadata": {},
   "outputs": [],
   "source": []
  },
  {
   "cell_type": "code",
   "execution_count": null,
   "metadata": {},
   "outputs": [],
   "source": []
  },
  {
   "cell_type": "code",
   "execution_count": null,
   "metadata": {},
   "outputs": [],
   "source": []
  }
 ],
 "metadata": {
  "kernelspec": {
   "display_name": "Python 3",
   "language": "python",
   "name": "python3"
  },
  "language_info": {
   "codemirror_mode": {
    "name": "ipython",
    "version": 3
   },
   "file_extension": ".py",
   "mimetype": "text/x-python",
   "name": "python",
   "nbconvert_exporter": "python",
   "pygments_lexer": "ipython3",
   "version": "3.6.5"
  }
 },
 "nbformat": 4,
 "nbformat_minor": 2
}
