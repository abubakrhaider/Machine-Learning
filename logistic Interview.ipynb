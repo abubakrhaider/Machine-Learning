{
 "cells": [
  {
   "cell_type": "code",
   "execution_count": 267,
   "metadata": {},
   "outputs": [],
   "source": [
    "\n",
    "import pandas as pd\n",
    "import numpy as np\n",
    "import seaborn as sns\n",
    "import matplotlib.pyplot as plt\n",
    "\n",
    "from sklearn.cross_validation import train_test_split\n",
    "\n",
    "import statsmodels.api as sm\n",
    "\n",
    "from scipy import stats\n",
    "from sklearn import metrics\n",
    "\n",
    "%matplotlib inline\n",
    "\n",
    "stats.chisqprob = lambda chisq, df: stats.chi2.sf(chisq, df)"
   ]
  },
  {
   "cell_type": "code",
   "execution_count": 268,
   "metadata": {},
   "outputs": [],
   "source": [
    "data=pd.read_csv('Heart.csv')"
   ]
  },
  {
   "cell_type": "code",
   "execution_count": 269,
   "metadata": {},
   "outputs": [
    {
     "data": {
      "text/html": [
       "<div>\n",
       "<style scoped>\n",
       "    .dataframe tbody tr th:only-of-type {\n",
       "        vertical-align: middle;\n",
       "    }\n",
       "\n",
       "    .dataframe tbody tr th {\n",
       "        vertical-align: top;\n",
       "    }\n",
       "\n",
       "    .dataframe thead th {\n",
       "        text-align: right;\n",
       "    }\n",
       "</style>\n",
       "<table border=\"1\" class=\"dataframe\">\n",
       "  <thead>\n",
       "    <tr style=\"text-align: right;\">\n",
       "      <th></th>\n",
       "      <th>Unnamed: 0</th>\n",
       "      <th>Age</th>\n",
       "      <th>Sex</th>\n",
       "      <th>ChestPain</th>\n",
       "      <th>RestBP</th>\n",
       "      <th>Chol</th>\n",
       "      <th>Fbs</th>\n",
       "      <th>RestECG</th>\n",
       "      <th>MaxHR</th>\n",
       "      <th>ExAng</th>\n",
       "      <th>Oldpeak</th>\n",
       "      <th>Slope</th>\n",
       "      <th>Ca</th>\n",
       "      <th>Thal</th>\n",
       "      <th>AHD</th>\n",
       "    </tr>\n",
       "  </thead>\n",
       "  <tbody>\n",
       "    <tr>\n",
       "      <th>0</th>\n",
       "      <td>1</td>\n",
       "      <td>63</td>\n",
       "      <td>1</td>\n",
       "      <td>typical</td>\n",
       "      <td>145</td>\n",
       "      <td>233</td>\n",
       "      <td>1</td>\n",
       "      <td>2</td>\n",
       "      <td>150</td>\n",
       "      <td>0</td>\n",
       "      <td>2.3</td>\n",
       "      <td>3</td>\n",
       "      <td>0.0</td>\n",
       "      <td>fixed</td>\n",
       "      <td>No</td>\n",
       "    </tr>\n",
       "    <tr>\n",
       "      <th>1</th>\n",
       "      <td>2</td>\n",
       "      <td>67</td>\n",
       "      <td>1</td>\n",
       "      <td>asymptomatic</td>\n",
       "      <td>160</td>\n",
       "      <td>286</td>\n",
       "      <td>0</td>\n",
       "      <td>2</td>\n",
       "      <td>108</td>\n",
       "      <td>1</td>\n",
       "      <td>1.5</td>\n",
       "      <td>2</td>\n",
       "      <td>3.0</td>\n",
       "      <td>normal</td>\n",
       "      <td>Yes</td>\n",
       "    </tr>\n",
       "    <tr>\n",
       "      <th>2</th>\n",
       "      <td>3</td>\n",
       "      <td>67</td>\n",
       "      <td>1</td>\n",
       "      <td>asymptomatic</td>\n",
       "      <td>120</td>\n",
       "      <td>229</td>\n",
       "      <td>0</td>\n",
       "      <td>2</td>\n",
       "      <td>129</td>\n",
       "      <td>1</td>\n",
       "      <td>2.6</td>\n",
       "      <td>2</td>\n",
       "      <td>2.0</td>\n",
       "      <td>reversable</td>\n",
       "      <td>Yes</td>\n",
       "    </tr>\n",
       "    <tr>\n",
       "      <th>3</th>\n",
       "      <td>4</td>\n",
       "      <td>37</td>\n",
       "      <td>1</td>\n",
       "      <td>nonanginal</td>\n",
       "      <td>130</td>\n",
       "      <td>250</td>\n",
       "      <td>0</td>\n",
       "      <td>0</td>\n",
       "      <td>187</td>\n",
       "      <td>0</td>\n",
       "      <td>3.5</td>\n",
       "      <td>3</td>\n",
       "      <td>0.0</td>\n",
       "      <td>normal</td>\n",
       "      <td>No</td>\n",
       "    </tr>\n",
       "    <tr>\n",
       "      <th>4</th>\n",
       "      <td>5</td>\n",
       "      <td>41</td>\n",
       "      <td>0</td>\n",
       "      <td>nontypical</td>\n",
       "      <td>130</td>\n",
       "      <td>204</td>\n",
       "      <td>0</td>\n",
       "      <td>2</td>\n",
       "      <td>172</td>\n",
       "      <td>0</td>\n",
       "      <td>1.4</td>\n",
       "      <td>1</td>\n",
       "      <td>0.0</td>\n",
       "      <td>normal</td>\n",
       "      <td>No</td>\n",
       "    </tr>\n",
       "  </tbody>\n",
       "</table>\n",
       "</div>"
      ],
      "text/plain": [
       "   Unnamed: 0  Age  Sex     ChestPain  RestBP  Chol  Fbs  RestECG  MaxHR  \\\n",
       "0           1   63    1       typical     145   233    1        2    150   \n",
       "1           2   67    1  asymptomatic     160   286    0        2    108   \n",
       "2           3   67    1  asymptomatic     120   229    0        2    129   \n",
       "3           4   37    1    nonanginal     130   250    0        0    187   \n",
       "4           5   41    0    nontypical     130   204    0        2    172   \n",
       "\n",
       "   ExAng  Oldpeak  Slope   Ca        Thal  AHD  \n",
       "0      0      2.3      3  0.0       fixed   No  \n",
       "1      1      1.5      2  3.0      normal  Yes  \n",
       "2      1      2.6      2  2.0  reversable  Yes  \n",
       "3      0      3.5      3  0.0      normal   No  \n",
       "4      0      1.4      1  0.0      normal   No  "
      ]
     },
     "execution_count": 269,
     "metadata": {},
     "output_type": "execute_result"
    }
   ],
   "source": [
    "data.head()"
   ]
  },
  {
   "cell_type": "code",
   "execution_count": 270,
   "metadata": {},
   "outputs": [],
   "source": [
    "data.drop('Unnamed: 0',axis=1,inplace=True)"
   ]
  },
  {
   "cell_type": "code",
   "execution_count": 271,
   "metadata": {},
   "outputs": [
    {
     "data": {
      "text/html": [
       "<div>\n",
       "<style scoped>\n",
       "    .dataframe tbody tr th:only-of-type {\n",
       "        vertical-align: middle;\n",
       "    }\n",
       "\n",
       "    .dataframe tbody tr th {\n",
       "        vertical-align: top;\n",
       "    }\n",
       "\n",
       "    .dataframe thead th {\n",
       "        text-align: right;\n",
       "    }\n",
       "</style>\n",
       "<table border=\"1\" class=\"dataframe\">\n",
       "  <thead>\n",
       "    <tr style=\"text-align: right;\">\n",
       "      <th></th>\n",
       "      <th>Age</th>\n",
       "      <th>Sex</th>\n",
       "      <th>ChestPain</th>\n",
       "      <th>RestBP</th>\n",
       "      <th>Chol</th>\n",
       "      <th>Fbs</th>\n",
       "      <th>RestECG</th>\n",
       "      <th>MaxHR</th>\n",
       "      <th>ExAng</th>\n",
       "      <th>Oldpeak</th>\n",
       "      <th>Slope</th>\n",
       "      <th>Ca</th>\n",
       "      <th>Thal</th>\n",
       "      <th>AHD</th>\n",
       "    </tr>\n",
       "  </thead>\n",
       "  <tbody>\n",
       "    <tr>\n",
       "      <th>0</th>\n",
       "      <td>63</td>\n",
       "      <td>1</td>\n",
       "      <td>typical</td>\n",
       "      <td>145</td>\n",
       "      <td>233</td>\n",
       "      <td>1</td>\n",
       "      <td>2</td>\n",
       "      <td>150</td>\n",
       "      <td>0</td>\n",
       "      <td>2.3</td>\n",
       "      <td>3</td>\n",
       "      <td>0.0</td>\n",
       "      <td>fixed</td>\n",
       "      <td>No</td>\n",
       "    </tr>\n",
       "    <tr>\n",
       "      <th>1</th>\n",
       "      <td>67</td>\n",
       "      <td>1</td>\n",
       "      <td>asymptomatic</td>\n",
       "      <td>160</td>\n",
       "      <td>286</td>\n",
       "      <td>0</td>\n",
       "      <td>2</td>\n",
       "      <td>108</td>\n",
       "      <td>1</td>\n",
       "      <td>1.5</td>\n",
       "      <td>2</td>\n",
       "      <td>3.0</td>\n",
       "      <td>normal</td>\n",
       "      <td>Yes</td>\n",
       "    </tr>\n",
       "    <tr>\n",
       "      <th>2</th>\n",
       "      <td>67</td>\n",
       "      <td>1</td>\n",
       "      <td>asymptomatic</td>\n",
       "      <td>120</td>\n",
       "      <td>229</td>\n",
       "      <td>0</td>\n",
       "      <td>2</td>\n",
       "      <td>129</td>\n",
       "      <td>1</td>\n",
       "      <td>2.6</td>\n",
       "      <td>2</td>\n",
       "      <td>2.0</td>\n",
       "      <td>reversable</td>\n",
       "      <td>Yes</td>\n",
       "    </tr>\n",
       "    <tr>\n",
       "      <th>3</th>\n",
       "      <td>37</td>\n",
       "      <td>1</td>\n",
       "      <td>nonanginal</td>\n",
       "      <td>130</td>\n",
       "      <td>250</td>\n",
       "      <td>0</td>\n",
       "      <td>0</td>\n",
       "      <td>187</td>\n",
       "      <td>0</td>\n",
       "      <td>3.5</td>\n",
       "      <td>3</td>\n",
       "      <td>0.0</td>\n",
       "      <td>normal</td>\n",
       "      <td>No</td>\n",
       "    </tr>\n",
       "    <tr>\n",
       "      <th>4</th>\n",
       "      <td>41</td>\n",
       "      <td>0</td>\n",
       "      <td>nontypical</td>\n",
       "      <td>130</td>\n",
       "      <td>204</td>\n",
       "      <td>0</td>\n",
       "      <td>2</td>\n",
       "      <td>172</td>\n",
       "      <td>0</td>\n",
       "      <td>1.4</td>\n",
       "      <td>1</td>\n",
       "      <td>0.0</td>\n",
       "      <td>normal</td>\n",
       "      <td>No</td>\n",
       "    </tr>\n",
       "  </tbody>\n",
       "</table>\n",
       "</div>"
      ],
      "text/plain": [
       "   Age  Sex     ChestPain  RestBP  Chol  Fbs  RestECG  MaxHR  ExAng  Oldpeak  \\\n",
       "0   63    1       typical     145   233    1        2    150      0      2.3   \n",
       "1   67    1  asymptomatic     160   286    0        2    108      1      1.5   \n",
       "2   67    1  asymptomatic     120   229    0        2    129      1      2.6   \n",
       "3   37    1    nonanginal     130   250    0        0    187      0      3.5   \n",
       "4   41    0    nontypical     130   204    0        2    172      0      1.4   \n",
       "\n",
       "   Slope   Ca        Thal  AHD  \n",
       "0      3  0.0       fixed   No  \n",
       "1      2  3.0      normal  Yes  \n",
       "2      2  2.0  reversable  Yes  \n",
       "3      3  0.0      normal   No  \n",
       "4      1  0.0      normal   No  "
      ]
     },
     "execution_count": 271,
     "metadata": {},
     "output_type": "execute_result"
    }
   ],
   "source": [
    "data.head()"
   ]
  },
  {
   "cell_type": "code",
   "execution_count": 272,
   "metadata": {},
   "outputs": [
    {
     "name": "stdout",
     "output_type": "stream",
     "text": [
      "<class 'pandas.core.frame.DataFrame'>\n",
      "RangeIndex: 303 entries, 0 to 302\n",
      "Data columns (total 14 columns):\n",
      "Age          303 non-null int64\n",
      "Sex          303 non-null int64\n",
      "ChestPain    303 non-null object\n",
      "RestBP       303 non-null int64\n",
      "Chol         303 non-null int64\n",
      "Fbs          303 non-null int64\n",
      "RestECG      303 non-null int64\n",
      "MaxHR        303 non-null int64\n",
      "ExAng        303 non-null int64\n",
      "Oldpeak      303 non-null float64\n",
      "Slope        303 non-null int64\n",
      "Ca           299 non-null float64\n",
      "Thal         301 non-null object\n",
      "AHD          303 non-null object\n",
      "dtypes: float64(2), int64(9), object(3)\n",
      "memory usage: 33.2+ KB\n"
     ]
    }
   ],
   "source": [
    "data.info()"
   ]
  },
  {
   "cell_type": "code",
   "execution_count": 273,
   "metadata": {},
   "outputs": [
    {
     "data": {
      "text/plain": [
       "Age          0\n",
       "Sex          0\n",
       "ChestPain    0\n",
       "RestBP       0\n",
       "Chol         0\n",
       "Fbs          0\n",
       "RestECG      0\n",
       "MaxHR        0\n",
       "ExAng        0\n",
       "Oldpeak      0\n",
       "Slope        0\n",
       "Ca           4\n",
       "Thal         2\n",
       "AHD          0\n",
       "dtype: int64"
      ]
     },
     "execution_count": 273,
     "metadata": {},
     "output_type": "execute_result"
    }
   ],
   "source": [
    "data.isna().sum()"
   ]
  },
  {
   "cell_type": "code",
   "execution_count": 274,
   "metadata": {},
   "outputs": [],
   "source": [
    "from scipy.stats.mstats import mode"
   ]
  },
  {
   "cell_type": "code",
   "execution_count": 275,
   "metadata": {},
   "outputs": [],
   "source": [
    "data['Thal']=data['Thal'].fillna(value=data['Thal'].mode()[0])"
   ]
  },
  {
   "cell_type": "code",
   "execution_count": 276,
   "metadata": {},
   "outputs": [
    {
     "data": {
      "text/plain": [
       "'normal'"
      ]
     },
     "execution_count": 276,
     "metadata": {},
     "output_type": "execute_result"
    }
   ],
   "source": [
    "data['Thal'].mode()[0]"
   ]
  },
  {
   "cell_type": "code",
   "execution_count": 277,
   "metadata": {},
   "outputs": [],
   "source": [
    "data['Ca']=data['Ca'].fillna(value=data['Ca'].mode()[0])"
   ]
  },
  {
   "cell_type": "code",
   "execution_count": 278,
   "metadata": {},
   "outputs": [],
   "source": [
    "data['Sex_Cat']     = data.Sex.astype(\"category\")\n",
    "data['Fbs_Cat']     = data.Fbs.astype(\"category\")\n",
    "data['RestECG_Cat'] = data.RestECG.astype(\"category\")\n",
    "data['ExAng_Cat']   = data.ExAng.astype(\"category\")\n",
    "data['Slope_Cat']   = data.Slope.astype(\"category\")\n",
    "data['Ca_Cat']      = data.Ca.astype(\"category\")"
   ]
  },
  {
   "cell_type": "code",
   "execution_count": 279,
   "metadata": {},
   "outputs": [
    {
     "name": "stdout",
     "output_type": "stream",
     "text": [
      "<class 'pandas.core.frame.DataFrame'>\n",
      "RangeIndex: 303 entries, 0 to 302\n",
      "Data columns (total 20 columns):\n",
      "Age            303 non-null int64\n",
      "Sex            303 non-null int64\n",
      "ChestPain      303 non-null object\n",
      "RestBP         303 non-null int64\n",
      "Chol           303 non-null int64\n",
      "Fbs            303 non-null int64\n",
      "RestECG        303 non-null int64\n",
      "MaxHR          303 non-null int64\n",
      "ExAng          303 non-null int64\n",
      "Oldpeak        303 non-null float64\n",
      "Slope          303 non-null int64\n",
      "Ca             303 non-null float64\n",
      "Thal           303 non-null object\n",
      "AHD            303 non-null object\n",
      "Sex_Cat        303 non-null category\n",
      "Fbs_Cat        303 non-null category\n",
      "RestECG_Cat    303 non-null category\n",
      "ExAng_Cat      303 non-null category\n",
      "Slope_Cat      303 non-null category\n",
      "Ca_Cat         303 non-null category\n",
      "dtypes: category(6), float64(2), int64(9), object(3)\n",
      "memory usage: 35.7+ KB\n"
     ]
    }
   ],
   "source": [
    "data.info()"
   ]
  },
  {
   "cell_type": "code",
   "execution_count": 280,
   "metadata": {},
   "outputs": [
    {
     "data": {
      "text/plain": [
       "['Age',\n",
       " 'ChestPain',\n",
       " 'RestBP',\n",
       " 'Chol',\n",
       " 'MaxHR',\n",
       " 'Oldpeak',\n",
       " 'Thal',\n",
       " 'Sex_Cat',\n",
       " 'Fbs_Cat',\n",
       " 'RestECG_Cat',\n",
       " 'ExAng_Cat',\n",
       " 'Slope_Cat',\n",
       " 'Ca_Cat']"
      ]
     },
     "execution_count": 280,
     "metadata": {},
     "output_type": "execute_result"
    }
   ],
   "source": [
    "X_features = list(data.columns )\n",
    "X_features.remove('AHD')\n",
    "X_features.remove('Sex')\n",
    "X_features.remove('Fbs')\n",
    "X_features.remove('RestECG')\n",
    "X_features.remove('ExAng')\n",
    "X_features.remove('Slope')\n",
    "X_features.remove('Ca')\n",
    "X_features\n",
    "\n"
   ]
  },
  {
   "cell_type": "code",
   "execution_count": 281,
   "metadata": {},
   "outputs": [],
   "source": [
    "data_complete = pd.get_dummies(data[X_features], drop_first= True)\n",
    "\n"
   ]
  },
  {
   "cell_type": "code",
   "execution_count": 282,
   "metadata": {},
   "outputs": [
    {
     "data": {
      "text/plain": [
       "20"
      ]
     },
     "execution_count": 282,
     "metadata": {},
     "output_type": "execute_result"
    }
   ],
   "source": [
    "len(data_complete.columns)"
   ]
  },
  {
   "cell_type": "code",
   "execution_count": 283,
   "metadata": {},
   "outputs": [],
   "source": [
    "\n",
    "\n",
    "x = data_complete\n",
    "\n"
   ]
  },
  {
   "cell_type": "code",
   "execution_count": 284,
   "metadata": {},
   "outputs": [],
   "source": [
    "data['AHD']  = data.AHD.replace(['Yes', 'No'], [1, 0])\n"
   ]
  },
  {
   "cell_type": "code",
   "execution_count": null,
   "metadata": {},
   "outputs": [],
   "source": []
  },
  {
   "cell_type": "code",
   "execution_count": 285,
   "metadata": {},
   "outputs": [],
   "source": [
    "y = data['AHD']"
   ]
  },
  {
   "cell_type": "code",
   "execution_count": 286,
   "metadata": {},
   "outputs": [],
   "source": [
    "x_train, x_test, y_train, y_test = train_test_split( x, y, test_size = 0.3, random_state = 56 )"
   ]
  },
  {
   "cell_type": "code",
   "execution_count": 287,
   "metadata": {},
   "outputs": [],
   "source": [
    "### feature scaling:"
   ]
  },
  {
   "cell_type": "code",
   "execution_count": 288,
   "metadata": {},
   "outputs": [
    {
     "name": "stdout",
     "output_type": "stream",
     "text": [
      "Optimization terminated successfully.\n",
      "         Current function value: 0.282095\n",
      "         Iterations 8\n"
     ]
    }
   ],
   "source": [
    "logit = sm.Logit( y_train, sm.add_constant( x_train ) )\n",
    "lg = logit.fit()\n"
   ]
  },
  {
   "cell_type": "code",
   "execution_count": 289,
   "metadata": {},
   "outputs": [
    {
     "data": {
      "text/html": [
       "<table class=\"simpletable\">\n",
       "<caption>Logit Regression Results</caption>\n",
       "<tr>\n",
       "  <th>Dep. Variable:</th>        <td>AHD</td>       <th>  No. Observations:  </th>  <td>   212</td>  \n",
       "</tr>\n",
       "<tr>\n",
       "  <th>Model:</th>               <td>Logit</td>      <th>  Df Residuals:      </th>  <td>   191</td>  \n",
       "</tr>\n",
       "<tr>\n",
       "  <th>Method:</th>               <td>MLE</td>       <th>  Df Model:          </th>  <td>    20</td>  \n",
       "</tr>\n",
       "<tr>\n",
       "  <th>Date:</th>          <td>Fri, 21 Sep 2018</td> <th>  Pseudo R-squ.:     </th>  <td>0.5904</td>  \n",
       "</tr>\n",
       "<tr>\n",
       "  <th>Time:</th>              <td>23:43:10</td>     <th>  Log-Likelihood:    </th> <td> -59.804</td> \n",
       "</tr>\n",
       "<tr>\n",
       "  <th>converged:</th>           <td>True</td>       <th>  LL-Null:           </th> <td> -146.00</td> \n",
       "</tr>\n",
       "<tr>\n",
       "  <th> </th>                      <td> </td>        <th>  LLR p-value:       </th> <td>2.962e-26</td>\n",
       "</tr>\n",
       "</table>\n",
       "<table class=\"simpletable\">\n",
       "<tr>\n",
       "            <td></td>              <th>coef</th>     <th>std err</th>      <th>z</th>      <th>P>|z|</th>  <th>[0.025</th>    <th>0.975]</th>  \n",
       "</tr>\n",
       "<tr>\n",
       "  <th>const</th>                <td>   -8.3315</td> <td>    3.897</td> <td>   -2.138</td> <td> 0.033</td> <td>  -15.970</td> <td>   -0.693</td>\n",
       "</tr>\n",
       "<tr>\n",
       "  <th>Age</th>                  <td>   -0.0220</td> <td>    0.034</td> <td>   -0.650</td> <td> 0.516</td> <td>   -0.088</td> <td>    0.044</td>\n",
       "</tr>\n",
       "<tr>\n",
       "  <th>RestBP</th>               <td>    0.0419</td> <td>    0.017</td> <td>    2.540</td> <td> 0.011</td> <td>    0.010</td> <td>    0.074</td>\n",
       "</tr>\n",
       "<tr>\n",
       "  <th>Chol</th>                 <td>    0.0043</td> <td>    0.005</td> <td>    0.856</td> <td> 0.392</td> <td>   -0.006</td> <td>    0.014</td>\n",
       "</tr>\n",
       "<tr>\n",
       "  <th>MaxHR</th>                <td>   -0.0110</td> <td>    0.014</td> <td>   -0.767</td> <td> 0.443</td> <td>   -0.039</td> <td>    0.017</td>\n",
       "</tr>\n",
       "<tr>\n",
       "  <th>Oldpeak</th>              <td>    0.5724</td> <td>    0.296</td> <td>    1.933</td> <td> 0.053</td> <td>   -0.008</td> <td>    1.153</td>\n",
       "</tr>\n",
       "<tr>\n",
       "  <th>ChestPain_nonanginal</th> <td>   -2.5226</td> <td>    0.694</td> <td>   -3.636</td> <td> 0.000</td> <td>   -3.882</td> <td>   -1.163</td>\n",
       "</tr>\n",
       "<tr>\n",
       "  <th>ChestPain_nontypical</th> <td>   -0.5652</td> <td>    0.680</td> <td>   -0.832</td> <td> 0.406</td> <td>   -1.897</td> <td>    0.767</td>\n",
       "</tr>\n",
       "<tr>\n",
       "  <th>ChestPain_typical</th>    <td>   -3.7933</td> <td>    1.024</td> <td>   -3.706</td> <td> 0.000</td> <td>   -5.800</td> <td>   -1.787</td>\n",
       "</tr>\n",
       "<tr>\n",
       "  <th>Thal_normal</th>          <td>    0.4884</td> <td>    1.017</td> <td>    0.480</td> <td> 0.631</td> <td>   -1.505</td> <td>    2.482</td>\n",
       "</tr>\n",
       "<tr>\n",
       "  <th>Thal_reversable</th>      <td>    2.0656</td> <td>    1.009</td> <td>    2.048</td> <td> 0.041</td> <td>    0.089</td> <td>    4.043</td>\n",
       "</tr>\n",
       "<tr>\n",
       "  <th>Sex_Cat_1</th>            <td>    2.0349</td> <td>    0.715</td> <td>    2.846</td> <td> 0.004</td> <td>    0.634</td> <td>    3.436</td>\n",
       "</tr>\n",
       "<tr>\n",
       "  <th>Fbs_Cat_1</th>            <td>   -0.2230</td> <td>    0.664</td> <td>   -0.336</td> <td> 0.737</td> <td>   -1.524</td> <td>    1.078</td>\n",
       "</tr>\n",
       "<tr>\n",
       "  <th>RestECG_Cat_1</th>        <td>    1.2704</td> <td>    3.131</td> <td>    0.406</td> <td> 0.685</td> <td>   -4.866</td> <td>    7.407</td>\n",
       "</tr>\n",
       "<tr>\n",
       "  <th>RestECG_Cat_2</th>        <td>    0.3734</td> <td>    0.520</td> <td>    0.718</td> <td> 0.473</td> <td>   -0.646</td> <td>    1.392</td>\n",
       "</tr>\n",
       "<tr>\n",
       "  <th>ExAng_Cat_1</th>          <td>    0.3734</td> <td>    0.592</td> <td>    0.630</td> <td> 0.528</td> <td>   -0.787</td> <td>    1.534</td>\n",
       "</tr>\n",
       "<tr>\n",
       "  <th>Slope_Cat_2</th>          <td>    1.8926</td> <td>    0.618</td> <td>    3.061</td> <td> 0.002</td> <td>    0.681</td> <td>    3.105</td>\n",
       "</tr>\n",
       "<tr>\n",
       "  <th>Slope_Cat_3</th>          <td>    0.9617</td> <td>    1.056</td> <td>    0.910</td> <td> 0.363</td> <td>   -1.109</td> <td>    3.032</td>\n",
       "</tr>\n",
       "<tr>\n",
       "  <th>Ca_Cat_1.0</th>           <td>    2.8868</td> <td>    0.679</td> <td>    4.254</td> <td> 0.000</td> <td>    1.557</td> <td>    4.217</td>\n",
       "</tr>\n",
       "<tr>\n",
       "  <th>Ca_Cat_2.0</th>           <td>    4.0155</td> <td>    1.303</td> <td>    3.083</td> <td> 0.002</td> <td>    1.462</td> <td>    6.569</td>\n",
       "</tr>\n",
       "<tr>\n",
       "  <th>Ca_Cat_3.0</th>           <td>    1.5531</td> <td>    1.286</td> <td>    1.208</td> <td> 0.227</td> <td>   -0.967</td> <td>    4.073</td>\n",
       "</tr>\n",
       "</table>"
      ],
      "text/plain": [
       "<class 'statsmodels.iolib.summary.Summary'>\n",
       "\"\"\"\n",
       "                           Logit Regression Results                           \n",
       "==============================================================================\n",
       "Dep. Variable:                    AHD   No. Observations:                  212\n",
       "Model:                          Logit   Df Residuals:                      191\n",
       "Method:                           MLE   Df Model:                           20\n",
       "Date:                Fri, 21 Sep 2018   Pseudo R-squ.:                  0.5904\n",
       "Time:                        23:43:10   Log-Likelihood:                -59.804\n",
       "converged:                       True   LL-Null:                       -146.00\n",
       "                                        LLR p-value:                 2.962e-26\n",
       "========================================================================================\n",
       "                           coef    std err          z      P>|z|      [0.025      0.975]\n",
       "----------------------------------------------------------------------------------------\n",
       "const                   -8.3315      3.897     -2.138      0.033     -15.970      -0.693\n",
       "Age                     -0.0220      0.034     -0.650      0.516      -0.088       0.044\n",
       "RestBP                   0.0419      0.017      2.540      0.011       0.010       0.074\n",
       "Chol                     0.0043      0.005      0.856      0.392      -0.006       0.014\n",
       "MaxHR                   -0.0110      0.014     -0.767      0.443      -0.039       0.017\n",
       "Oldpeak                  0.5724      0.296      1.933      0.053      -0.008       1.153\n",
       "ChestPain_nonanginal    -2.5226      0.694     -3.636      0.000      -3.882      -1.163\n",
       "ChestPain_nontypical    -0.5652      0.680     -0.832      0.406      -1.897       0.767\n",
       "ChestPain_typical       -3.7933      1.024     -3.706      0.000      -5.800      -1.787\n",
       "Thal_normal              0.4884      1.017      0.480      0.631      -1.505       2.482\n",
       "Thal_reversable          2.0656      1.009      2.048      0.041       0.089       4.043\n",
       "Sex_Cat_1                2.0349      0.715      2.846      0.004       0.634       3.436\n",
       "Fbs_Cat_1               -0.2230      0.664     -0.336      0.737      -1.524       1.078\n",
       "RestECG_Cat_1            1.2704      3.131      0.406      0.685      -4.866       7.407\n",
       "RestECG_Cat_2            0.3734      0.520      0.718      0.473      -0.646       1.392\n",
       "ExAng_Cat_1              0.3734      0.592      0.630      0.528      -0.787       1.534\n",
       "Slope_Cat_2              1.8926      0.618      3.061      0.002       0.681       3.105\n",
       "Slope_Cat_3              0.9617      1.056      0.910      0.363      -1.109       3.032\n",
       "Ca_Cat_1.0               2.8868      0.679      4.254      0.000       1.557       4.217\n",
       "Ca_Cat_2.0               4.0155      1.303      3.083      0.002       1.462       6.569\n",
       "Ca_Cat_3.0               1.5531      1.286      1.208      0.227      -0.967       4.073\n",
       "========================================================================================\n",
       "\"\"\""
      ]
     },
     "execution_count": 289,
     "metadata": {},
     "output_type": "execute_result"
    }
   ],
   "source": [
    "lg.summary()"
   ]
  },
  {
   "cell_type": "code",
   "execution_count": 290,
   "metadata": {},
   "outputs": [
    {
     "data": {
      "text/plain": [
       "['const',\n",
       " 'RestBP',\n",
       " 'ChestPain_nonanginal',\n",
       " 'ChestPain_typical',\n",
       " 'Thal_reversable',\n",
       " 'Sex_Cat_1',\n",
       " 'Slope_Cat_2',\n",
       " 'Ca_Cat_1.0',\n",
       " 'Ca_Cat_2.0']"
      ]
     },
     "execution_count": 290,
     "metadata": {},
     "output_type": "execute_result"
    }
   ],
   "source": [
    "significant_vars = get_significant_vars( lg, sig_level = 0.05 )\n",
    "significant_vars"
   ]
  },
  {
   "cell_type": "code",
   "execution_count": null,
   "metadata": {},
   "outputs": [],
   "source": [
    "\n"
   ]
  },
  {
   "cell_type": "code",
   "execution_count": 291,
   "metadata": {},
   "outputs": [],
   "source": [
    "def get_significant_vars( lm, sig_level ):\n",
    "    var_p_vals_df = pd.DataFrame( lm.pvalues )\n",
    "    var_p_vals_df['vars'] = var_p_vals_df.index\n",
    "    var_p_vals_df.columns = ['pvals', 'vars']\n",
    "    return list( var_p_vals_df[var_p_vals_df.pvals <= sig_level]['vars'] )"
   ]
  },
  {
   "cell_type": "code",
   "execution_count": 292,
   "metadata": {},
   "outputs": [],
   "source": [
    "def get_predictions( x, y, model ):\n",
    "    y_pred_df = pd.DataFrame( { 'actual': y,\n",
    "    \"predicted_prob\": model.predict( sm.add_constant( x ) ) } )\n",
    "    return y_pred_df"
   ]
  },
  {
   "cell_type": "code",
   "execution_count": 293,
   "metadata": {},
   "outputs": [],
   "source": [
    "y_pred_df = get_predictions( x_train, y_train, lg )"
   ]
  },
  {
   "cell_type": "code",
   "execution_count": 294,
   "metadata": {},
   "outputs": [
    {
     "data": {
      "text/html": [
       "<div>\n",
       "<style scoped>\n",
       "    .dataframe tbody tr th:only-of-type {\n",
       "        vertical-align: middle;\n",
       "    }\n",
       "\n",
       "    .dataframe tbody tr th {\n",
       "        vertical-align: top;\n",
       "    }\n",
       "\n",
       "    .dataframe thead th {\n",
       "        text-align: right;\n",
       "    }\n",
       "</style>\n",
       "<table border=\"1\" class=\"dataframe\">\n",
       "  <thead>\n",
       "    <tr style=\"text-align: right;\">\n",
       "      <th></th>\n",
       "      <th>actual</th>\n",
       "      <th>predicted_prob</th>\n",
       "      <th>predicted</th>\n",
       "    </tr>\n",
       "  </thead>\n",
       "  <tbody>\n",
       "    <tr>\n",
       "      <th>251</th>\n",
       "      <td>1</td>\n",
       "      <td>0.998217</td>\n",
       "      <td>1</td>\n",
       "    </tr>\n",
       "    <tr>\n",
       "      <th>99</th>\n",
       "      <td>0</td>\n",
       "      <td>0.078871</td>\n",
       "      <td>0</td>\n",
       "    </tr>\n",
       "    <tr>\n",
       "      <th>204</th>\n",
       "      <td>0</td>\n",
       "      <td>0.194635</td>\n",
       "      <td>0</td>\n",
       "    </tr>\n",
       "    <tr>\n",
       "      <th>263</th>\n",
       "      <td>0</td>\n",
       "      <td>0.005791</td>\n",
       "      <td>0</td>\n",
       "    </tr>\n",
       "    <tr>\n",
       "      <th>30</th>\n",
       "      <td>0</td>\n",
       "      <td>0.053965</td>\n",
       "      <td>0</td>\n",
       "    </tr>\n",
       "    <tr>\n",
       "      <th>112</th>\n",
       "      <td>0</td>\n",
       "      <td>0.004955</td>\n",
       "      <td>0</td>\n",
       "    </tr>\n",
       "    <tr>\n",
       "      <th>275</th>\n",
       "      <td>0</td>\n",
       "      <td>0.397358</td>\n",
       "      <td>0</td>\n",
       "    </tr>\n",
       "    <tr>\n",
       "      <th>38</th>\n",
       "      <td>1</td>\n",
       "      <td>0.997553</td>\n",
       "      <td>1</td>\n",
       "    </tr>\n",
       "    <tr>\n",
       "      <th>21</th>\n",
       "      <td>0</td>\n",
       "      <td>0.001569</td>\n",
       "      <td>0</td>\n",
       "    </tr>\n",
       "    <tr>\n",
       "      <th>166</th>\n",
       "      <td>0</td>\n",
       "      <td>0.010147</td>\n",
       "      <td>0</td>\n",
       "    </tr>\n",
       "  </tbody>\n",
       "</table>\n",
       "</div>"
      ],
      "text/plain": [
       "     actual  predicted_prob  predicted\n",
       "251       1        0.998217          1\n",
       "99        0        0.078871          0\n",
       "204       0        0.194635          0\n",
       "263       0        0.005791          0\n",
       "30        0        0.053965          0\n",
       "112       0        0.004955          0\n",
       "275       0        0.397358          0\n",
       "38        1        0.997553          1\n",
       "21        0        0.001569          0\n",
       "166       0        0.010147          0"
      ]
     },
     "execution_count": 294,
     "metadata": {},
     "output_type": "execute_result"
    }
   ],
   "source": [
    "y_pred_df['predicted'] = y_pred_df.predicted_prob.map( lambda x: 1 if x > 0.5 else 0)\n",
    "y_pred_df[0:10]"
   ]
  },
  {
   "cell_type": "code",
   "execution_count": 295,
   "metadata": {},
   "outputs": [],
   "source": [
    "def draw_cm( actual, predicted ):\n",
    "    cm = metrics.confusion_matrix( actual, predicted, [1,0] )\n",
    "    sns.heatmap(cm, annot=True, fmt='.2f', xticklabels = [\"Yes\", \"No\"] , yticklabels = [\"Yes\", \"No\"] )\n",
    "    plt.ylabel('True label')\n",
    "    plt.xlabel('Predicted label')\n",
    "    plt.show()\n"
   ]
  },
  {
   "cell_type": "code",
   "execution_count": 296,
   "metadata": {},
   "outputs": [
    {
     "name": "stdout",
     "output_type": "stream",
     "text": [
      "\n",
      "Confusion Matrix for training data\n",
      "[[ 83  13]\n",
      " [  8 108]]\n"
     ]
    },
    {
     "data": {
      "image/png": "[encoded data removed]",
      "text/plain": [
       "<Figure size 432x288 with 2 Axes>"
      ]
     },
     "metadata": {},
     "output_type": "display_data"
    },
    {
     "name": "stdout",
     "output_type": "stream",
     "text": [
      "Total Accuracy :  0.9\n",
      "Precision :  0.91\n",
      "Recall :  0.86\n"
     ]
    }
   ],
   "source": [
    "cm1 = metrics.confusion_matrix( y_pred_df.actual, y_pred_df.predicted, [1,0] )\n",
    "\n",
    "print(\"\\nConfusion Matrix for training data\")\n",
    "print(cm1)\n",
    "\n",
    "draw_cm( y_pred_df.actual, y_pred_df.predicted )\n",
    "\n",
    "print( 'Total Accuracy : ',np.round( metrics.accuracy_score( y_train, y_pred_df.predicted ), 2 ) )\n",
    "\n",
    "print( 'Precision : ',np.round( metrics.precision_score( y_train, y_pred_df.predicted ), 2 ) )\n",
    "\n",
    "print( 'Recall : ',np.round( metrics.recall_score( y_train, y_pred_df.predicted ), 2 ) )\n"
   ]
  },
  {
   "cell_type": "markdown",
   "metadata": {},
   "source": [
    "### Test Data"
   ]
  },
  {
   "cell_type": "code",
   "execution_count": 297,
   "metadata": {},
   "outputs": [],
   "source": [
    "y_pred_df = get_predictions( x_test, y_test, lg )\n"
   ]
  },
  {
   "cell_type": "code",
   "execution_count": 298,
   "metadata": {},
   "outputs": [
    {
     "data": {
      "text/html": [
       "<div>\n",
       "<style scoped>\n",
       "    .dataframe tbody tr th:only-of-type {\n",
       "        vertical-align: middle;\n",
       "    }\n",
       "\n",
       "    .dataframe tbody tr th {\n",
       "        vertical-align: top;\n",
       "    }\n",
       "\n",
       "    .dataframe thead th {\n",
       "        text-align: right;\n",
       "    }\n",
       "</style>\n",
       "<table border=\"1\" class=\"dataframe\">\n",
       "  <thead>\n",
       "    <tr style=\"text-align: right;\">\n",
       "      <th></th>\n",
       "      <th>actual</th>\n",
       "      <th>predicted_prob</th>\n",
       "      <th>predicted</th>\n",
       "    </tr>\n",
       "  </thead>\n",
       "  <tbody>\n",
       "    <tr>\n",
       "      <th>81</th>\n",
       "      <td>0</td>\n",
       "      <td>0.183577</td>\n",
       "      <td>0</td>\n",
       "    </tr>\n",
       "    <tr>\n",
       "      <th>168</th>\n",
       "      <td>1</td>\n",
       "      <td>0.630792</td>\n",
       "      <td>1</td>\n",
       "    </tr>\n",
       "    <tr>\n",
       "      <th>137</th>\n",
       "      <td>1</td>\n",
       "      <td>0.992674</td>\n",
       "      <td>1</td>\n",
       "    </tr>\n",
       "    <tr>\n",
       "      <th>242</th>\n",
       "      <td>0</td>\n",
       "      <td>0.016351</td>\n",
       "      <td>0</td>\n",
       "    </tr>\n",
       "    <tr>\n",
       "      <th>2</th>\n",
       "      <td>1</td>\n",
       "      <td>0.999127</td>\n",
       "      <td>1</td>\n",
       "    </tr>\n",
       "    <tr>\n",
       "      <th>109</th>\n",
       "      <td>1</td>\n",
       "      <td>0.863872</td>\n",
       "      <td>1</td>\n",
       "    </tr>\n",
       "    <tr>\n",
       "      <th>216</th>\n",
       "      <td>0</td>\n",
       "      <td>0.002414</td>\n",
       "      <td>0</td>\n",
       "    </tr>\n",
       "    <tr>\n",
       "      <th>119</th>\n",
       "      <td>1</td>\n",
       "      <td>0.998435</td>\n",
       "      <td>1</td>\n",
       "    </tr>\n",
       "    <tr>\n",
       "      <th>132</th>\n",
       "      <td>0</td>\n",
       "      <td>0.074281</td>\n",
       "      <td>0</td>\n",
       "    </tr>\n",
       "    <tr>\n",
       "      <th>13</th>\n",
       "      <td>0</td>\n",
       "      <td>0.183211</td>\n",
       "      <td>0</td>\n",
       "    </tr>\n",
       "  </tbody>\n",
       "</table>\n",
       "</div>"
      ],
      "text/plain": [
       "     actual  predicted_prob  predicted\n",
       "81        0        0.183577          0\n",
       "168       1        0.630792          1\n",
       "137       1        0.992674          1\n",
       "242       0        0.016351          0\n",
       "2         1        0.999127          1\n",
       "109       1        0.863872          1\n",
       "216       0        0.002414          0\n",
       "119       1        0.998435          1\n",
       "132       0        0.074281          0\n",
       "13        0        0.183211          0"
      ]
     },
     "execution_count": 298,
     "metadata": {},
     "output_type": "execute_result"
    }
   ],
   "source": [
    "y_pred_df['predicted'] = y_pred_df.predicted_prob.map( lambda x: 1 if x > 0.5 else 0)\n",
    "y_pred_df[0:10]"
   ]
  },
  {
   "cell_type": "code",
   "execution_count": 299,
   "metadata": {},
   "outputs": [
    {
     "name": "stdout",
     "output_type": "stream",
     "text": [
      "\n",
      "Confusion Matrix for testing data\n",
      "[[34  9]\n",
      " [ 4 44]]\n"
     ]
    },
    {
     "data": {
      "image/png": "[encoded data removed]",
      "text/plain": [
       "<Figure size 432x288 with 2 Axes>"
      ]
     },
     "metadata": {},
     "output_type": "display_data"
    },
    {
     "name": "stdout",
     "output_type": "stream",
     "text": [
      "Total Accuracy :  0.86\n",
      "Precision :  0.89\n",
      "Recall :  0.79\n"
     ]
    }
   ],
   "source": [
    "cm2 = metrics.confusion_matrix( y_pred_df.actual, y_pred_df.predicted, [1,0] )\n",
    "\n",
    "print(\"\\nConfusion Matrix for testing data\")\n",
    "print(cm2)\n",
    "\n",
    "draw_cm( y_pred_df.actual, y_pred_df.predicted )\n",
    "\n",
    "print( 'Total Accuracy : ',np.round( metrics.accuracy_score( y_test, y_pred_df.predicted ), 2 ) )\n",
    "\n",
    "print( 'Precision : ',np.round( metrics.precision_score( y_test, y_pred_df.predicted ), 2 ) )\n",
    "\n",
    "print( 'Recall : ',np.round( metrics.recall_score( y_test, y_pred_df.predicted ), 2 ) )\n"
   ]
  },
  {
   "cell_type": "code",
   "execution_count": 302,
   "metadata": {},
   "outputs": [],
   "source": [
    "def back_var_sel(x_train, y_train):\n",
    "    \"\"\"a simple function to perform backward variable selection. \n",
    "    Input arguments are :  1) a dataframe with independent variables and 2) a df with target variable\n",
    "    (basically x_train and y_train)2018-08-26 00:50:27 \"\"\"\n",
    "    imp_features = list(x_train.columns)\n",
    "    not_imp_features = list()\n",
    "    model = sm.OLS(y_train, sm.add_constant(x_train[imp_features])).fit()\n",
    "    p_values = pd.DataFrame(model.pvalues[1:])\n",
    "\n",
    "    while max(p_values[0]) > 0.05:\n",
    "        not_imp_features.append(\n",
    "            list(p_values[p_values[0] == max(p_values[0])].index)[0])\n",
    "        imp_features = list(p_values[p_values[0] != max(p_values[0])].index)\n",
    "        model = sm.OLS(y_train, sm.add_constant(x_train[imp_features])).fit()\n",
    "        p_values = pd.DataFrame(round(model.pvalues[1:], 4))\n",
    "\n",
    "    print('Important features are', imp_features, '\\nRedundant features are',\n",
    "          not_imp_features)\n",
    "    return imp_features, not_imp_features,model"
   ]
  },
  {
   "cell_type": "code",
   "execution_count": 303,
   "metadata": {},
   "outputs": [
    {
     "name": "stdout",
     "output_type": "stream",
     "text": [
      "Important features are ['RestBP', 'Oldpeak', 'ChestPain_nonanginal', 'ChestPain_nontypical', 'ChestPain_typical', 'Thal_reversable', 'Sex_Cat_1', 'Slope_Cat_2', 'Ca_Cat_1.0', 'Ca_Cat_2.0', 'Ca_Cat_3.0'] \n",
      "Redundant features are ['Fbs_Cat_1', 'Thal_normal', 'Chol', 'Age', 'MaxHR', 'RestECG_Cat_1', 'RestECG_Cat_2', 'ExAng_Cat_1', 'Slope_Cat_3']\n"
     ]
    }
   ],
   "source": [
    "imp_features, not_imp_features,model = back_var_sel(x_train, y_train)"
   ]
  },
  {
   "cell_type": "code",
   "execution_count": 304,
   "metadata": {},
   "outputs": [
    {
     "data": {
      "text/plain": [
       "['RestBP',\n",
       " 'Oldpeak',\n",
       " 'ChestPain_nonanginal',\n",
       " 'ChestPain_nontypical',\n",
       " 'ChestPain_typical',\n",
       " 'Thal_reversable',\n",
       " 'Sex_Cat_1',\n",
       " 'Slope_Cat_2',\n",
       " 'Ca_Cat_1.0',\n",
       " 'Ca_Cat_2.0',\n",
       " 'Ca_Cat_3.0']"
      ]
     },
     "execution_count": 304,
     "metadata": {},
     "output_type": "execute_result"
    }
   ],
   "source": [
    "imp_features"
   ]
  },
  {
   "cell_type": "markdown",
   "metadata": {},
   "source": [
    "### Cart Model"
   ]
  },
  {
   "cell_type": "code",
   "execution_count": 305,
   "metadata": {},
   "outputs": [],
   "source": [
    "from sklearn.tree import DecisionTreeClassifier\n",
    "\n",
    "#Setting the parameter\n",
    "clf = DecisionTreeClassifier(criterion = \"gini\" , \n",
    "                             min_samples_split = 100,\n",
    "                             min_samples_leaf = 10,\n",
    "                             max_depth = 50)"
   ]
  },
  {
   "cell_type": "code",
   "execution_count": 307,
   "metadata": {},
   "outputs": [
    {
     "data": {
      "text/plain": [
       "DecisionTreeClassifier(class_weight=None, criterion='gini', max_depth=50,\n",
       "            max_features=None, max_leaf_nodes=None,\n",
       "            min_impurity_decrease=0.0, min_impurity_split=None,\n",
       "            min_samples_leaf=10, min_samples_split=100,\n",
       "            min_weight_fraction_leaf=0.0, presort=False, random_state=None,\n",
       "            splitter='best')"
      ]
     },
     "execution_count": 307,
     "metadata": {},
     "output_type": "execute_result"
    }
   ],
   "source": [
    "clf.fit(x_train,y_train)"
   ]
  },
  {
   "cell_type": "code",
   "execution_count": 311,
   "metadata": {},
   "outputs": [],
   "source": [
    "import pydot\n",
    "from sklearn.tree import tree\n",
    "from sklearn.tree import export_graphviz\n",
    "from sklearn.externals.six import StringIO \n",
    "dot_data = StringIO()\n",
    "feature_list = list(x_train.columns.values)\n",
    "export_graphviz(clf, \n",
    "                out_file = dot_data, \n",
    "                feature_names = feature_list)\n",
    "graph=pydot.graph_from_dot_data(dot_data.getvalue())\n",
    "graph[0].write_pdf(\".\\ctree_output\\classification_tree_output.pdf\")\n",
    "\n"
   ]
  },
  {
   "cell_type": "code",
   "execution_count": 312,
   "metadata": {},
   "outputs": [
    {
     "data": {
      "text/html": [
       "<div>\n",
       "<style scoped>\n",
       "    .dataframe tbody tr th:only-of-type {\n",
       "        vertical-align: middle;\n",
       "    }\n",
       "\n",
       "    .dataframe tbody tr th {\n",
       "        vertical-align: top;\n",
       "    }\n",
       "\n",
       "    .dataframe thead th {\n",
       "        text-align: right;\n",
       "    }\n",
       "</style>\n",
       "<table border=\"1\" class=\"dataframe\">\n",
       "  <thead>\n",
       "    <tr style=\"text-align: right;\">\n",
       "      <th></th>\n",
       "      <th>0</th>\n",
       "      <th>1</th>\n",
       "    </tr>\n",
       "  </thead>\n",
       "  <tbody>\n",
       "    <tr>\n",
       "      <th>0</th>\n",
       "      <td>Age</td>\n",
       "      <td>0</td>\n",
       "    </tr>\n",
       "    <tr>\n",
       "      <th>1</th>\n",
       "      <td>RestBP</td>\n",
       "      <td>0</td>\n",
       "    </tr>\n",
       "    <tr>\n",
       "      <th>2</th>\n",
       "      <td>Chol</td>\n",
       "      <td>0</td>\n",
       "    </tr>\n",
       "    <tr>\n",
       "      <th>3</th>\n",
       "      <td>MaxHR</td>\n",
       "      <td>0</td>\n",
       "    </tr>\n",
       "    <tr>\n",
       "      <th>4</th>\n",
       "      <td>Oldpeak</td>\n",
       "      <td>0.1432</td>\n",
       "    </tr>\n",
       "    <tr>\n",
       "      <th>5</th>\n",
       "      <td>ChestPain_nonanginal</td>\n",
       "      <td>0.104004</td>\n",
       "    </tr>\n",
       "    <tr>\n",
       "      <th>6</th>\n",
       "      <td>ChestPain_nontypical</td>\n",
       "      <td>0</td>\n",
       "    </tr>\n",
       "    <tr>\n",
       "      <th>7</th>\n",
       "      <td>ChestPain_typical</td>\n",
       "      <td>0</td>\n",
       "    </tr>\n",
       "    <tr>\n",
       "      <th>8</th>\n",
       "      <td>Thal_normal</td>\n",
       "      <td>0.752796</td>\n",
       "    </tr>\n",
       "    <tr>\n",
       "      <th>9</th>\n",
       "      <td>Thal_reversable</td>\n",
       "      <td>0</td>\n",
       "    </tr>\n",
       "    <tr>\n",
       "      <th>10</th>\n",
       "      <td>Sex_Cat_1</td>\n",
       "      <td>0</td>\n",
       "    </tr>\n",
       "    <tr>\n",
       "      <th>11</th>\n",
       "      <td>Fbs_Cat_1</td>\n",
       "      <td>0</td>\n",
       "    </tr>\n",
       "    <tr>\n",
       "      <th>12</th>\n",
       "      <td>RestECG_Cat_1</td>\n",
       "      <td>0</td>\n",
       "    </tr>\n",
       "    <tr>\n",
       "      <th>13</th>\n",
       "      <td>RestECG_Cat_2</td>\n",
       "      <td>0</td>\n",
       "    </tr>\n",
       "    <tr>\n",
       "      <th>14</th>\n",
       "      <td>ExAng_Cat_1</td>\n",
       "      <td>0</td>\n",
       "    </tr>\n",
       "    <tr>\n",
       "      <th>15</th>\n",
       "      <td>Slope_Cat_2</td>\n",
       "      <td>0</td>\n",
       "    </tr>\n",
       "    <tr>\n",
       "      <th>16</th>\n",
       "      <td>Slope_Cat_3</td>\n",
       "      <td>0</td>\n",
       "    </tr>\n",
       "    <tr>\n",
       "      <th>17</th>\n",
       "      <td>Ca_Cat_1.0</td>\n",
       "      <td>0</td>\n",
       "    </tr>\n",
       "    <tr>\n",
       "      <th>18</th>\n",
       "      <td>Ca_Cat_2.0</td>\n",
       "      <td>0</td>\n",
       "    </tr>\n",
       "    <tr>\n",
       "      <th>19</th>\n",
       "      <td>Ca_Cat_3.0</td>\n",
       "      <td>0</td>\n",
       "    </tr>\n",
       "  </tbody>\n",
       "</table>\n",
       "</div>"
      ],
      "text/plain": [
       "                       0         1\n",
       "0                    Age         0\n",
       "1                 RestBP         0\n",
       "2                   Chol         0\n",
       "3                  MaxHR         0\n",
       "4                Oldpeak    0.1432\n",
       "5   ChestPain_nonanginal  0.104004\n",
       "6   ChestPain_nontypical         0\n",
       "7      ChestPain_typical         0\n",
       "8            Thal_normal  0.752796\n",
       "9        Thal_reversable         0\n",
       "10             Sex_Cat_1         0\n",
       "11             Fbs_Cat_1         0\n",
       "12         RestECG_Cat_1         0\n",
       "13         RestECG_Cat_2         0\n",
       "14           ExAng_Cat_1         0\n",
       "15           Slope_Cat_2         0\n",
       "16           Slope_Cat_3         0\n",
       "17            Ca_Cat_1.0         0\n",
       "18            Ca_Cat_2.0         0\n",
       "19            Ca_Cat_3.0         0"
      ]
     },
     "execution_count": 312,
     "metadata": {},
     "output_type": "execute_result"
    }
   ],
   "source": [
    "Nodes = pd.DataFrame(clf.tree_.__getstate__()[\"nodes\"])\n",
    "Nodes\n",
    "\n",
    "feature_importance = pd.DataFrame([x_train.columns,\n",
    "                               clf.tree_.compute_feature_importances()])\n",
    "feature_importance.T \n"
   ]
  },
  {
   "cell_type": "code",
   "execution_count": 313,
   "metadata": {},
   "outputs": [
    {
     "data": {
      "text/plain": [
       "array([1, 0, 1, 0, 0, 1, 1, 1, 0, 0, 0, 1, 1, 0, 1, 1, 1, 1, 1, 1, 1, 1,\n",
       "       0, 1, 0, 0, 0, 1, 0, 0, 0, 1, 0, 1, 1, 0, 1, 1, 0, 0, 0, 0, 0, 1,\n",
       "       0, 0, 1, 1, 1, 0, 0, 1, 1, 1, 1, 1, 1, 0, 1, 1, 0, 1, 0, 1, 0, 1,\n",
       "       0, 1, 0, 0, 1, 0, 1, 0, 1, 0, 0, 1, 1, 1, 0, 0, 1, 0, 1, 1, 1, 0,\n",
       "       0, 1, 0, 0, 0, 0, 1, 1, 1, 0, 0, 1, 1, 1, 1, 1, 1, 0, 1, 1, 0, 0,\n",
       "       0, 1, 0, 0, 1, 1, 0, 0, 1, 0, 1, 0, 0, 0, 0, 0, 1, 0, 1, 0, 1, 0,\n",
       "       1, 1, 1, 1, 0, 0, 1, 1, 1, 1, 0, 1, 0, 1, 1, 1, 0, 0, 0, 1, 0, 0,\n",
       "       0, 1, 0, 1, 0, 1, 0, 1, 1, 1, 0, 0, 1, 0, 0, 0, 0, 0, 0, 1, 1, 1,\n",
       "       0, 1, 0, 0, 1, 1, 0, 1, 0, 1, 1, 0, 1, 0, 1, 1, 1, 1, 1, 0, 0, 0,\n",
       "       0, 1, 0, 0, 0, 0, 1, 0, 0, 0, 0, 0, 1, 1])"
      ]
     },
     "execution_count": 313,
     "metadata": {},
     "output_type": "execute_result"
    }
   ],
   "source": [
    "## Let us see how good is the model\n",
    "pred_y_train = clf.predict(x_train )\n",
    "pred_y_train"
   ]
  },
  {
   "cell_type": "code",
   "execution_count": 314,
   "metadata": {},
   "outputs": [
    {
     "data": {
      "text/plain": [
       "0.7783018867924528"
      ]
     },
     "execution_count": 314,
     "metadata": {},
     "output_type": "execute_result"
    }
   ],
   "source": [
    "## Let us see the classification accuracy of our model\n",
    "from sklearn.metrics import accuracy_score\n",
    "from sklearn.metrics import roc_curve\n",
    "from sklearn.metrics import auc\n",
    "score = accuracy_score(y_train, pred_y_train)\n",
    "score"
   ]
  },
  {
   "cell_type": "code",
   "execution_count": 315,
   "metadata": {},
   "outputs": [],
   "source": [
    "y_train_prob = clf.predict_proba(x_train)"
   ]
  },
  {
   "cell_type": "code",
   "execution_count": 318,
   "metadata": {},
   "outputs": [
    {
     "data": {
      "text/html": [
       "<div>\n",
       "<style scoped>\n",
       "    .dataframe tbody tr th:only-of-type {\n",
       "        vertical-align: middle;\n",
       "    }\n",
       "\n",
       "    .dataframe tbody tr th {\n",
       "        vertical-align: top;\n",
       "    }\n",
       "\n",
       "    .dataframe thead th {\n",
       "        text-align: right;\n",
       "    }\n",
       "</style>\n",
       "<table border=\"1\" class=\"dataframe\">\n",
       "  <thead>\n",
       "    <tr style=\"text-align: right;\">\n",
       "      <th></th>\n",
       "      <th>0</th>\n",
       "      <th>1</th>\n",
       "    </tr>\n",
       "  </thead>\n",
       "  <tbody>\n",
       "    <tr>\n",
       "      <th>0</th>\n",
       "      <td>0.263158</td>\n",
       "      <td>0.736842</td>\n",
       "    </tr>\n",
       "    <tr>\n",
       "      <th>1</th>\n",
       "      <td>0.706897</td>\n",
       "      <td>0.293103</td>\n",
       "    </tr>\n",
       "    <tr>\n",
       "      <th>2</th>\n",
       "      <td>0.263158</td>\n",
       "      <td>0.736842</td>\n",
       "    </tr>\n",
       "    <tr>\n",
       "      <th>3</th>\n",
       "      <td>0.978723</td>\n",
       "      <td>0.021277</td>\n",
       "    </tr>\n",
       "    <tr>\n",
       "      <th>4</th>\n",
       "      <td>0.706897</td>\n",
       "      <td>0.293103</td>\n",
       "    </tr>\n",
       "  </tbody>\n",
       "</table>\n",
       "</div>"
      ],
      "text/plain": [
       "          0         1\n",
       "0  0.263158  0.736842\n",
       "1  0.706897  0.293103\n",
       "2  0.263158  0.736842\n",
       "3  0.978723  0.021277\n",
       "4  0.706897  0.293103"
      ]
     },
     "execution_count": 318,
     "metadata": {},
     "output_type": "execute_result"
    }
   ],
   "source": [
    "pd.DataFrame(y_train_prob).head()"
   ]
  },
  {
   "cell_type": "code",
   "execution_count": 319,
   "metadata": {},
   "outputs": [
    {
     "data": {
      "text/plain": [
       "0.8181124281609196"
      ]
     },
     "execution_count": 319,
     "metadata": {},
     "output_type": "execute_result"
    }
   ],
   "source": [
    "## AUC\n",
    "fpr, tpr, thresholds = roc_curve(y_train, y_train_prob[:,1])\n",
    "auc(fpr, tpr)"
   ]
  },
  {
   "cell_type": "markdown",
   "metadata": {},
   "source": [
    "## Let us see how good is the model on TEST"
   ]
  },
  {
   "cell_type": "code",
   "execution_count": 320,
   "metadata": {},
   "outputs": [
    {
     "data": {
      "text/plain": [
       "0.7802197802197802"
      ]
     },
     "execution_count": 320,
     "metadata": {},
     "output_type": "execute_result"
    }
   ],
   "source": [
    "pred_y_test = clf.predict(x_test)\n",
    "score_h = accuracy_score(y_test, pred_y_test)\n",
    "score_h"
   ]
  },
  {
   "cell_type": "code",
   "execution_count": 321,
   "metadata": {},
   "outputs": [
    {
     "data": {
      "text/plain": [
       "0.7812499999999999"
      ]
     },
     "execution_count": 321,
     "metadata": {},
     "output_type": "execute_result"
    }
   ],
   "source": [
    "y_test_prob = clf.predict_proba(x_test)\n",
    "fpr, tpr, thresholds = roc_curve(y_test, y_test_prob[:,1])\n",
    "auc(fpr, tpr)"
   ]
  },
  {
   "cell_type": "code",
   "execution_count": 322,
   "metadata": {},
   "outputs": [
    {
     "data": {
      "text/plain": [
       "array([[  0, 116],\n",
       "       [  1,  96]])"
      ]
     },
     "execution_count": 322,
     "metadata": {},
     "output_type": "execute_result"
    }
   ],
   "source": [
    "y_freq = np.bincount(y_train)\n",
    "y_val = np.nonzero(y_freq)[0]\n",
    "np.vstack((y_val,y_freq[y_val])).T"
   ]
  },
  {
   "cell_type": "code",
   "execution_count": 323,
   "metadata": {},
   "outputs": [
    {
     "data": {
      "text/plain": [
       "0.09435642133159494"
      ]
     },
     "execution_count": 323,
     "metadata": {},
     "output_type": "execute_result"
    }
   ],
   "source": [
    "#Cross validation function\n",
    "from sklearn.cross_validation import cross_val_score\n",
    "scores = cross_val_score(clf, x_train , y_train, cv = 10, scoring='roc_auc')\n",
    "scores.mean()\n",
    "scores.std()\n"
   ]
  },
  {
   "cell_type": "code",
   "execution_count": 324,
   "metadata": {},
   "outputs": [
    {
     "data": {
      "text/plain": [
       "0.8181124281609196"
      ]
     },
     "execution_count": 324,
     "metadata": {},
     "output_type": "execute_result"
    }
   ],
   "source": [
    "y_train_prob = clf.predict_proba(x_train)\n",
    "fpr, tpr, thresholds = roc_curve(y_train, y_train_prob[:,1])\n",
    "auc(fpr, tpr)"
   ]
  },
  {
   "cell_type": "code",
   "execution_count": 325,
   "metadata": {},
   "outputs": [
    {
     "data": {
      "text/plain": [
       "0.7812499999999999"
      ]
     },
     "execution_count": 325,
     "metadata": {},
     "output_type": "execute_result"
    }
   ],
   "source": [
    "y_test_prob = clf.predict_proba(x_test)\n",
    "fpr, tpr, thresholds = roc_curve(y_test, y_test_prob[:,1])\n",
    "auc(fpr, tpr)"
   ]
  },
  {
   "cell_type": "code",
   "execution_count": 326,
   "metadata": {},
   "outputs": [
    {
     "name": "stderr",
     "output_type": "stream",
     "text": [
      "/Users/sanaam/anaconda3/lib/python3.6/site-packages/sklearn/grid_search.py:42: DeprecationWarning: This module was deprecated in version 0.18 in favor of the model_selection module into which all the refactored classes and functions are moved. This module will be removed in 0.20.\n",
      "  DeprecationWarning)\n"
     ]
    },
    {
     "name": "stdout",
     "output_type": "stream",
     "text": [
      "Help on class GridSearchCV in module sklearn.grid_search:\n",
      "\n",
      "class GridSearchCV(BaseSearchCV)\n",
      " |  Exhaustive search over specified parameter values for an estimator.\n",
      " |  \n",
      " |  .. deprecated:: 0.18\n",
      " |      This module will be removed in 0.20.\n",
      " |      Use :class:`sklearn.model_selection.GridSearchCV` instead.\n",
      " |  \n",
      " |  Important members are fit, predict.\n",
      " |  \n",
      " |  GridSearchCV implements a \"fit\" and a \"score\" method.\n",
      " |  It also implements \"predict\", \"predict_proba\", \"decision_function\",\n",
      " |  \"transform\" and \"inverse_transform\" if they are implemented in the\n",
      " |  estimator used.\n",
      " |  \n",
      " |  The parameters of the estimator used to apply these methods are optimized\n",
      " |  by cross-validated grid-search over a parameter grid.\n",
      " |  \n",
      " |  Read more in the :ref:`User Guide <grid_search>`.\n",
      " |  \n",
      " |  Parameters\n",
      " |  ----------\n",
      " |  estimator : estimator object.\n",
      " |      A object of that type is instantiated for each grid point.\n",
      " |      This is assumed to implement the scikit-learn estimator interface.\n",
      " |      Either estimator needs to provide a ``score`` function,\n",
      " |      or ``scoring`` must be passed.\n",
      " |  \n",
      " |  param_grid : dict or list of dictionaries\n",
      " |      Dictionary with parameters names (string) as keys and lists of\n",
      " |      parameter settings to try as values, or a list of such\n",
      " |      dictionaries, in which case the grids spanned by each dictionary\n",
      " |      in the list are explored. This enables searching over any sequence\n",
      " |      of parameter settings.\n",
      " |  \n",
      " |  scoring : string, callable or None, default=None\n",
      " |      A string (see model evaluation documentation) or\n",
      " |      a scorer callable object / function with signature\n",
      " |      ``scorer(estimator, X, y)``.\n",
      " |      If ``None``, the ``score`` method of the estimator is used.\n",
      " |  \n",
      " |  fit_params : dict, optional\n",
      " |      Parameters to pass to the fit method.\n",
      " |  \n",
      " |  n_jobs: int, default: 1 :\n",
      " |      The maximum number of estimators fit in parallel.\n",
      " |  \n",
      " |          - If -1 all CPUs are used.\n",
      " |  \n",
      " |          - If 1 is given, no parallel computing code is used at all,\n",
      " |            which is useful for debugging.\n",
      " |  \n",
      " |          - For ``n_jobs`` below -1, ``(n_cpus + n_jobs + 1)`` are used.\n",
      " |            For example, with ``n_jobs = -2`` all CPUs but one are used.\n",
      " |  \n",
      " |      .. versionchanged:: 0.17\n",
      " |         Upgraded to joblib 0.9.3.\n",
      " |  \n",
      " |  pre_dispatch : int, or string, optional\n",
      " |      Controls the number of jobs that get dispatched during parallel\n",
      " |      execution. Reducing this number can be useful to avoid an\n",
      " |      explosion of memory consumption when more jobs get dispatched\n",
      " |      than CPUs can process. This parameter can be:\n",
      " |  \n",
      " |          - None, in which case all the jobs are immediately\n",
      " |            created and spawned. Use this for lightweight and\n",
      " |            fast-running jobs, to avoid delays due to on-demand\n",
      " |            spawning of the jobs\n",
      " |  \n",
      " |          - An int, giving the exact number of total jobs that are\n",
      " |            spawned\n",
      " |  \n",
      " |          - A string, giving an expression as a function of n_jobs,\n",
      " |            as in '2*n_jobs'\n",
      " |  \n",
      " |  iid : boolean, default=True\n",
      " |      If True, the data is assumed to be identically distributed across\n",
      " |      the folds, and the loss minimized is the total loss per sample,\n",
      " |      and not the mean loss across the folds.\n",
      " |  \n",
      " |  cv : int, cross-validation generator or an iterable, optional\n",
      " |      Determines the cross-validation splitting strategy.\n",
      " |      Possible inputs for cv are:\n",
      " |  \n",
      " |      - None, to use the default 3-fold cross-validation,\n",
      " |      - integer, to specify the number of folds.\n",
      " |      - An object to be used as a cross-validation generator.\n",
      " |      - An iterable yielding train/test splits.\n",
      " |  \n",
      " |      For integer/None inputs, if the estimator is a classifier and ``y`` is\n",
      " |      either binary or multiclass,\n",
      " |      :class:`sklearn.model_selection.StratifiedKFold` is used. In all\n",
      " |      other cases, :class:`sklearn.model_selection.KFold` is used.\n",
      " |  \n",
      " |      Refer :ref:`User Guide <cross_validation>` for the various\n",
      " |      cross-validation strategies that can be used here.\n",
      " |  \n",
      " |  refit : boolean, default=True\n",
      " |      Refit the best estimator with the entire dataset.\n",
      " |      If \"False\", it is impossible to make predictions using\n",
      " |      this GridSearchCV instance after fitting.\n",
      " |  \n",
      " |  verbose : integer\n",
      " |      Controls the verbosity: the higher, the more messages.\n",
      " |  \n",
      " |  error_score : 'raise' (default) or numeric\n",
      " |      Value to assign to the score if an error occurs in estimator fitting.\n",
      " |      If set to 'raise', the error is raised. If a numeric value is given,\n",
      " |      FitFailedWarning is raised. This parameter does not affect the refit\n",
      " |      step, which will always raise the error.\n",
      " |  \n",
      " |  \n",
      " |  Examples\n",
      " |  --------\n",
      " |  >>> from sklearn import svm, grid_search, datasets\n",
      " |  >>> iris = datasets.load_iris()\n",
      " |  >>> parameters = {'kernel':('linear', 'rbf'), 'C':[1, 10]}\n",
      " |  >>> svr = svm.SVC()\n",
      " |  >>> clf = grid_search.GridSearchCV(svr, parameters)\n",
      " |  >>> clf.fit(iris.data, iris.target)\n",
      " |  ...                             # doctest: +NORMALIZE_WHITESPACE +ELLIPSIS\n",
      " |  GridSearchCV(cv=None, error_score=...,\n",
      " |         estimator=SVC(C=1.0, cache_size=..., class_weight=..., coef0=...,\n",
      " |                       decision_function_shape='ovr', degree=..., gamma=...,\n",
      " |                       kernel='rbf', max_iter=-1, probability=False,\n",
      " |                       random_state=None, shrinking=True, tol=...,\n",
      " |                       verbose=False),\n",
      " |         fit_params={}, iid=..., n_jobs=1,\n",
      " |         param_grid=..., pre_dispatch=..., refit=...,\n",
      " |         scoring=..., verbose=...)\n",
      " |  \n",
      " |  \n",
      " |  Attributes\n",
      " |  ----------\n",
      " |  grid_scores_ : list of named tuples\n",
      " |      Contains scores for all parameter combinations in param_grid.\n",
      " |      Each entry corresponds to one parameter setting.\n",
      " |      Each named tuple has the attributes:\n",
      " |  \n",
      " |          * ``parameters``, a dict of parameter settings\n",
      " |          * ``mean_validation_score``, the mean score over the\n",
      " |            cross-validation folds\n",
      " |          * ``cv_validation_scores``, the list of scores for each fold\n",
      " |  \n",
      " |  best_estimator_ : estimator\n",
      " |      Estimator that was chosen by the search, i.e. estimator\n",
      " |      which gave highest score (or smallest loss if specified)\n",
      " |      on the left out data. Not available if refit=False.\n",
      " |  \n",
      " |  best_score_ : float\n",
      " |      Score of best_estimator on the left out data.\n",
      " |  \n",
      " |  best_params_ : dict\n",
      " |      Parameter setting that gave the best results on the hold out data.\n",
      " |  \n",
      " |  scorer_ : function\n",
      " |      Scorer function used on the held out data to choose the best\n",
      " |      parameters for the model.\n",
      " |  \n",
      " |  Notes\n",
      " |  ------\n",
      " |  The parameters selected are those that maximize the score of the left out\n",
      " |  data, unless an explicit score is passed in which case it is used instead.\n",
      " |  \n",
      " |  If `n_jobs` was set to a value higher than one, the data is copied for each\n",
      " |  point in the grid (and not `n_jobs` times). This is done for efficiency\n",
      " |  reasons if individual jobs take very little time, but may raise errors if\n",
      " |  the dataset is large and not enough memory is available.  A workaround in\n",
      " |  this case is to set `pre_dispatch`. Then, the memory is copied only\n",
      " |  `pre_dispatch` many times. A reasonable value for `pre_dispatch` is `2 *\n",
      " |  n_jobs`.\n",
      " |  \n",
      " |  See Also\n",
      " |  ---------\n",
      " |  :class:`ParameterGrid`:\n",
      " |      generates all the combinations of a hyperparameter grid.\n",
      " |  \n",
      " |  :func:`sklearn.cross_validation.train_test_split`:\n",
      " |      utility function to split the data into a development set usable\n",
      " |      for fitting a GridSearchCV instance and an evaluation set for\n",
      " |      its final evaluation.\n",
      " |  \n",
      " |  :func:`sklearn.metrics.make_scorer`:\n",
      " |      Make a scorer from a performance metric or loss function.\n",
      " |  \n",
      " |  Method resolution order:\n",
      " |      GridSearchCV\n",
      " |      BaseSearchCV\n",
      " |      abc.NewBase\n",
      " |      sklearn.base.BaseEstimator\n",
      " |      sklearn.base.MetaEstimatorMixin\n",
      " |      builtins.object\n",
      " |  \n",
      " |  Methods defined here:\n",
      " |  \n",
      " |  __init__(self, estimator, param_grid, scoring=None, fit_params=None, n_jobs=1, iid=True, refit=True, cv=None, verbose=0, pre_dispatch='2*n_jobs', error_score='raise')\n",
      " |      Initialize self.  See help(type(self)) for accurate signature.\n",
      " |  \n",
      " |  fit(self, X, y=None)\n",
      " |      Run fit with all sets of parameters.\n",
      " |      \n",
      " |      Parameters\n",
      " |      ----------\n",
      " |      \n",
      " |      X : array-like, shape = [n_samples, n_features]\n",
      " |          Training vector, where n_samples is the number of samples and\n",
      " |          n_features is the number of features.\n",
      " |      \n",
      " |      y : array-like, shape = [n_samples] or [n_samples, n_output], optional\n",
      " |          Target relative to X for classification or regression;\n",
      " |          None for unsupervised learning.\n",
      " |  \n",
      " |  ----------------------------------------------------------------------\n",
      " |  Data and other attributes defined here:\n",
      " |  \n",
      " |  __abstractmethods__ = frozenset()\n",
      " |  \n",
      " |  ----------------------------------------------------------------------\n",
      " |  Methods inherited from BaseSearchCV:\n",
      " |  \n",
      " |  decision_function(self, X)\n",
      " |      Call decision_function on the estimator with the best found parameters.\n",
      " |      \n",
      " |      Only available if ``refit=True`` and the underlying estimator supports\n",
      " |      ``decision_function``.\n",
      " |      \n",
      " |      Parameters\n",
      " |      -----------\n",
      " |      X : indexable, length n_samples\n",
      " |          Must fulfill the input assumptions of the\n",
      " |          underlying estimator.\n",
      " |  \n",
      " |  inverse_transform(self, Xt)\n",
      " |      Call inverse_transform on the estimator with the best found parameters.\n",
      " |      \n",
      " |      Only available if the underlying estimator implements ``inverse_transform`` and\n",
      " |      ``refit=True``.\n",
      " |      \n",
      " |      Parameters\n",
      " |      -----------\n",
      " |      Xt : indexable, length n_samples\n",
      " |          Must fulfill the input assumptions of the\n",
      " |          underlying estimator.\n",
      " |  \n",
      " |  predict(self, X)\n",
      " |      Call predict on the estimator with the best found parameters.\n",
      " |      \n",
      " |      Only available if ``refit=True`` and the underlying estimator supports\n",
      " |      ``predict``.\n",
      " |      \n",
      " |      Parameters\n",
      " |      -----------\n",
      " |      X : indexable, length n_samples\n",
      " |          Must fulfill the input assumptions of the\n",
      " |          underlying estimator.\n",
      " |  \n",
      " |  predict_log_proba(self, X)\n",
      " |      Call predict_log_proba on the estimator with the best found parameters.\n",
      " |      \n",
      " |      Only available if ``refit=True`` and the underlying estimator supports\n",
      " |      ``predict_log_proba``.\n",
      " |      \n",
      " |      Parameters\n",
      " |      -----------\n",
      " |      X : indexable, length n_samples\n",
      " |          Must fulfill the input assumptions of the\n",
      " |          underlying estimator.\n",
      " |  \n",
      " |  predict_proba(self, X)\n",
      " |      Call predict_proba on the estimator with the best found parameters.\n",
      " |      \n",
      " |      Only available if ``refit=True`` and the underlying estimator supports\n",
      " |      ``predict_proba``.\n",
      " |      \n",
      " |      Parameters\n",
      " |      -----------\n",
      " |      X : indexable, length n_samples\n",
      " |          Must fulfill the input assumptions of the\n",
      " |          underlying estimator.\n",
      " |  \n",
      " |  score(self, X, y=None)\n",
      " |      Returns the score on the given data, if the estimator has been refit.\n",
      " |      \n",
      " |      This uses the score defined by ``scoring`` where provided, and the\n",
      " |      ``best_estimator_.score`` method otherwise.\n",
      " |      \n",
      " |      Parameters\n",
      " |      ----------\n",
      " |      X : array-like, shape = [n_samples, n_features]\n",
      " |          Input data, where n_samples is the number of samples and\n",
      " |          n_features is the number of features.\n",
      " |      \n",
      " |      y : array-like, shape = [n_samples] or [n_samples, n_output], optional\n",
      " |          Target relative to X for classification or regression;\n",
      " |          None for unsupervised learning.\n",
      " |      \n",
      " |      Returns\n",
      " |      -------\n",
      " |      score : float\n",
      " |      \n",
      " |      Notes\n",
      " |      -----\n",
      " |       * The long-standing behavior of this method changed in version 0.16.\n",
      " |       * It no longer uses the metric provided by ``estimator.score`` if the\n",
      " |         ``scoring`` parameter was set when fitting.\n",
      " |  \n",
      " |  transform(self, X)\n",
      " |      Call transform on the estimator with the best found parameters.\n",
      " |      \n",
      " |      Only available if the underlying estimator supports ``transform`` and\n",
      " |      ``refit=True``.\n",
      " |      \n",
      " |      Parameters\n",
      " |      -----------\n",
      " |      X : indexable, length n_samples\n",
      " |          Must fulfill the input assumptions of the\n",
      " |          underlying estimator.\n",
      " |  \n",
      " |  ----------------------------------------------------------------------\n",
      " |  Data descriptors inherited from BaseSearchCV:\n",
      " |  \n",
      " |  classes_\n",
      " |  \n",
      " |  ----------------------------------------------------------------------\n",
      " |  Methods inherited from sklearn.base.BaseEstimator:\n",
      " |  \n",
      " |  __getstate__(self)\n",
      " |  \n",
      " |  __repr__(self)\n",
      " |      Return repr(self).\n",
      " |  \n",
      " |  __setstate__(self, state)\n",
      " |  \n",
      " |  get_params(self, deep=True)\n",
      " |      Get parameters for this estimator.\n",
      " |      \n",
      " |      Parameters\n",
      " |      ----------\n",
      " |      deep : boolean, optional\n",
      " |          If True, will return the parameters for this estimator and\n",
      " |          contained subobjects that are estimators.\n",
      " |      \n",
      " |      Returns\n",
      " |      -------\n",
      " |      params : mapping of string to any\n",
      " |          Parameter names mapped to their values.\n",
      " |  \n",
      " |  set_params(self, **params)\n",
      " |      Set the parameters of this estimator.\n",
      " |      \n",
      " |      The method works on simple estimators as well as on nested objects\n",
      " |      (such as pipelines). The latter have parameters of the form\n",
      " |      ``<component>__<parameter>`` so that it's possible to update each\n",
      " |      component of a nested object.\n",
      " |      \n",
      " |      Returns\n",
      " |      -------\n",
      " |      self\n",
      " |  \n",
      " |  ----------------------------------------------------------------------\n",
      " |  Data descriptors inherited from sklearn.base.BaseEstimator:\n",
      " |  \n",
      " |  __dict__\n",
      " |      dictionary for instance variables (if defined)\n",
      " |  \n",
      " |  __weakref__\n",
      " |      list of weak references to the object (if defined)\n",
      "\n",
      "Fitting 10 folds for each of 14 candidates, totalling 140 fits\n",
      "[CV] criterion=gini, max_depth=3 .....................................\n",
      "[CV] ............ criterion=gini, max_depth=3, score=0.820833 -   0.0s\n",
      "[Parallel(n_jobs=1)]: Done   1 out of   1 | elapsed:    0.0s remaining:    0.0s\n",
      "[CV] criterion=gini, max_depth=3 .....................................\n",
      "[CV] ............ criterion=gini, max_depth=3, score=0.875000 -   0.0s\n",
      "[Parallel(n_jobs=1)]: Done   2 out of   2 | elapsed:    0.0s remaining:    0.0s\n",
      "[CV] criterion=gini, max_depth=3 .....................................\n",
      "[CV] ............ criterion=gini, max_depth=3, score=0.841667 -   0.0s\n",
      "[Parallel(n_jobs=1)]: Done   3 out of   3 | elapsed:    0.0s remaining:    0.0s\n",
      "[CV] criterion=gini, max_depth=3 .....................................\n",
      "[CV] ............ criterion=gini, max_depth=3, score=0.787500 -   0.0s\n",
      "[Parallel(n_jobs=1)]: Done   4 out of   4 | elapsed:    0.0s remaining:    0.0s\n",
      "[CV] criterion=gini, max_depth=3 .....................................\n",
      "[CV] ............ criterion=gini, max_depth=3, score=0.766667 -   0.0s\n",
      "[Parallel(n_jobs=1)]: Done   5 out of   5 | elapsed:    0.0s remaining:    0.0s\n",
      "[CV] criterion=gini, max_depth=3 .....................................\n",
      "[CV] ............ criterion=gini, max_depth=3, score=0.816667 -   0.0s\n",
      "[Parallel(n_jobs=1)]: Done   6 out of   6 | elapsed:    0.1s remaining:    0.0s\n",
      "[CV] criterion=gini, max_depth=3 .....................................\n",
      "[CV] ............ criterion=gini, max_depth=3, score=0.646465 -   0.0s\n",
      "[Parallel(n_jobs=1)]: Done   7 out of   7 | elapsed:    0.1s remaining:    0.0s\n",
      "[CV] criterion=gini, max_depth=3 .....................................\n",
      "[CV] ............ criterion=gini, max_depth=3, score=0.787879 -   0.0s\n",
      "[Parallel(n_jobs=1)]: Done   8 out of   8 | elapsed:    0.1s remaining:    0.0s\n",
      "[CV] criterion=gini, max_depth=3 .....................................\n",
      "[CV] ............ criterion=gini, max_depth=3, score=0.606061 -   0.0s\n",
      "[Parallel(n_jobs=1)]: Done   9 out of   9 | elapsed:    0.1s remaining:    0.0s\n",
      "[CV] criterion=gini, max_depth=3 .....................................\n",
      "[CV] ............ criterion=gini, max_depth=3, score=0.601010 -   0.0s\n",
      "[Parallel(n_jobs=1)]: Done  10 out of  10 | elapsed:    0.1s remaining:    0.0s\n",
      "[CV] criterion=gini, max_depth=4 .....................................\n",
      "[CV] ............ criterion=gini, max_depth=4, score=0.820833 -   0.0s\n",
      "[Parallel(n_jobs=1)]: Done  11 out of  11 | elapsed:    0.1s remaining:    0.0s\n",
      "[CV] criterion=gini, max_depth=4 .....................................\n",
      "[CV] ............ criterion=gini, max_depth=4, score=0.875000 -   0.0s\n",
      "[Parallel(n_jobs=1)]: Done  12 out of  12 | elapsed:    0.1s remaining:    0.0s\n",
      "[CV] criterion=gini, max_depth=4 .....................................\n",
      "[CV] ............ criterion=gini, max_depth=4, score=0.841667 -   0.0s\n",
      "[Parallel(n_jobs=1)]: Done  13 out of  13 | elapsed:    0.1s remaining:    0.0s\n",
      "[CV] criterion=gini, max_depth=4 .....................................\n",
      "[CV] ............ criterion=gini, max_depth=4, score=0.787500 -   0.0s\n",
      "[Parallel(n_jobs=1)]: Done  14 out of  14 | elapsed:    0.1s remaining:    0.0s\n",
      "[CV] criterion=gini, max_depth=4 .....................................\n",
      "[CV] ............ criterion=gini, max_depth=4, score=0.766667 -   0.0s\n",
      "[Parallel(n_jobs=1)]: Done  15 out of  15 | elapsed:    0.1s remaining:    0.0s\n",
      "[CV] criterion=gini, max_depth=4 .....................................\n",
      "[CV] ............ criterion=gini, max_depth=4, score=0.808333 -   0.0s\n",
      "[Parallel(n_jobs=1)]: Done  16 out of  16 | elapsed:    0.1s remaining:    0.0s\n",
      "[CV] criterion=gini, max_depth=4 .....................................\n",
      "[CV] ............ criterion=gini, max_depth=4, score=0.646465 -   0.0s\n",
      "[Parallel(n_jobs=1)]: Done  17 out of  17 | elapsed:    0.1s remaining:    0.0s\n",
      "[CV] criterion=gini, max_depth=4 .....................................\n",
      "[CV] ............ criterion=gini, max_depth=4, score=0.787879 -   0.0s\n",
      "[Parallel(n_jobs=1)]: Done  18 out of  18 | elapsed:    0.1s remaining:    0.0s\n",
      "[CV] criterion=gini, max_depth=4 .....................................\n",
      "[CV] ............ criterion=gini, max_depth=4, score=0.606061 -   0.0s\n",
      "[Parallel(n_jobs=1)]: Done  19 out of  19 | elapsed:    0.1s remaining:    0.0s\n",
      "[CV] criterion=gini, max_depth=4 .....................................\n",
      "[CV] ............ criterion=gini, max_depth=4, score=0.601010 -   0.0s\n",
      "[Parallel(n_jobs=1)]: Done  20 out of  20 | elapsed:    0.1s remaining:    0.0s\n",
      "[CV] criterion=gini, max_depth=5 .....................................\n",
      "[CV] ............ criterion=gini, max_depth=5, score=0.820833 -   0.0s\n",
      "[Parallel(n_jobs=1)]: Done  21 out of  21 | elapsed:    0.1s remaining:    0.0s\n",
      "[CV] criterion=gini, max_depth=5 .....................................\n",
      "[CV] ............ criterion=gini, max_depth=5, score=0.875000 -   0.0s\n",
      "[Parallel(n_jobs=1)]: Done  22 out of  22 | elapsed:    0.1s remaining:    0.0s\n",
      "[CV] criterion=gini, max_depth=5 .....................................\n",
      "[CV] ............ criterion=gini, max_depth=5, score=0.841667 -   0.0s\n",
      "[Parallel(n_jobs=1)]: Done  23 out of  23 | elapsed:    0.2s remaining:    0.0s\n",
      "[CV] criterion=gini, max_depth=5 .....................................\n",
      "[CV] ............ criterion=gini, max_depth=5, score=0.787500 -   0.0s\n",
      "[Parallel(n_jobs=1)]: Done  24 out of  24 | elapsed:    0.2s remaining:    0.0s\n",
      "[CV] criterion=gini, max_depth=5 .....................................\n",
      "[CV] ............ criterion=gini, max_depth=5, score=0.766667 -   0.0s\n",
      "[Parallel(n_jobs=1)]: Done  25 out of  25 | elapsed:    0.2s remaining:    0.0s\n",
      "[CV] criterion=gini, max_depth=5 .....................................\n",
      "[CV] ............ criterion=gini, max_depth=5, score=0.816667 -   0.0s\n",
      "[Parallel(n_jobs=1)]: Done  26 out of  26 | elapsed:    0.2s remaining:    0.0s\n",
      "[CV] criterion=gini, max_depth=5 .....................................\n",
      "[CV] ............ criterion=gini, max_depth=5, score=0.646465 -   0.0s\n",
      "[Parallel(n_jobs=1)]: Done  27 out of  27 | elapsed:    0.2s remaining:    0.0s\n",
      "[CV] criterion=gini, max_depth=5 .....................................\n",
      "[CV] ............ criterion=gini, max_depth=5, score=0.787879 -   0.0s\n",
      "[Parallel(n_jobs=1)]: Done  28 out of  28 | elapsed:    0.2s remaining:    0.0s\n",
      "[CV] criterion=gini, max_depth=5 .....................................\n",
      "[CV] ............ criterion=gini, max_depth=5, score=0.606061 -   0.0s\n",
      "[Parallel(n_jobs=1)]: Done  29 out of  29 | elapsed:    0.2s remaining:    0.0s\n",
      "[CV] criterion=gini, max_depth=5 .....................................\n",
      "[CV] ............ criterion=gini, max_depth=5, score=0.601010 -   0.0s\n",
      "[Parallel(n_jobs=1)]: Done  30 out of  30 | elapsed:    0.2s remaining:    0.0s\n",
      "[CV] criterion=gini, max_depth=6 .....................................\n"
     ]
    },
    {
     "name": "stdout",
     "output_type": "stream",
     "text": [
      "[CV] ............ criterion=gini, max_depth=6, score=0.820833 -   0.0s\n",
      "[Parallel(n_jobs=1)]: Done  31 out of  31 | elapsed:    0.2s remaining:    0.0s\n",
      "[CV] criterion=gini, max_depth=6 .....................................\n",
      "[CV] ............ criterion=gini, max_depth=6, score=0.875000 -   0.0s\n",
      "[Parallel(n_jobs=1)]: Done  32 out of  32 | elapsed:    0.2s remaining:    0.0s\n",
      "[CV] criterion=gini, max_depth=6 .....................................\n",
      "[CV] ............ criterion=gini, max_depth=6, score=0.841667 -   0.0s\n",
      "[Parallel(n_jobs=1)]: Done  33 out of  33 | elapsed:    0.2s remaining:    0.0s\n",
      "[CV] criterion=gini, max_depth=6 .....................................\n",
      "[CV] ............ criterion=gini, max_depth=6, score=0.787500 -   0.0s\n",
      "[Parallel(n_jobs=1)]: Done  34 out of  34 | elapsed:    0.2s remaining:    0.0s\n",
      "[CV] criterion=gini, max_depth=6 .....................................\n",
      "[CV] ............ criterion=gini, max_depth=6, score=0.766667 -   0.0s\n",
      "[Parallel(n_jobs=1)]: Done  35 out of  35 | elapsed:    0.2s remaining:    0.0s\n",
      "[CV] criterion=gini, max_depth=6 .....................................\n",
      "[CV] ............ criterion=gini, max_depth=6, score=0.816667 -   0.0s\n",
      "[Parallel(n_jobs=1)]: Done  36 out of  36 | elapsed:    0.2s remaining:    0.0s\n",
      "[CV] criterion=gini, max_depth=6 .....................................\n",
      "[CV] ............ criterion=gini, max_depth=6, score=0.646465 -   0.0s\n",
      "[Parallel(n_jobs=1)]: Done  37 out of  37 | elapsed:    0.2s remaining:    0.0s\n",
      "[CV] criterion=gini, max_depth=6 .....................................\n",
      "[CV] ............ criterion=gini, max_depth=6, score=0.787879 -   0.0s\n",
      "[Parallel(n_jobs=1)]: Done  38 out of  38 | elapsed:    0.3s remaining:    0.0s\n",
      "[CV] criterion=gini, max_depth=6 .....................................\n",
      "[CV] ............ criterion=gini, max_depth=6, score=0.606061 -   0.0s\n",
      "[Parallel(n_jobs=1)]: Done  39 out of  39 | elapsed:    0.3s remaining:    0.0s\n",
      "[CV] criterion=gini, max_depth=6 .....................................\n",
      "[CV] ............ criterion=gini, max_depth=6, score=0.601010 -   0.0s\n",
      "[Parallel(n_jobs=1)]: Done  40 out of  40 | elapsed:    0.3s remaining:    0.0s\n",
      "[CV] criterion=gini, max_depth=7 .....................................\n",
      "[CV] ............ criterion=gini, max_depth=7, score=0.820833 -   0.0s\n",
      "[Parallel(n_jobs=1)]: Done  41 out of  41 | elapsed:    0.3s remaining:    0.0s\n",
      "[CV] criterion=gini, max_depth=7 .....................................\n",
      "[CV] ............ criterion=gini, max_depth=7, score=0.875000 -   0.0s\n",
      "[Parallel(n_jobs=1)]: Done  42 out of  42 | elapsed:    0.3s remaining:    0.0s\n",
      "[CV] criterion=gini, max_depth=7 .....................................\n",
      "[CV] ............ criterion=gini, max_depth=7, score=0.841667 -   0.0s\n",
      "[Parallel(n_jobs=1)]: Done  43 out of  43 | elapsed:    0.3s remaining:    0.0s\n",
      "[CV] criterion=gini, max_depth=7 .....................................\n",
      "[CV] ............ criterion=gini, max_depth=7, score=0.787500 -   0.0s\n",
      "[Parallel(n_jobs=1)]: Done  44 out of  44 | elapsed:    0.3s remaining:    0.0s\n",
      "[CV] criterion=gini, max_depth=7 .....................................\n",
      "[CV] ............ criterion=gini, max_depth=7, score=0.766667 -   0.0s\n",
      "[Parallel(n_jobs=1)]: Done  45 out of  45 | elapsed:    0.3s remaining:    0.0s\n",
      "[CV] criterion=gini, max_depth=7 .....................................\n",
      "[CV] ............ criterion=gini, max_depth=7, score=0.808333 -   0.0s\n",
      "[Parallel(n_jobs=1)]: Done  46 out of  46 | elapsed:    0.3s remaining:    0.0s\n",
      "[CV] criterion=gini, max_depth=7 .....................................\n",
      "[CV] ............ criterion=gini, max_depth=7, score=0.646465 -   0.0s\n",
      "[Parallel(n_jobs=1)]: Done  47 out of  47 | elapsed:    0.3s remaining:    0.0s\n",
      "[CV] criterion=gini, max_depth=7 .....................................\n",
      "[CV] ............ criterion=gini, max_depth=7, score=0.787879 -   0.0s\n",
      "[Parallel(n_jobs=1)]: Done  48 out of  48 | elapsed:    0.3s remaining:    0.0s\n",
      "[CV] criterion=gini, max_depth=7 .....................................\n",
      "[CV] ............ criterion=gini, max_depth=7, score=0.606061 -   0.0s\n",
      "[Parallel(n_jobs=1)]: Done  49 out of  49 | elapsed:    0.3s remaining:    0.0s\n",
      "[CV] criterion=gini, max_depth=7 .....................................\n",
      "[CV] ............ criterion=gini, max_depth=7, score=0.601010 -   0.0s\n",
      "[Parallel(n_jobs=1)]: Done  50 out of  50 | elapsed:    0.3s remaining:    0.0s\n",
      "[CV] criterion=gini, max_depth=8 .....................................\n",
      "[CV] ............ criterion=gini, max_depth=8, score=0.820833 -   0.0s\n",
      "[Parallel(n_jobs=1)]: Done  51 out of  51 | elapsed:    0.3s remaining:    0.0s\n",
      "[CV] criterion=gini, max_depth=8 .....................................\n",
      "[CV] ............ criterion=gini, max_depth=8, score=0.875000 -   0.0s\n",
      "[Parallel(n_jobs=1)]: Done  52 out of  52 | elapsed:    0.3s remaining:    0.0s\n",
      "[CV] criterion=gini, max_depth=8 .....................................\n",
      "[CV] ............ criterion=gini, max_depth=8, score=0.841667 -   0.0s\n",
      "[Parallel(n_jobs=1)]: Done  53 out of  53 | elapsed:    0.3s remaining:    0.0s\n",
      "[CV] criterion=gini, max_depth=8 .....................................\n",
      "[CV] ............ criterion=gini, max_depth=8, score=0.787500 -   0.0s\n",
      "[Parallel(n_jobs=1)]: Done  54 out of  54 | elapsed:    0.4s remaining:    0.0s\n",
      "[CV] criterion=gini, max_depth=8 .....................................\n",
      "[CV] ............ criterion=gini, max_depth=8, score=0.766667 -   0.0s\n",
      "[Parallel(n_jobs=1)]: Done  55 out of  55 | elapsed:    0.4s remaining:    0.0s\n",
      "[CV] criterion=gini, max_depth=8 .....................................\n",
      "[CV] ............ criterion=gini, max_depth=8, score=0.808333 -   0.0s\n",
      "[Parallel(n_jobs=1)]: Done  56 out of  56 | elapsed:    0.4s remaining:    0.0s\n",
      "[CV] criterion=gini, max_depth=8 .....................................\n",
      "[CV] ............ criterion=gini, max_depth=8, score=0.646465 -   0.0s\n",
      "[Parallel(n_jobs=1)]: Done  57 out of  57 | elapsed:    0.4s remaining:    0.0s\n",
      "[CV] criterion=gini, max_depth=8 .....................................\n",
      "[CV] ............ criterion=gini, max_depth=8, score=0.787879 -   0.0s\n",
      "[Parallel(n_jobs=1)]: Done  58 out of  58 | elapsed:    0.4s remaining:    0.0s\n",
      "[CV] criterion=gini, max_depth=8 .....................................\n",
      "[CV] ............ criterion=gini, max_depth=8, score=0.606061 -   0.0s\n",
      "[Parallel(n_jobs=1)]: Done  59 out of  59 | elapsed:    0.4s remaining:    0.0s\n",
      "[CV] criterion=gini, max_depth=8 .....................................\n",
      "[CV] ............ criterion=gini, max_depth=8, score=0.601010 -   0.0s\n",
      "[Parallel(n_jobs=1)]: Done  60 out of  60 | elapsed:    0.4s remaining:    0.0s\n",
      "[CV] criterion=gini, max_depth=9 .....................................\n",
      "[CV] ............ criterion=gini, max_depth=9, score=0.820833 -   0.0s\n",
      "[Parallel(n_jobs=1)]: Done  61 out of  61 | elapsed:    0.4s remaining:    0.0s\n",
      "[CV] criterion=gini, max_depth=9 .....................................\n",
      "[CV] ............ criterion=gini, max_depth=9, score=0.875000 -   0.0s\n",
      "[Parallel(n_jobs=1)]: Done  62 out of  62 | elapsed:    0.4s remaining:    0.0s\n",
      "[CV] criterion=gini, max_depth=9 .....................................\n",
      "[CV] ............ criterion=gini, max_depth=9, score=0.841667 -   0.0s\n",
      "[Parallel(n_jobs=1)]: Done  63 out of  63 | elapsed:    0.4s remaining:    0.0s\n",
      "[CV] criterion=gini, max_depth=9 .....................................\n",
      "[CV] ............ criterion=gini, max_depth=9, score=0.787500 -   0.0s\n",
      "[Parallel(n_jobs=1)]: Done  64 out of  64 | elapsed:    0.4s remaining:    0.0s\n",
      "[CV] criterion=gini, max_depth=9 .....................................\n",
      "[CV] ............ criterion=gini, max_depth=9, score=0.766667 -   0.0s\n",
      "[Parallel(n_jobs=1)]: Done  65 out of  65 | elapsed:    0.4s remaining:    0.0s\n",
      "[CV] criterion=gini, max_depth=9 .....................................\n",
      "[CV] ............ criterion=gini, max_depth=9, score=0.816667 -   0.0s\n",
      "[Parallel(n_jobs=1)]: Done  66 out of  66 | elapsed:    0.4s remaining:    0.0s\n",
      "[CV] criterion=gini, max_depth=9 .....................................\n",
      "[CV] ............ criterion=gini, max_depth=9, score=0.646465 -   0.0s\n",
      "[Parallel(n_jobs=1)]: Done  67 out of  67 | elapsed:    0.4s remaining:    0.0s\n",
      "[CV] criterion=gini, max_depth=9 .....................................\n",
      "[CV] ............ criterion=gini, max_depth=9, score=0.787879 -   0.0s\n",
      "[Parallel(n_jobs=1)]: Done  68 out of  68 | elapsed:    0.4s remaining:    0.0s\n",
      "[CV] criterion=gini, max_depth=9 .....................................\n",
      "[CV] ............ criterion=gini, max_depth=9, score=0.606061 -   0.0s\n",
      "[Parallel(n_jobs=1)]: Done  69 out of  69 | elapsed:    0.4s remaining:    0.0s\n",
      "[CV] criterion=gini, max_depth=9 .....................................\n",
      "[CV] ............ criterion=gini, max_depth=9, score=0.601010 -   0.0s\n",
      "[Parallel(n_jobs=1)]: Done  70 out of  70 | elapsed:    0.5s remaining:    0.0s\n",
      "[CV] criterion=entropy, max_depth=3 ..................................\n",
      "[CV] ......... criterion=entropy, max_depth=3, score=0.825000 -   0.0s\n",
      "[Parallel(n_jobs=1)]: Done  71 out of  71 | elapsed:    0.5s remaining:    0.0s\n",
      "[CV] criterion=entropy, max_depth=3 ..................................\n",
      "[CV] ......... criterion=entropy, max_depth=3, score=0.875000 -   0.0s\n",
      "[Parallel(n_jobs=1)]: Done  72 out of  72 | elapsed:    0.5s remaining:    0.0s\n",
      "[CV] criterion=entropy, max_depth=3 ..................................\n",
      "[CV] ......... criterion=entropy, max_depth=3, score=0.908333 -   0.0s\n",
      "[Parallel(n_jobs=1)]: Done  73 out of  73 | elapsed:    0.5s remaining:    0.0s\n",
      "[CV] criterion=entropy, max_depth=3 ..................................\n",
      "[CV] ......... criterion=entropy, max_depth=3, score=0.845833 -   0.0s\n",
      "[Parallel(n_jobs=1)]: Done  74 out of  74 | elapsed:    0.5s remaining:    0.0s\n",
      "[CV] criterion=entropy, max_depth=3 ..................................\n",
      "[CV] ......... criterion=entropy, max_depth=3, score=0.808333 -   0.0s\n",
      "[Parallel(n_jobs=1)]: Done  75 out of  75 | elapsed:    0.5s remaining:    0.0s\n",
      "[CV] criterion=entropy, max_depth=3 ..................................\n",
      "[CV] ......... criterion=entropy, max_depth=3, score=0.858333 -   0.0s\n",
      "[Parallel(n_jobs=1)]: Done  76 out of  76 | elapsed:    0.5s remaining:    0.0s\n",
      "[CV] criterion=entropy, max_depth=3 ..................................\n",
      "[CV] ......... criterion=entropy, max_depth=3, score=0.661616 -   0.0s\n",
      "[Parallel(n_jobs=1)]: Done  77 out of  77 | elapsed:    0.5s remaining:    0.0s\n",
      "[CV] criterion=entropy, max_depth=3 ..................................\n",
      "[CV] ......... criterion=entropy, max_depth=3, score=0.803030 -   0.0s\n",
      "[Parallel(n_jobs=1)]: Done  78 out of  78 | elapsed:    0.5s remaining:    0.0s\n",
      "[CV] criterion=entropy, max_depth=3 ..................................\n",
      "[CV] ......... criterion=entropy, max_depth=3, score=0.636364 -   0.0s\n",
      "[Parallel(n_jobs=1)]: Done  79 out of  79 | elapsed:    0.5s remaining:    0.0s\n",
      "[CV] criterion=entropy, max_depth=3 ..................................\n",
      "[CV] ......... criterion=entropy, max_depth=3, score=0.601010 -   0.0s\n",
      "[Parallel(n_jobs=1)]: Done  80 out of  80 | elapsed:    0.5s remaining:    0.0s\n",
      "[CV] criterion=entropy, max_depth=4 ..................................\n",
      "[CV] ......... criterion=entropy, max_depth=4, score=0.825000 -   0.0s\n",
      "[Parallel(n_jobs=1)]: Done  81 out of  81 | elapsed:    0.5s remaining:    0.0s\n",
      "[CV] criterion=entropy, max_depth=4 ..................................\n",
      "[CV] ......... criterion=entropy, max_depth=4, score=0.875000 -   0.0s\n",
      "[Parallel(n_jobs=1)]: Done  82 out of  82 | elapsed:    0.5s remaining:    0.0s\n",
      "[CV] criterion=entropy, max_depth=4 ..................................\n",
      "[CV] ......... criterion=entropy, max_depth=4, score=0.908333 -   0.0s\n",
      "[Parallel(n_jobs=1)]: Done  83 out of  83 | elapsed:    0.5s remaining:    0.0s\n",
      "[CV] criterion=entropy, max_depth=4 ..................................\n",
      "[CV] ......... criterion=entropy, max_depth=4, score=0.845833 -   0.0s\n",
      "[Parallel(n_jobs=1)]: Done  84 out of  84 | elapsed:    0.5s remaining:    0.0s\n",
      "[CV] criterion=entropy, max_depth=4 ..................................\n",
      "[CV] ......... criterion=entropy, max_depth=4, score=0.808333 -   0.0s\n",
      "[Parallel(n_jobs=1)]: Done  85 out of  85 | elapsed:    0.5s remaining:    0.0s\n",
      "[CV] criterion=entropy, max_depth=4 ..................................\n",
      "[CV] ......... criterion=entropy, max_depth=4, score=0.858333 -   0.0s\n",
      "[Parallel(n_jobs=1)]: Done  86 out of  86 | elapsed:    0.5s remaining:    0.0s\n",
      "[CV] criterion=entropy, max_depth=4 ..................................\n",
      "[CV] ......... criterion=entropy, max_depth=4, score=0.661616 -   0.0s\n",
      "[Parallel(n_jobs=1)]: Done  87 out of  87 | elapsed:    0.6s remaining:    0.0s\n",
      "[CV] criterion=entropy, max_depth=4 ..................................\n",
      "[CV] ......... criterion=entropy, max_depth=4, score=0.803030 -   0.0s\n",
      "[Parallel(n_jobs=1)]: Done  88 out of  88 | elapsed:    0.6s remaining:    0.0s\n",
      "[CV] criterion=entropy, max_depth=4 ..................................\n",
      "[CV] ......... criterion=entropy, max_depth=4, score=0.636364 -   0.0s\n",
      "[Parallel(n_jobs=1)]: Done  89 out of  89 | elapsed:    0.6s remaining:    0.0s\n",
      "[CV] criterion=entropy, max_depth=4 ..................................\n",
      "[CV] ......... criterion=entropy, max_depth=4, score=0.601010 -   0.0s\n",
      "[Parallel(n_jobs=1)]: Done  90 out of  90 | elapsed:    0.6s remaining:    0.0s\n",
      "[CV] criterion=entropy, max_depth=5 ..................................\n",
      "[CV] ......... criterion=entropy, max_depth=5, score=0.825000 -   0.0s\n",
      "[Parallel(n_jobs=1)]: Done  91 out of  91 | elapsed:    0.6s remaining:    0.0s\n",
      "[CV] criterion=entropy, max_depth=5 ..................................\n",
      "[CV] ......... criterion=entropy, max_depth=5, score=0.875000 -   0.0s\n",
      "[Parallel(n_jobs=1)]: Done  92 out of  92 | elapsed:    0.6s remaining:    0.0s\n",
      "[CV] criterion=entropy, max_depth=5 ..................................\n",
      "[CV] ......... criterion=entropy, max_depth=5, score=0.908333 -   0.0s\n",
      "[Parallel(n_jobs=1)]: Done  93 out of  93 | elapsed:    0.6s remaining:    0.0s\n",
      "[CV] criterion=entropy, max_depth=5 ..................................\n",
      "[CV] ......... criterion=entropy, max_depth=5, score=0.845833 -   0.0s\n",
      "[Parallel(n_jobs=1)]: Done  94 out of  94 | elapsed:    0.6s remaining:    0.0s\n",
      "[CV] criterion=entropy, max_depth=5 ..................................\n",
      "[CV] ......... criterion=entropy, max_depth=5, score=0.808333 -   0.0s\n",
      "[Parallel(n_jobs=1)]: Done  95 out of  95 | elapsed:    0.6s remaining:    0.0s\n",
      "[CV] criterion=entropy, max_depth=5 ..................................\n"
     ]
    },
    {
     "name": "stdout",
     "output_type": "stream",
     "text": [
      "[CV] ......... criterion=entropy, max_depth=5, score=0.858333 -   0.0s\n",
      "[Parallel(n_jobs=1)]: Done  96 out of  96 | elapsed:    0.6s remaining:    0.0s\n",
      "[CV] criterion=entropy, max_depth=5 ..................................\n",
      "[CV] ......... criterion=entropy, max_depth=5, score=0.661616 -   0.0s\n",
      "[Parallel(n_jobs=1)]: Done  97 out of  97 | elapsed:    0.6s remaining:    0.0s\n",
      "[CV] criterion=entropy, max_depth=5 ..................................\n",
      "[CV] ......... criterion=entropy, max_depth=5, score=0.803030 -   0.0s\n",
      "[Parallel(n_jobs=1)]: Done  98 out of  98 | elapsed:    0.6s remaining:    0.0s\n",
      "[CV] criterion=entropy, max_depth=5 ..................................\n",
      "[CV] ......... criterion=entropy, max_depth=5, score=0.636364 -   0.0s\n",
      "[Parallel(n_jobs=1)]: Done  99 out of  99 | elapsed:    0.6s remaining:    0.0s\n",
      "[CV] criterion=entropy, max_depth=5 ..................................\n",
      "[CV] ......... criterion=entropy, max_depth=5, score=0.601010 -   0.0s\n",
      "[CV] criterion=entropy, max_depth=6 ..................................\n",
      "[CV] ......... criterion=entropy, max_depth=6, score=0.825000 -   0.0s\n",
      "[CV] criterion=entropy, max_depth=6 ..................................\n",
      "[CV] ......... criterion=entropy, max_depth=6, score=0.875000 -   0.0s\n",
      "[CV] criterion=entropy, max_depth=6 ..................................\n",
      "[CV] ......... criterion=entropy, max_depth=6, score=0.908333 -   0.0s\n",
      "[CV] criterion=entropy, max_depth=6 ..................................\n",
      "[CV] ......... criterion=entropy, max_depth=6, score=0.845833 -   0.0s\n",
      "[CV] criterion=entropy, max_depth=6 ..................................\n",
      "[CV] ......... criterion=entropy, max_depth=6, score=0.808333 -   0.0s\n",
      "[CV] criterion=entropy, max_depth=6 ..................................\n",
      "[CV] ......... criterion=entropy, max_depth=6, score=0.858333 -   0.0s\n",
      "[CV] criterion=entropy, max_depth=6 ..................................\n",
      "[CV] ......... criterion=entropy, max_depth=6, score=0.661616 -   0.0s\n",
      "[CV] criterion=entropy, max_depth=6 ..................................\n",
      "[CV] ......... criterion=entropy, max_depth=6, score=0.803030 -   0.0s\n",
      "[CV] criterion=entropy, max_depth=6 ..................................\n",
      "[CV] ......... criterion=entropy, max_depth=6, score=0.636364 -   0.0s\n",
      "[CV] criterion=entropy, max_depth=6 ..................................\n",
      "[CV] ......... criterion=entropy, max_depth=6, score=0.601010 -   0.0s\n",
      "[CV] criterion=entropy, max_depth=7 ..................................\n",
      "[CV] ......... criterion=entropy, max_depth=7, score=0.825000 -   0.0s\n",
      "[CV] criterion=entropy, max_depth=7 ..................................\n",
      "[CV] ......... criterion=entropy, max_depth=7, score=0.875000 -   0.0s\n",
      "[CV] criterion=entropy, max_depth=7 ..................................\n",
      "[CV] ......... criterion=entropy, max_depth=7, score=0.908333 -   0.0s\n",
      "[CV] criterion=entropy, max_depth=7 ..................................\n",
      "[CV] ......... criterion=entropy, max_depth=7, score=0.845833 -   0.0s\n",
      "[CV] criterion=entropy, max_depth=7 ..................................\n",
      "[CV] ......... criterion=entropy, max_depth=7, score=0.808333 -   0.0s\n",
      "[CV] criterion=entropy, max_depth=7 ..................................\n",
      "[CV] ......... criterion=entropy, max_depth=7, score=0.858333 -   0.0s\n",
      "[CV] criterion=entropy, max_depth=7 ..................................\n",
      "[CV] ......... criterion=entropy, max_depth=7, score=0.661616 -   0.0s\n",
      "[CV] criterion=entropy, max_depth=7 ..................................\n",
      "[CV] ......... criterion=entropy, max_depth=7, score=0.803030 -   0.0s\n",
      "[CV] criterion=entropy, max_depth=7 ..................................\n",
      "[CV] ......... criterion=entropy, max_depth=7, score=0.636364 -   0.0s\n",
      "[CV] criterion=entropy, max_depth=7 ..................................\n",
      "[CV] ......... criterion=entropy, max_depth=7, score=0.601010 -   0.0s\n",
      "[CV] criterion=entropy, max_depth=8 ..................................\n",
      "[CV] ......... criterion=entropy, max_depth=8, score=0.825000 -   0.0s\n",
      "[CV] criterion=entropy, max_depth=8 ..................................\n",
      "[CV] ......... criterion=entropy, max_depth=8, score=0.875000 -   0.0s\n",
      "[CV] criterion=entropy, max_depth=8 ..................................\n",
      "[CV] ......... criterion=entropy, max_depth=8, score=0.908333 -   0.0s\n",
      "[CV] criterion=entropy, max_depth=8 ..................................\n",
      "[CV] ......... criterion=entropy, max_depth=8, score=0.845833 -   0.0s\n",
      "[CV] criterion=entropy, max_depth=8 ..................................\n",
      "[CV] ......... criterion=entropy, max_depth=8, score=0.808333 -   0.0s\n",
      "[CV] criterion=entropy, max_depth=8 ..................................\n",
      "[CV] ......... criterion=entropy, max_depth=8, score=0.858333 -   0.0s\n",
      "[CV] criterion=entropy, max_depth=8 ..................................\n",
      "[CV] ......... criterion=entropy, max_depth=8, score=0.661616 -   0.0s\n",
      "[CV] criterion=entropy, max_depth=8 ..................................\n",
      "[CV] ......... criterion=entropy, max_depth=8, score=0.803030 -   0.0s\n",
      "[CV] criterion=entropy, max_depth=8 ..................................\n",
      "[CV] ......... criterion=entropy, max_depth=8, score=0.636364 -   0.0s\n",
      "[CV] criterion=entropy, max_depth=8 ..................................\n",
      "[CV] ......... criterion=entropy, max_depth=8, score=0.601010 -   0.0s\n",
      "[CV] criterion=entropy, max_depth=9 ..................................\n",
      "[CV] ......... criterion=entropy, max_depth=9, score=0.825000 -   0.0s\n",
      "[CV] criterion=entropy, max_depth=9 ..................................\n",
      "[CV] ......... criterion=entropy, max_depth=9, score=0.875000 -   0.0s\n",
      "[CV] criterion=entropy, max_depth=9 ..................................\n",
      "[CV] ......... criterion=entropy, max_depth=9, score=0.908333 -   0.0s\n",
      "[CV] criterion=entropy, max_depth=9 ..................................\n",
      "[CV] ......... criterion=entropy, max_depth=9, score=0.845833 -   0.0s\n",
      "[CV] criterion=entropy, max_depth=9 ..................................\n",
      "[CV] ......... criterion=entropy, max_depth=9, score=0.808333 -   0.0s\n",
      "[CV] criterion=entropy, max_depth=9 ..................................\n",
      "[CV] ......... criterion=entropy, max_depth=9, score=0.858333 -   0.0s\n",
      "[CV] criterion=entropy, max_depth=9 ..................................\n",
      "[CV] ......... criterion=entropy, max_depth=9, score=0.661616 -   0.0s\n",
      "[CV] criterion=entropy, max_depth=9 ..................................\n",
      "[CV] ......... criterion=entropy, max_depth=9, score=0.803030 -   0.0s\n",
      "[CV] criterion=entropy, max_depth=9 ..................................\n",
      "[CV] ......... criterion=entropy, max_depth=9, score=0.636364 -   0.0s\n",
      "[CV] criterion=entropy, max_depth=9 ..................................\n",
      "[CV] ......... criterion=entropy, max_depth=9, score=0.601010 -   0.0s\n",
      "[Parallel(n_jobs=1)]: Done 140 out of 140 | elapsed:    0.9s finished\n"
     ]
    },
    {
     "data": {
      "text/plain": [
       "GridSearchCV(cv=10, error_score='raise',\n",
       "       estimator=DecisionTreeClassifier(class_weight=None, criterion='gini', max_depth=None,\n",
       "            max_features=None, max_leaf_nodes=None,\n",
       "            min_impurity_decrease=0.0, min_impurity_split=None,\n",
       "            min_samples_leaf=10, min_samples_split=100,\n",
       "            min_weight_fraction_leaf=0.0, presort=False, random_state=None,\n",
       "            splitter='best'),\n",
       "       fit_params={}, iid=True, n_jobs=1,\n",
       "       param_grid={'criterion': ['gini', 'entropy'], 'max_depth': array([3, 4, 5, 6, 7, 8, 9])},\n",
       "       pre_dispatch='2*n_jobs', refit=True, scoring='roc_auc', verbose=100)"
      ]
     },
     "execution_count": 326,
     "metadata": {},
     "output_type": "execute_result"
    }
   ],
   "source": [
    "## Tuning the Classifier using GridSearchCV\n",
    "from sklearn.grid_search import GridSearchCV\n",
    "help(GridSearchCV)\n",
    "\n",
    "param_dist = {\"criterion\": [\"gini\",\"entropy\"],\n",
    "              \"max_depth\": np.arange(3,10),\n",
    "              }\n",
    "\n",
    "tree = DecisionTreeClassifier(min_samples_split = 100,\n",
    "                             min_samples_leaf = 10)\n",
    "\n",
    "tree_cv  = GridSearchCV(tree, param_dist, cv = 10, \n",
    "                        scoring = 'roc_auc', verbose = 100)\n",
    "\n",
    "tree_cv.fit(x_train,y_train)\n"
   ]
  },
  {
   "cell_type": "code",
   "execution_count": 327,
   "metadata": {},
   "outputs": [
    {
     "name": "stdout",
     "output_type": "stream",
     "text": [
      "Tuned Decision Tree parameter : {'criterion': 'entropy', 'max_depth': 3}\n"
     ]
    },
    {
     "data": {
      "text/plain": [
       "DecisionTreeClassifier(class_weight=None, criterion='entropy', max_depth=3,\n",
       "            max_features=None, max_leaf_nodes=None,\n",
       "            min_impurity_decrease=0.0, min_impurity_split=None,\n",
       "            min_samples_leaf=10, min_samples_split=100,\n",
       "            min_weight_fraction_leaf=0.0, presort=False, random_state=None,\n",
       "            splitter='best')"
      ]
     },
     "execution_count": 327,
     "metadata": {},
     "output_type": "execute_result"
    }
   ],
   "source": [
    "## Building the model using best combination of parameters\n",
    "print(\"Tuned Decision Tree parameter : {}\".format(tree_cv.best_params_))\n",
    "\n",
    "classifier = tree_cv.best_estimator_\n",
    "\n",
    "classifier.fit(x_train,y_train)\n"
   ]
  },
  {
   "cell_type": "code",
   "execution_count": 330,
   "metadata": {},
   "outputs": [
    {
     "data": {
      "text/plain": [
       "0.8006016522988505"
      ]
     },
     "execution_count": 330,
     "metadata": {},
     "output_type": "execute_result"
    }
   ],
   "source": [
    "#predicting probabilities\n",
    "y_train_prob = classifier.predict_proba(x_train)\n",
    "fpr, tpr, thresholds = roc_curve(y_train, y_train_prob[:,1])\n",
    "auc_d = auc(fpr, tpr)\n",
    "auc_d\n"
   ]
  },
  {
   "cell_type": "code",
   "execution_count": 331,
   "metadata": {},
   "outputs": [
    {
     "data": {
      "text/plain": [
       "0.7739825581395348"
      ]
     },
     "execution_count": 331,
     "metadata": {},
     "output_type": "execute_result"
    }
   ],
   "source": [
    "y_test_prob = classifier.predict_proba(x_test)\n",
    "fpr, tpr, thresholds = roc_curve(y_test, y_test_prob[:,1])\n",
    "auc_h = auc(fpr, tpr)\n",
    "auc_h"
   ]
  },
  {
   "cell_type": "code",
   "execution_count": 334,
   "metadata": {},
   "outputs": [],
   "source": [
    "def draw_roc( actual, probs ):\n",
    "    fpr, tpr, thresholds = metrics.roc_curve( actual, probs,\n",
    "    drop_intermediate = False )\n",
    "    auc_score = metrics.roc_auc_score( actual, probs )\n",
    "    plt.figure(figsize=(6, 4))\n",
    "    plt.plot( fpr, tpr, label='ROC curve (area = %0.2f)' % auc_score )\n",
    "    plt.plot([0, 1], [0, 1], 'k--')\n",
    "    plt.xlim([0.0, 1.0])\n",
    "    plt.ylim([0.0, 1.05])\n",
    "    plt.xlabel('False Positive Rate or [1 - True Negative Rate]')\n",
    "    plt.ylabel('True Positive Rate')\n",
    "    plt.title('Receiver operating characteristic curve')\n",
    "    plt.legend(loc=\"lower right\")\n",
    "    plt.show()\n",
    "    return fpr, tpr, thresholds"
   ]
  },
  {
   "cell_type": "code",
   "execution_count": 336,
   "metadata": {},
   "outputs": [],
   "source": [
    "auc_score = metrics.roc_auc_score( y_train,y_train_prob[:,1])\n"
   ]
  },
  {
   "cell_type": "code",
   "execution_count": 337,
   "metadata": {},
   "outputs": [
    {
     "data": {
      "text/plain": [
       "0.8006016522988505"
      ]
     },
     "execution_count": 337,
     "metadata": {},
     "output_type": "execute_result"
    }
   ],
   "source": [
    "auc_score"
   ]
  },
  {
   "cell_type": "code",
   "execution_count": 338,
   "metadata": {},
   "outputs": [
    {
     "data": {
      "image/png": "[encoded data removed]",
      "text/plain": [
       "<Figure size 432x288 with 1 Axes>"
      ]
     },
     "metadata": {},
     "output_type": "display_data"
    }
   ],
   "source": [
    "fpr, tpr, thresholds = draw_roc(y_train,y_train_prob[:,1])"
   ]
  },
  {
   "cell_type": "code",
   "execution_count": null,
   "metadata": {},
   "outputs": [],
   "source": []
  }
 ],
 "metadata": {
  "kernelspec": {
   "display_name": "Python 3",
   "language": "python",
   "name": "python3"
  },
  "language_info": {
   "codemirror_mode": {
    "name": "ipython",
    "version": 3
   },
   "file_extension": ".py",
   "mimetype": "text/x-python",
   "name": "python",
   "nbconvert_exporter": "python",
   "pygments_lexer": "ipython3",
   "version": "3.6.5"
  }
 },
 "nbformat": 4,
 "nbformat_minor": 2
}
